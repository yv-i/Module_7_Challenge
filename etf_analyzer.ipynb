{
 "cells": [
  {
   "cell_type": "markdown",
   "metadata": {},
   "source": [
    "# Create a Web Application for an ETF Analyzer\n",
    "\n",
    "In this Challenge assignment, you’ll build a financial database and web application by using SQL, Python, and the Voilà library to analyze the performance of a hypothetical fintech ETF.\n",
    "\n",
    "Instructions: \n",
    "\n",
    "Use this notebook to complete your analysis of a fintech ETF that consists of four stocks: GOST, GS, PYPL, and SQ. Each stock has its own table in the `etf.db` database, which the `Starter_Code` folder also contains.\n",
    "\n",
    "Analyze the daily returns of the ETF stocks both individually and as a whole. Then deploy the visualizations to a web application by using the Voilà library.\n",
    "\n",
    "The detailed instructions are divided into the following parts:\n",
    "\n",
    "* Analyze a single asset in the ETF\n",
    "\n",
    "* Optimize data access with Advanced SQL queries\n",
    "\n",
    "* Analyze the ETF portfolio\n",
    "\n",
    "* Deploy the notebook as a web application\n",
    "\n",
    "#### Analyze a Single Asset in the ETF\n",
    "\n",
    "For this part of the assignment, you’ll use SQL queries with Python, Pandas, and hvPlot to analyze the performance of a single asset from the ETF.\n",
    "\n",
    "Complete the following steps:\n",
    "\n",
    "1. Write a SQL `SELECT` statement by using an f-string that reads all the PYPL data from the database. Using the SQL `SELECT` statement, execute a query that reads the PYPL data from the database into a Pandas DataFrame.\n",
    "\n",
    "2. Use the `head` and `tail` functions to review the first five and the last five rows of the DataFrame. Make a note of the beginning and end dates that are available from this dataset. You’ll use this information to complete your analysis.\n",
    "\n",
    "3. Using hvPlot, create an interactive visualization for the PYPL daily returns. Reflect the “time” column of the DataFrame on the x-axis. Make sure that you professionally style and format your visualization to enhance its readability.\n",
    "\n",
    "4. Using hvPlot, create an interactive visualization for the PYPL cumulative returns. Reflect the “time” column of the DataFrame on the x-axis. Make sure that you professionally style and format your visualization to enhance its readability.\n",
    "\n",
    "#### Optimize Data Access with Advanced SQL Queries\n",
    "\n",
    "For this part of the assignment, you’ll continue to analyze a single asset (PYPL) from the ETF. You’ll use advanced SQL queries to optimize the efficiency of accessing data from the database.\n",
    "\n",
    "Complete the following steps:\n",
    "\n",
    "1. Access the closing prices for PYPL that are greater than 200 by completing the following steps:\n",
    "\n",
    "    - Write a SQL `SELECT` statement to select the dates where the PYPL closing price was higher than 200.0.\n",
    "\n",
    "    - Using the SQL statement, read the data from the database into a Pandas DataFrame, and then review the resulting DataFrame.\n",
    "\n",
    "    - Select the “time” and “close” columns for those dates where the closing price was higher than 200.0.\n",
    "\n",
    "2. Find the top 10 daily returns for PYPL by completing the following steps:\n",
    "\n",
    "    -  Write a SQL statement to find the top 10 PYPL daily returns. Make sure to do the following:\n",
    "\n",
    "        * Use `SELECT` to select only the “time” and “daily_returns” columns.\n",
    "\n",
    "        * Use `ORDER` to sort the results in descending order by the “daily_returns” column.\n",
    "\n",
    "        * Use `LIMIT` to limit the results to the top 10 daily return values.\n",
    "\n",
    "    - Using the SQL statement, read the data from the database into a Pandas DataFrame, and then review the resulting DataFrame.\n",
    "\n",
    "#### Analyze the ETF Portfolio\n",
    "\n",
    "For this part of the assignment, you’ll build the entire ETF portfolio and then evaluate its performance. To do so, you’ll build the ETF portfolio by using SQL joins to combine all the data for each asset.\n",
    "\n",
    "Complete the following steps:\n",
    "\n",
    "1. Write a SQL query to join each table in the portfolio into a single DataFrame. To do so, complete the following steps:\n",
    "\n",
    "    - Use a SQL inner join to join each table on the “time” column. Access the “time” column in the `GDOT` table via the `GDOT.time` syntax. Access the “time” columns from the other tables via similar syntax.\n",
    "\n",
    "    - Using the SQL query, read the data from the database into a Pandas DataFrame. Review the resulting DataFrame.\n",
    "\n",
    "2. Create a DataFrame that averages the “daily_returns” columns for all four assets. Review the resulting DataFrame.\n",
    "\n",
    "    > **Hint** Assuming that this ETF contains equally weighted returns, you can average the returns for each asset to get the average returns of the portfolio. You can then use the average returns of the portfolio to calculate the annualized returns and the cumulative returns. For the calculation to get the average daily returns for the portfolio, use the following code:\n",
    "    >\n",
    "    > ```python\n",
    "    > etf_portfolio_returns = etf_portfolio['daily_returns'].mean(axis=1)\n",
    "    > ```\n",
    "    >\n",
    "    > You can use the average daily returns of the portfolio the same way that you used the daily returns of a single asset.\n",
    "\n",
    "3. Use the average daily returns in the `etf_portfolio_returns` DataFrame to calculate the annualized returns for the portfolio. Display the annualized return value of the ETF portfolio.\n",
    "\n",
    "> **Hint**  To calculate the annualized returns, multiply the mean of the `etf_portfolio_returns` values by 252.\n",
    ">\n",
    "> To convert the decimal values to percentages, multiply the results by 100.\n",
    "\n",
    "4. Use the average daily returns in the `etf_portfolio_returns` DataFrame to calculate the cumulative returns of the ETF portfolio.\n",
    "\n",
    "5. Using hvPlot, create an interactive line plot that visualizes the cumulative return values of the ETF portfolio. Reflect the “time” column of the DataFrame on the x-axis. Make sure that you professionally style and format your visualization to enhance its readability.\n",
    "\n",
    "#### Deploy the Notebook as a Web Application\n",
    "\n",
    "For this part of the assignment, complete the following steps:\n",
    "\n",
    "1. Use the Voilà library to deploy your notebook as a web application. You can deploy the web application locally on your computer.\n",
    "\n",
    "2. Take a screen recording or screenshots to show how the web application appears when using Voilà. Include the recording or screenshots in the `README.md` file for your GitHub repository.\n"
   ]
  },
  {
   "cell_type": "markdown",
   "metadata": {},
   "source": [
    "## Review the following code which imports the required libraries, initiates your SQLite database, popluates the database with records from the `etf.db` seed file that was included in your Starter_Code folder, creates the database engine, and confirms that data tables that it now contains."
   ]
  },
  {
   "cell_type": "code",
   "execution_count": 4,
   "metadata": {},
   "outputs": [
    {
     "name": "stderr",
     "output_type": "stream",
     "text": [
      "/opt/anaconda3/envs/dev/lib/python3.7/site-packages/ipykernel_launcher.py:14: SADeprecationWarning: The Engine.table_names() method is deprecated and will be removed in a future release.  Please refer to Inspector.get_table_names(). (deprecated since: 1.4)\n",
      "  \n"
     ]
    },
    {
     "data": {
      "text/plain": [
       "['GDOT', 'GS', 'PYPL', 'SQ']"
      ]
     },
     "execution_count": 4,
     "metadata": {},
     "output_type": "execute_result"
    }
   ],
   "source": [
    "# Importing the required libraries and dependencies\n",
    "import numpy as np\n",
    "import pandas as pd\n",
    "import hvplot.pandas\n",
    "import sqlalchemy\n",
    "\n",
    "# Create a temporary SQLite database and populate the database with content from the etf.db seed file\n",
    "database_connection_string = 'sqlite:///etf.db'\n",
    "\n",
    "# Create an engine to interact with the SQLite database\n",
    "engine = sqlalchemy.create_engine(database_connection_string)\n",
    "\n",
    "# Confirm that table names contained in the SQLite database.\n",
    "engine.table_names()"
   ]
  },
  {
   "cell_type": "markdown",
   "metadata": {},
   "source": [
    "## Analyze a single asset in the FinTech ETF\n",
    "\n",
    "For this part of the assignment, you’ll use SQL queries with Python, Pandas, and hvPlot to analyze the performance of a single asset from the ETF.\n",
    "\n",
    "Complete the following steps:\n",
    "\n",
    "1. Write a SQL `SELECT` statement by using an f-string that reads all the PYPL data from the database. Using the SQL `SELECT` statement, execute a query that reads the PYPL data from the database into a Pandas DataFrame.\n",
    "\n",
    "2. Use the `head` and `tail` functions to review the first five and the last five rows of the DataFrame. Make a note of the beginning and end dates that are available from this dataset. You’ll use this information to complete your analysis.\n",
    "\n",
    "3. Using hvPlot, create an interactive visualization for the PYPL daily returns. Reflect the “time” column of the DataFrame on the x-axis. Make sure that you professionally style and format your visualization to enhance its readability.\n",
    "\n",
    "4. Using hvPlot, create an interactive visualization for the PYPL cumulative returns. Reflect the “time” column of the DataFrame on the x-axis. Make sure that you professionally style and format your visualization to enhance its readability.\n",
    "\n"
   ]
  },
  {
   "cell_type": "markdown",
   "metadata": {},
   "source": [
    "### Step 1: Write a SQL `SELECT` statement by using an f-string that reads all the PYPL data from the database. Using the SQL `SELECT` statement, execute a query that reads the PYPL data from the database into a Pandas DataFrame."
   ]
  },
  {
   "cell_type": "code",
   "execution_count": 24,
   "metadata": {},
   "outputs": [],
   "source": [
    "# Write a SQL query to SELECT all of the data from the PYPL table\n",
    "query = \"SELECT * FROM PYPL\"\n",
    "\n",
    "# Use the query to read the PYPL data into a Pandas DataFrame\n",
    "pypl_dataframe =  pd.read_sql_query(query, engine, parse_dates=True)\n"
   ]
  },
  {
   "cell_type": "markdown",
   "metadata": {},
   "source": [
    "### Step 2: Use the `head` and `tail` functions to review the first five and the last five rows of the DataFrame. Make a note of the beginning and end dates that are available from this dataset. You’ll use this information to complete your analysis."
   ]
  },
  {
   "cell_type": "code",
   "execution_count": 25,
   "metadata": {},
   "outputs": [
    {
     "data": {
      "text/html": [
       "<div>\n",
       "<style scoped>\n",
       "    .dataframe tbody tr th:only-of-type {\n",
       "        vertical-align: middle;\n",
       "    }\n",
       "\n",
       "    .dataframe tbody tr th {\n",
       "        vertical-align: top;\n",
       "    }\n",
       "\n",
       "    .dataframe thead th {\n",
       "        text-align: right;\n",
       "    }\n",
       "</style>\n",
       "<table border=\"1\" class=\"dataframe\">\n",
       "  <thead>\n",
       "    <tr style=\"text-align: right;\">\n",
       "      <th></th>\n",
       "      <th>time</th>\n",
       "      <th>open</th>\n",
       "      <th>high</th>\n",
       "      <th>low</th>\n",
       "      <th>close</th>\n",
       "      <th>volume</th>\n",
       "      <th>daily_returns</th>\n",
       "    </tr>\n",
       "  </thead>\n",
       "  <tbody>\n",
       "    <tr>\n",
       "      <th>0</th>\n",
       "      <td>2016-12-16 00:00:00.000000</td>\n",
       "      <td>39.90</td>\n",
       "      <td>39.90</td>\n",
       "      <td>39.12</td>\n",
       "      <td>39.32</td>\n",
       "      <td>7298861</td>\n",
       "      <td>-0.005564</td>\n",
       "    </tr>\n",
       "    <tr>\n",
       "      <th>1</th>\n",
       "      <td>2016-12-19 00:00:00.000000</td>\n",
       "      <td>39.40</td>\n",
       "      <td>39.80</td>\n",
       "      <td>39.11</td>\n",
       "      <td>39.45</td>\n",
       "      <td>3436478</td>\n",
       "      <td>0.003306</td>\n",
       "    </tr>\n",
       "    <tr>\n",
       "      <th>2</th>\n",
       "      <td>2016-12-20 00:00:00.000000</td>\n",
       "      <td>39.61</td>\n",
       "      <td>39.74</td>\n",
       "      <td>39.26</td>\n",
       "      <td>39.74</td>\n",
       "      <td>2940991</td>\n",
       "      <td>0.007351</td>\n",
       "    </tr>\n",
       "    <tr>\n",
       "      <th>3</th>\n",
       "      <td>2016-12-21 00:00:00.000000</td>\n",
       "      <td>39.84</td>\n",
       "      <td>40.74</td>\n",
       "      <td>39.82</td>\n",
       "      <td>40.09</td>\n",
       "      <td>5826704</td>\n",
       "      <td>0.008807</td>\n",
       "    </tr>\n",
       "    <tr>\n",
       "      <th>4</th>\n",
       "      <td>2016-12-22 00:00:00.000000</td>\n",
       "      <td>40.04</td>\n",
       "      <td>40.09</td>\n",
       "      <td>39.54</td>\n",
       "      <td>39.68</td>\n",
       "      <td>4338385</td>\n",
       "      <td>-0.010227</td>\n",
       "    </tr>\n",
       "  </tbody>\n",
       "</table>\n",
       "</div>"
      ],
      "text/plain": [
       "                         time   open   high    low  close   volume  \\\n",
       "0  2016-12-16 00:00:00.000000  39.90  39.90  39.12  39.32  7298861   \n",
       "1  2016-12-19 00:00:00.000000  39.40  39.80  39.11  39.45  3436478   \n",
       "2  2016-12-20 00:00:00.000000  39.61  39.74  39.26  39.74  2940991   \n",
       "3  2016-12-21 00:00:00.000000  39.84  40.74  39.82  40.09  5826704   \n",
       "4  2016-12-22 00:00:00.000000  40.04  40.09  39.54  39.68  4338385   \n",
       "\n",
       "   daily_returns  \n",
       "0      -0.005564  \n",
       "1       0.003306  \n",
       "2       0.007351  \n",
       "3       0.008807  \n",
       "4      -0.010227  "
      ]
     },
     "execution_count": 25,
     "metadata": {},
     "output_type": "execute_result"
    }
   ],
   "source": [
    "# View the first 5 rows of the DataFrame.\n",
    "# YOUR CODE HERE\n",
    "pypl_dataframe.head()"
   ]
  },
  {
   "cell_type": "code",
   "execution_count": 10,
   "metadata": {},
   "outputs": [
    {
     "data": {
      "text/html": [
       "<div>\n",
       "<style scoped>\n",
       "    .dataframe tbody tr th:only-of-type {\n",
       "        vertical-align: middle;\n",
       "    }\n",
       "\n",
       "    .dataframe tbody tr th {\n",
       "        vertical-align: top;\n",
       "    }\n",
       "\n",
       "    .dataframe thead th {\n",
       "        text-align: right;\n",
       "    }\n",
       "</style>\n",
       "<table border=\"1\" class=\"dataframe\">\n",
       "  <thead>\n",
       "    <tr style=\"text-align: right;\">\n",
       "      <th></th>\n",
       "      <th>time</th>\n",
       "      <th>open</th>\n",
       "      <th>high</th>\n",
       "      <th>low</th>\n",
       "      <th>close</th>\n",
       "      <th>volume</th>\n",
       "      <th>daily_returns</th>\n",
       "    </tr>\n",
       "  </thead>\n",
       "  <tbody>\n",
       "    <tr>\n",
       "      <th>994</th>\n",
       "      <td>2020-11-30 00:00:00.000000</td>\n",
       "      <td>212.51</td>\n",
       "      <td>215.83</td>\n",
       "      <td>207.0900</td>\n",
       "      <td>214.200</td>\n",
       "      <td>8992681</td>\n",
       "      <td>0.013629</td>\n",
       "    </tr>\n",
       "    <tr>\n",
       "      <th>995</th>\n",
       "      <td>2020-12-01 00:00:00.000000</td>\n",
       "      <td>217.15</td>\n",
       "      <td>220.57</td>\n",
       "      <td>214.3401</td>\n",
       "      <td>216.520</td>\n",
       "      <td>9148174</td>\n",
       "      <td>0.010831</td>\n",
       "    </tr>\n",
       "    <tr>\n",
       "      <th>996</th>\n",
       "      <td>2020-12-02 00:00:00.000000</td>\n",
       "      <td>215.60</td>\n",
       "      <td>215.75</td>\n",
       "      <td>210.5000</td>\n",
       "      <td>212.660</td>\n",
       "      <td>6414746</td>\n",
       "      <td>-0.017827</td>\n",
       "    </tr>\n",
       "    <tr>\n",
       "      <th>997</th>\n",
       "      <td>2020-12-03 00:00:00.000000</td>\n",
       "      <td>213.33</td>\n",
       "      <td>216.93</td>\n",
       "      <td>213.1100</td>\n",
       "      <td>214.680</td>\n",
       "      <td>6463339</td>\n",
       "      <td>0.009499</td>\n",
       "    </tr>\n",
       "    <tr>\n",
       "      <th>998</th>\n",
       "      <td>2020-12-04 00:00:00.000000</td>\n",
       "      <td>214.88</td>\n",
       "      <td>217.28</td>\n",
       "      <td>213.0100</td>\n",
       "      <td>217.235</td>\n",
       "      <td>2118319</td>\n",
       "      <td>0.011901</td>\n",
       "    </tr>\n",
       "  </tbody>\n",
       "</table>\n",
       "</div>"
      ],
      "text/plain": [
       "                           time    open    high       low    close   volume  \\\n",
       "994  2020-11-30 00:00:00.000000  212.51  215.83  207.0900  214.200  8992681   \n",
       "995  2020-12-01 00:00:00.000000  217.15  220.57  214.3401  216.520  9148174   \n",
       "996  2020-12-02 00:00:00.000000  215.60  215.75  210.5000  212.660  6414746   \n",
       "997  2020-12-03 00:00:00.000000  213.33  216.93  213.1100  214.680  6463339   \n",
       "998  2020-12-04 00:00:00.000000  214.88  217.28  213.0100  217.235  2118319   \n",
       "\n",
       "     daily_returns  \n",
       "994       0.013629  \n",
       "995       0.010831  \n",
       "996      -0.017827  \n",
       "997       0.009499  \n",
       "998       0.011901  "
      ]
     },
     "execution_count": 10,
     "metadata": {},
     "output_type": "execute_result"
    }
   ],
   "source": [
    "# View the last 5 rows of the DataFrame.\n",
    "# YOUR CODE HERE\n",
    "pypl_dataframe.tail()"
   ]
  },
  {
   "cell_type": "code",
   "execution_count": 50,
   "metadata": {},
   "outputs": [
    {
     "data": {
      "text/html": [
       "<div>\n",
       "<style scoped>\n",
       "    .dataframe tbody tr th:only-of-type {\n",
       "        vertical-align: middle;\n",
       "    }\n",
       "\n",
       "    .dataframe tbody tr th {\n",
       "        vertical-align: top;\n",
       "    }\n",
       "\n",
       "    .dataframe thead th {\n",
       "        text-align: right;\n",
       "    }\n",
       "</style>\n",
       "<table border=\"1\" class=\"dataframe\">\n",
       "  <thead>\n",
       "    <tr style=\"text-align: right;\">\n",
       "      <th></th>\n",
       "      <th>daily_returns</th>\n",
       "    </tr>\n",
       "    <tr>\n",
       "      <th>time</th>\n",
       "      <th></th>\n",
       "    </tr>\n",
       "  </thead>\n",
       "  <tbody>\n",
       "    <tr>\n",
       "      <th>2016-12-16 00:00:00.000000</th>\n",
       "      <td>-0.005564</td>\n",
       "    </tr>\n",
       "    <tr>\n",
       "      <th>2016-12-19 00:00:00.000000</th>\n",
       "      <td>0.003306</td>\n",
       "    </tr>\n",
       "    <tr>\n",
       "      <th>2016-12-20 00:00:00.000000</th>\n",
       "      <td>0.007351</td>\n",
       "    </tr>\n",
       "    <tr>\n",
       "      <th>2016-12-21 00:00:00.000000</th>\n",
       "      <td>0.008807</td>\n",
       "    </tr>\n",
       "    <tr>\n",
       "      <th>2016-12-22 00:00:00.000000</th>\n",
       "      <td>-0.010227</td>\n",
       "    </tr>\n",
       "    <tr>\n",
       "      <th>...</th>\n",
       "      <td>...</td>\n",
       "    </tr>\n",
       "    <tr>\n",
       "      <th>2020-11-30 00:00:00.000000</th>\n",
       "      <td>0.013629</td>\n",
       "    </tr>\n",
       "    <tr>\n",
       "      <th>2020-12-01 00:00:00.000000</th>\n",
       "      <td>0.010831</td>\n",
       "    </tr>\n",
       "    <tr>\n",
       "      <th>2020-12-02 00:00:00.000000</th>\n",
       "      <td>-0.017827</td>\n",
       "    </tr>\n",
       "    <tr>\n",
       "      <th>2020-12-03 00:00:00.000000</th>\n",
       "      <td>0.009499</td>\n",
       "    </tr>\n",
       "    <tr>\n",
       "      <th>2020-12-04 00:00:00.000000</th>\n",
       "      <td>0.011901</td>\n",
       "    </tr>\n",
       "  </tbody>\n",
       "</table>\n",
       "<p>999 rows × 1 columns</p>\n",
       "</div>"
      ],
      "text/plain": [
       "                            daily_returns\n",
       "time                                     \n",
       "2016-12-16 00:00:00.000000      -0.005564\n",
       "2016-12-19 00:00:00.000000       0.003306\n",
       "2016-12-20 00:00:00.000000       0.007351\n",
       "2016-12-21 00:00:00.000000       0.008807\n",
       "2016-12-22 00:00:00.000000      -0.010227\n",
       "...                                   ...\n",
       "2020-11-30 00:00:00.000000       0.013629\n",
       "2020-12-01 00:00:00.000000       0.010831\n",
       "2020-12-02 00:00:00.000000      -0.017827\n",
       "2020-12-03 00:00:00.000000       0.009499\n",
       "2020-12-04 00:00:00.000000       0.011901\n",
       "\n",
       "[999 rows x 1 columns]"
      ]
     },
     "execution_count": 50,
     "metadata": {},
     "output_type": "execute_result"
    }
   ],
   "source": [
    "pypl_dataframe_daily_returns = pypl_dataframe[['daily_returns', 'time']].set_index('time')\n",
    "pypl_dataframe_daily_returns"
   ]
  },
  {
   "cell_type": "code",
   "execution_count": 51,
   "metadata": {},
   "outputs": [
    {
     "data": {},
     "metadata": {},
     "output_type": "display_data"
    },
    {
     "data": {
      "application/vnd.holoviews_exec.v0+json": "",
      "text/html": [
       "<div id='3772'>\n",
       "  <div class=\"bk-root\" id=\"85f1879c-dfbc-45b6-a315-aeae304e5f15\" data-root-id=\"3772\"></div>\n",
       "</div>\n",
       "<script type=\"application/javascript\">(function(root) {\n",
       "  function embed_document(root) {\n",
       "    var docs_json = {\"093596c3-1faa-40e2-b351-62b828f5450f\":{\"defs\":[{\"extends\":null,\"module\":null,\"name\":\"ReactiveHTML1\",\"overrides\":[],\"properties\":[]},{\"extends\":null,\"module\":null,\"name\":\"FlexBox1\",\"overrides\":[],\"properties\":[{\"default\":\"flex-start\",\"kind\":null,\"name\":\"align_content\"},{\"default\":\"flex-start\",\"kind\":null,\"name\":\"align_items\"},{\"default\":\"row\",\"kind\":null,\"name\":\"flex_direction\"},{\"default\":\"wrap\",\"kind\":null,\"name\":\"flex_wrap\"},{\"default\":\"flex-start\",\"kind\":null,\"name\":\"justify_content\"}]},{\"extends\":null,\"module\":null,\"name\":\"GridStack1\",\"overrides\":[],\"properties\":[{\"default\":\"warn\",\"kind\":null,\"name\":\"mode\"},{\"default\":null,\"kind\":null,\"name\":\"ncols\"},{\"default\":null,\"kind\":null,\"name\":\"nrows\"},{\"default\":true,\"kind\":null,\"name\":\"allow_resize\"},{\"default\":true,\"kind\":null,\"name\":\"allow_drag\"},{\"default\":[],\"kind\":null,\"name\":\"state\"}]},{\"extends\":null,\"module\":null,\"name\":\"click1\",\"overrides\":[],\"properties\":[{\"default\":\"\",\"kind\":null,\"name\":\"terminal_output\"},{\"default\":\"\",\"kind\":null,\"name\":\"debug_name\"},{\"default\":0,\"kind\":null,\"name\":\"clears\"}]},{\"extends\":null,\"module\":null,\"name\":\"NotificationAreaBase1\",\"overrides\":[],\"properties\":[{\"default\":\"bottom-right\",\"kind\":null,\"name\":\"position\"},{\"default\":0,\"kind\":null,\"name\":\"_clear\"}]},{\"extends\":null,\"module\":null,\"name\":\"NotificationArea1\",\"overrides\":[],\"properties\":[{\"default\":[],\"kind\":null,\"name\":\"notifications\"},{\"default\":\"bottom-right\",\"kind\":null,\"name\":\"position\"},{\"default\":0,\"kind\":null,\"name\":\"_clear\"},{\"default\":[{\"background\":\"#ffc107\",\"icon\":{\"className\":\"fas fa-exclamation-triangle\",\"color\":\"white\",\"tagName\":\"i\"},\"type\":\"warning\"},{\"background\":\"#007bff\",\"icon\":{\"className\":\"fas fa-info-circle\",\"color\":\"white\",\"tagName\":\"i\"},\"type\":\"info\"}],\"kind\":null,\"name\":\"types\"}]},{\"extends\":null,\"module\":null,\"name\":\"Notification\",\"overrides\":[],\"properties\":[{\"default\":null,\"kind\":null,\"name\":\"background\"},{\"default\":3000,\"kind\":null,\"name\":\"duration\"},{\"default\":null,\"kind\":null,\"name\":\"icon\"},{\"default\":\"\",\"kind\":null,\"name\":\"message\"},{\"default\":null,\"kind\":null,\"name\":\"notification_type\"},{\"default\":false,\"kind\":null,\"name\":\"_destroyed\"}]},{\"extends\":null,\"module\":null,\"name\":\"TemplateActions1\",\"overrides\":[],\"properties\":[{\"default\":0,\"kind\":null,\"name\":\"open_modal\"},{\"default\":0,\"kind\":null,\"name\":\"close_modal\"}]},{\"extends\":null,\"module\":null,\"name\":\"MaterialTemplateActions1\",\"overrides\":[],\"properties\":[{\"default\":0,\"kind\":null,\"name\":\"open_modal\"},{\"default\":0,\"kind\":null,\"name\":\"close_modal\"}]}],\"roots\":{\"references\":[{\"attributes\":{\"format\":\"%02f\"},\"id\":\"3815\",\"type\":\"PrintfTickFormatter\"},{\"attributes\":{\"callback\":null,\"renderers\":[{\"id\":\"3812\"}],\"tags\":[\"hv_created\"],\"tooltips\":[[\"time\",\"@{time}\"],[\"daily_returns\",\"@{daily_returns}\"]]},\"id\":\"3776\",\"type\":\"HoverTool\"},{\"attributes\":{},\"id\":\"3790\",\"type\":\"BasicTicker\"},{\"attributes\":{\"bottom_units\":\"screen\",\"coordinates\":null,\"fill_alpha\":0.5,\"fill_color\":\"lightgrey\",\"group\":null,\"left_units\":\"screen\",\"level\":\"overlay\",\"line_alpha\":1.0,\"line_color\":\"black\",\"line_dash\":[4,4],\"line_width\":2,\"right_units\":\"screen\",\"syncable\":false,\"top_units\":\"screen\"},\"id\":\"3798\",\"type\":\"BoxAnnotation\"},{\"attributes\":{\"margin\":[5,5,5,5],\"name\":\"HSpacer03989\",\"sizing_mode\":\"stretch_width\"},\"id\":\"3773\",\"type\":\"Spacer\"},{\"attributes\":{\"coordinates\":null,\"data_source\":{\"id\":\"3806\"},\"glyph\":{\"id\":\"3809\"},\"group\":null,\"hover_glyph\":null,\"muted_glyph\":{\"id\":\"3811\"},\"nonselection_glyph\":{\"id\":\"3810\"},\"selection_glyph\":{\"id\":\"3814\"},\"view\":{\"id\":\"3813\"}},\"id\":\"3812\",\"type\":\"GlyphRenderer\"},{\"attributes\":{},\"id\":\"3818\",\"type\":\"AllLabels\"},{\"attributes\":{\"line_color\":\"#30a2da\",\"line_width\":2,\"x\":{\"field\":\"time\"},\"y\":{\"field\":\"daily_returns\"}},\"id\":\"3814\",\"type\":\"Line\"},{\"attributes\":{},\"id\":\"3817\",\"type\":\"CategoricalTickFormatter\"},{\"attributes\":{},\"id\":\"3807\",\"type\":\"Selection\"},{\"attributes\":{\"axis_label\":\"daily_returns\",\"coordinates\":null,\"formatter\":{\"id\":\"3815\"},\"group\":null,\"major_label_policy\":{\"id\":\"3821\"},\"ticker\":{\"id\":\"3790\"}},\"id\":\"3789\",\"type\":\"LinearAxis\"},{\"attributes\":{},\"id\":\"3782\",\"type\":\"CategoricalScale\"},{\"attributes\":{},\"id\":\"3797\",\"type\":\"ResetTool\"},{\"attributes\":{},\"id\":\"3793\",\"type\":\"SaveTool\"},{\"attributes\":{\"below\":[{\"id\":\"3786\"}],\"center\":[{\"id\":\"3788\"},{\"id\":\"3792\"}],\"height\":500,\"left\":[{\"id\":\"3789\"}],\"margin\":[5,5,5,5],\"min_border_bottom\":10,\"min_border_left\":10,\"min_border_right\":10,\"min_border_top\":10,\"renderers\":[{\"id\":\"3812\"}],\"sizing_mode\":\"fixed\",\"title\":{\"id\":\"3778\"},\"toolbar\":{\"id\":\"3799\"},\"width\":1000,\"x_range\":{\"id\":\"3774\"},\"x_scale\":{\"id\":\"3782\"},\"y_range\":{\"id\":\"3775\"},\"y_scale\":{\"id\":\"3784\"}},\"id\":\"3777\",\"subtype\":\"Figure\",\"type\":\"Plot\"},{\"attributes\":{},\"id\":\"3794\",\"type\":\"PanTool\"},{\"attributes\":{},\"id\":\"3830\",\"type\":\"UnionRenderers\"},{\"attributes\":{\"margin\":[5,5,5,5],\"name\":\"HSpacer03990\",\"sizing_mode\":\"stretch_width\"},\"id\":\"3833\",\"type\":\"Spacer\"},{\"attributes\":{\"axis\":{\"id\":\"3786\"},\"coordinates\":null,\"grid_line_color\":null,\"group\":null,\"ticker\":null},\"id\":\"3788\",\"type\":\"Grid\"},{\"attributes\":{\"coordinates\":null,\"group\":null,\"text\":\"Daily Returns for PYPL\",\"text_color\":\"black\",\"text_font_size\":\"12pt\"},\"id\":\"3778\",\"type\":\"Title\"},{\"attributes\":{\"tools\":[{\"id\":\"3776\"},{\"id\":\"3793\"},{\"id\":\"3794\"},{\"id\":\"3795\"},{\"id\":\"3796\"},{\"id\":\"3797\"}]},\"id\":\"3799\",\"type\":\"Toolbar\"},{\"attributes\":{\"axis_label\":\"time\",\"coordinates\":null,\"formatter\":{\"id\":\"3817\"},\"group\":null,\"major_label_policy\":{\"id\":\"3818\"},\"ticker\":{\"id\":\"3787\"}},\"id\":\"3786\",\"type\":\"CategoricalAxis\"},{\"attributes\":{\"children\":[{\"id\":\"3773\"},{\"id\":\"3777\"},{\"id\":\"3833\"}],\"margin\":[0,0,0,0],\"name\":\"Row03985\",\"tags\":[\"embedded\"]},\"id\":\"3772\",\"type\":\"Row\"},{\"attributes\":{},\"id\":\"3795\",\"type\":\"WheelZoomTool\"},{\"attributes\":{},\"id\":\"3784\",\"type\":\"LinearScale\"},{\"attributes\":{},\"id\":\"3821\",\"type\":\"AllLabels\"},{\"attributes\":{\"data\":{\"daily_returns\":{\"__ndarray__\":\"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\",\"dtype\":\"float64\",\"order\":\"little\",\"shape\":[999]},\"time\":[\"2016-12-16 00:00:00.000000\",\"2016-12-19 00:00:00.000000\",\"2016-12-20 00:00:00.000000\",\"2016-12-21 00:00:00.000000\",\"2016-12-22 00:00:00.000000\",\"2016-12-23 00:00:00.000000\",\"2016-12-27 00:00:00.000000\",\"2016-12-28 00:00:00.000000\",\"2016-12-29 00:00:00.000000\",\"2016-12-30 00:00:00.000000\",\"2017-01-03 00:00:00.000000\",\"2017-01-04 00:00:00.000000\",\"2017-01-05 00:00:00.000000\",\"2017-01-06 00:00:00.000000\",\"2017-01-09 00:00:00.000000\",\"2017-01-10 00:00:00.000000\",\"2017-01-11 00:00:00.000000\",\"2017-01-12 00:00:00.000000\",\"2017-01-13 00:00:00.000000\",\"2017-01-17 00:00:00.000000\",\"2017-01-18 00:00:00.000000\",\"2017-01-19 00:00:00.000000\",\"2017-01-20 00:00:00.000000\",\"2017-01-23 00:00:00.000000\",\"2017-01-24 00:00:00.000000\",\"2017-01-25 00:00:00.000000\",\"2017-01-26 00:00:00.000000\",\"2017-01-27 00:00:00.000000\",\"2017-01-30 00:00:00.000000\",\"2017-01-31 00:00:00.000000\",\"2017-02-01 00:00:00.000000\",\"2017-02-02 00:00:00.000000\",\"2017-02-03 00:00:00.000000\",\"2017-02-06 00:00:00.000000\",\"2017-02-07 00:00:00.000000\",\"2017-02-08 00:00:00.000000\",\"2017-02-09 00:00:00.000000\",\"2017-02-10 00:00:00.000000\",\"2017-02-13 00:00:00.000000\",\"2017-02-14 00:00:00.000000\",\"2017-02-15 00:00:00.000000\",\"2017-02-16 00:00:00.000000\",\"2017-02-17 00:00:00.000000\",\"2017-02-21 00:00:00.000000\",\"2017-02-22 00:00:00.000000\",\"2017-02-23 00:00:00.000000\",\"2017-02-24 00:00:00.000000\",\"2017-02-27 00:00:00.000000\",\"2017-02-28 00:00:00.000000\",\"2017-03-01 00:00:00.000000\",\"2017-03-02 00:00:00.000000\",\"2017-03-03 00:00:00.000000\",\"2017-03-06 00:00:00.000000\",\"2017-03-07 00:00:00.000000\",\"2017-03-08 00:00:00.000000\",\"2017-03-09 00:00:00.000000\",\"2017-03-10 00:00:00.000000\",\"2017-03-13 00:00:00.000000\",\"2017-03-14 00:00:00.000000\",\"2017-03-15 00:00:00.000000\",\"2017-03-16 00:00:00.000000\",\"2017-03-17 00:00:00.000000\",\"2017-03-20 00:00:00.000000\",\"2017-03-21 00:00:00.000000\",\"2017-03-22 00:00:00.000000\",\"2017-03-23 00:00:00.000000\",\"2017-03-24 00:00:00.000000\",\"2017-03-27 00:00:00.000000\",\"2017-03-28 00:00:00.000000\",\"2017-03-29 00:00:00.000000\",\"2017-03-30 00:00:00.000000\",\"2017-03-31 00:00:00.000000\",\"2017-04-03 00:00:00.000000\",\"2017-04-04 00:00:00.000000\",\"2017-04-05 00:00:00.000000\",\"2017-04-06 00:00:00.000000\",\"2017-04-07 00:00:00.000000\",\"2017-04-10 00:00:00.000000\",\"2017-04-11 00:00:00.000000\",\"2017-04-12 00:00:00.000000\",\"2017-04-13 00:00:00.000000\",\"2017-04-17 00:00:00.000000\",\"2017-04-18 00:00:00.000000\",\"2017-04-19 00:00:00.000000\",\"2017-04-20 00:00:00.000000\",\"2017-04-21 00:00:00.000000\",\"2017-04-24 00:00:00.000000\",\"2017-04-25 00:00:00.000000\",\"2017-04-26 00:00:00.000000\",\"2017-04-27 00:00:00.000000\",\"2017-04-28 00:00:00.000000\",\"2017-05-01 00:00:00.000000\",\"2017-05-02 00:00:00.000000\",\"2017-05-03 00:00:00.000000\",\"2017-05-04 00:00:00.000000\",\"2017-05-05 00:00:00.000000\",\"2017-05-08 00:00:00.000000\",\"2017-05-09 00:00:00.000000\",\"2017-05-10 00:00:00.000000\",\"2017-05-11 00:00:00.000000\",\"2017-05-12 00:00:00.000000\",\"2017-05-15 00:00:00.000000\",\"2017-05-16 00:00:00.000000\",\"2017-05-17 00:00:00.000000\",\"2017-05-18 00:00:00.000000\",\"2017-05-19 00:00:00.000000\",\"2017-05-22 00:00:00.000000\",\"2017-05-23 00:00:00.000000\",\"2017-05-24 00:00:00.000000\",\"2017-05-25 00:00:00.000000\",\"2017-05-26 00:00:00.000000\",\"2017-05-30 00:00:00.000000\",\"2017-05-31 00:00:00.000000\",\"2017-06-01 00:00:00.000000\",\"2017-06-02 00:00:00.000000\",\"2017-06-05 00:00:00.000000\",\"2017-06-06 00:00:00.000000\",\"2017-06-07 00:00:00.000000\",\"2017-06-08 00:00:00.000000\",\"2017-06-09 00:00:00.000000\",\"2017-06-12 00:00:00.000000\",\"2017-06-13 00:00:00.000000\",\"2017-06-14 00:00:00.000000\",\"2017-06-15 00:00:00.000000\",\"2017-06-16 00:00:00.000000\",\"2017-06-19 00:00:00.000000\",\"2017-06-20 00:00:00.000000\",\"2017-06-21 00:00:00.000000\",\"2017-06-22 00:00:00.000000\",\"2017-06-23 00:00:00.000000\",\"2017-06-26 00:00:00.000000\",\"2017-06-27 00:00:00.000000\",\"2017-06-28 00:00:00.000000\",\"2017-06-29 00:00:00.000000\",\"2017-06-30 00:00:00.000000\",\"2017-07-03 00:00:00.000000\",\"2017-07-05 00:00:00.000000\",\"2017-07-06 00:00:00.000000\",\"2017-07-07 00:00:00.000000\",\"2017-07-10 00:00:00.000000\",\"2017-07-11 00:00:00.000000\",\"2017-07-12 00:00:00.000000\",\"2017-07-13 00:00:00.000000\",\"2017-07-14 00:00:00.000000\",\"2017-07-17 00:00:00.000000\",\"2017-07-18 00:00:00.000000\",\"2017-07-19 00:00:00.000000\",\"2017-07-20 00:00:00.000000\",\"2017-07-21 00:00:00.000000\",\"2017-07-24 00:00:00.000000\",\"2017-07-25 00:00:00.000000\",\"2017-07-26 00:00:00.000000\",\"2017-07-27 00:00:00.000000\",\"2017-07-28 00:00:00.000000\",\"2017-07-31 00:00:00.000000\",\"2017-08-01 00:00:00.000000\",\"2017-08-02 00:00:00.000000\",\"2017-08-03 00:00:00.000000\",\"2017-08-04 00:00:00.000000\",\"2017-08-07 00:00:00.000000\",\"2017-08-08 00:00:00.000000\",\"2017-08-09 00:00:00.000000\",\"2017-08-10 00:00:00.000000\",\"2017-08-11 00:00:00.000000\",\"2017-08-14 00:00:00.000000\",\"2017-08-15 00:00:00.000000\",\"2017-08-16 00:00:00.000000\",\"2017-08-17 00:00:00.000000\",\"2017-08-18 00:00:00.000000\",\"2017-08-21 00:00:00.000000\",\"2017-08-22 00:00:00.000000\",\"2017-08-23 00:00:00.000000\",\"2017-08-24 00:00:00.000000\",\"2017-08-25 00:00:00.000000\",\"2017-08-28 00:00:00.000000\",\"2017-08-29 00:00:00.000000\",\"2017-08-30 00:00:00.000000\",\"2017-08-31 00:00:00.000000\",\"2017-09-01 00:00:00.000000\",\"2017-09-05 00:00:00.000000\",\"2017-09-06 00:00:00.000000\",\"2017-09-07 00:00:00.000000\",\"2017-09-08 00:00:00.000000\",\"2017-09-11 00:00:00.000000\",\"2017-09-12 00:00:00.000000\",\"2017-09-13 00:00:00.000000\",\"2017-09-14 00:00:00.000000\",\"2017-09-15 00:00:00.000000\",\"2017-09-18 00:00:00.000000\",\"2017-09-19 00:00:00.000000\",\"2017-09-20 00:00:00.000000\",\"2017-09-21 00:00:00.000000\",\"2017-09-22 00:00:00.000000\",\"2017-09-25 00:00:00.000000\",\"2017-09-26 00:00:00.000000\",\"2017-09-27 00:00:00.000000\",\"2017-09-28 00:00:00.000000\",\"2017-09-29 00:00:00.000000\",\"2017-10-02 00:00:00.000000\",\"2017-10-03 00:00:00.000000\",\"2017-10-04 00:00:00.000000\",\"2017-10-05 00:00:00.000000\",\"2017-10-06 00:00:00.000000\",\"2017-10-09 00:00:00.000000\",\"2017-10-10 00:00:00.000000\",\"2017-10-11 00:00:00.000000\",\"2017-10-12 00:00:00.000000\",\"2017-10-13 00:00:00.000000\",\"2017-10-16 00:00:00.000000\",\"2017-10-17 00:00:00.000000\",\"2017-10-18 00:00:00.000000\",\"2017-10-19 00:00:00.000000\",\"2017-10-20 00:00:00.000000\",\"2017-10-23 00:00:00.000000\",\"2017-10-24 00:00:00.000000\",\"2017-10-25 00:00:00.000000\",\"2017-10-26 00:00:00.000000\",\"2017-10-27 00:00:00.000000\",\"2017-10-30 00:00:00.000000\",\"2017-10-31 00:00:00.000000\",\"2017-11-01 00:00:00.000000\",\"2017-11-02 00:00:00.000000\",\"2017-11-03 00:00:00.000000\",\"2017-11-06 00:00:00.000000\",\"2017-11-07 00:00:00.000000\",\"2017-11-08 00:00:00.000000\",\"2017-11-09 00:00:00.000000\",\"2017-11-10 00:00:00.000000\",\"2017-11-13 00:00:00.000000\",\"2017-11-14 00:00:00.000000\",\"2017-11-15 00:00:00.000000\",\"2017-11-16 00:00:00.000000\",\"2017-11-17 00:00:00.000000\",\"2017-11-20 00:00:00.000000\",\"2017-11-21 00:00:00.000000\",\"2017-11-22 00:00:00.000000\",\"2017-11-24 00:00:00.000000\",\"2017-11-27 00:00:00.000000\",\"2017-11-28 00:00:00.000000\",\"2017-11-29 00:00:00.000000\",\"2017-11-30 00:00:00.000000\",\"2017-12-01 00:00:00.000000\",\"2017-12-04 00:00:00.000000\",\"2017-12-05 00:00:00.000000\",\"2017-12-06 00:00:00.000000\",\"2017-12-07 00:00:00.000000\",\"2017-12-08 00:00:00.000000\",\"2017-12-11 00:00:00.000000\",\"2017-12-12 00:00:00.000000\",\"2017-12-13 00:00:00.000000\",\"2017-12-14 00:00:00.000000\",\"2017-12-15 00:00:00.000000\",\"2017-12-18 00:00:00.000000\",\"2017-12-19 00:00:00.000000\",\"2017-12-20 00:00:00.000000\",\"2017-12-21 00:00:00.000000\",\"2017-12-22 00:00:00.000000\",\"2017-12-26 00:00:00.000000\",\"2017-12-27 00:00:00.000000\",\"2017-12-28 00:00:00.000000\",\"2017-12-29 00:00:00.000000\",\"2018-01-02 00:00:00.000000\",\"2018-01-03 00:00:00.000000\",\"2018-01-04 00:00:00.000000\",\"2018-01-05 00:00:00.000000\",\"2018-01-08 00:00:00.000000\",\"2018-01-09 00:00:00.000000\",\"2018-01-10 00:00:00.000000\",\"2018-01-11 00:00:00.000000\",\"2018-01-12 00:00:00.000000\",\"2018-01-16 00:00:00.000000\",\"2018-01-17 00:00:00.000000\",\"2018-01-18 00:00:00.000000\",\"2018-01-19 00:00:00.000000\",\"2018-01-22 00:00:00.000000\",\"2018-01-23 00:00:00.000000\",\"2018-01-24 00:00:00.000000\",\"2018-01-25 00:00:00.000000\",\"2018-01-26 00:00:00.000000\",\"2018-01-29 00:00:00.000000\",\"2018-01-30 00:00:00.000000\",\"2018-01-31 00:00:00.000000\",\"2018-02-01 00:00:00.000000\",\"2018-02-02 00:00:00.000000\",\"2018-02-05 00:00:00.000000\",\"2018-02-06 00:00:00.000000\",\"2018-02-07 00:00:00.000000\",\"2018-02-08 00:00:00.000000\",\"2018-02-09 00:00:00.000000\",\"2018-02-12 00:00:00.000000\",\"2018-02-13 00:00:00.000000\",\"2018-02-14 00:00:00.000000\",\"2018-02-15 00:00:00.000000\",\"2018-02-16 00:00:00.000000\",\"2018-02-20 00:00:00.000000\",\"2018-02-21 00:00:00.000000\",\"2018-02-22 00:00:00.000000\",\"2018-02-23 00:00:00.000000\",\"2018-02-26 00:00:00.000000\",\"2018-02-27 00:00:00.000000\",\"2018-02-28 00:00:00.000000\",\"2018-03-01 00:00:00.000000\",\"2018-03-02 00:00:00.000000\",\"2018-03-05 00:00:00.000000\",\"2018-03-06 00:00:00.000000\",\"2018-03-07 00:00:00.000000\",\"2018-03-08 00:00:00.000000\",\"2018-03-09 00:00:00.000000\",\"2018-03-12 00:00:00.000000\",\"2018-03-13 00:00:00.000000\",\"2018-03-14 00:00:00.000000\",\"2018-03-15 00:00:00.000000\",\"2018-03-16 00:00:00.000000\",\"2018-03-19 00:00:00.000000\",\"2018-03-20 00:00:00.000000\",\"2018-03-21 00:00:00.000000\",\"2018-03-22 00:00:00.000000\",\"2018-03-23 00:00:00.000000\",\"2018-03-26 00:00:00.000000\",\"2018-03-27 00:00:00.000000\",\"2018-03-28 00:00:00.000000\",\"2018-03-29 00:00:00.000000\",\"2018-04-02 00:00:00.000000\",\"2018-04-03 00:00:00.000000\",\"2018-04-04 00:00:00.000000\",\"2018-04-05 00:00:00.000000\",\"2018-04-06 00:00:00.000000\",\"2018-04-09 00:00:00.000000\",\"2018-04-10 00:00:00.000000\",\"2018-04-11 00:00:00.000000\",\"2018-04-12 00:00:00.000000\",\"2018-04-13 00:00:00.000000\",\"2018-04-16 00:00:00.000000\",\"2018-04-17 00:00:00.000000\",\"2018-04-18 00:00:00.000000\",\"2018-04-19 00:00:00.000000\",\"2018-04-20 00:00:00.000000\",\"2018-04-23 00:00:00.000000\",\"2018-04-24 00:00:00.000000\",\"2018-04-25 00:00:00.000000\",\"2018-04-26 00:00:00.000000\",\"2018-04-27 00:00:00.000000\",\"2018-04-30 00:00:00.000000\",\"2018-05-01 00:00:00.000000\",\"2018-05-02 00:00:00.000000\",\"2018-05-03 00:00:00.000000\",\"2018-05-04 00:00:00.000000\",\"2018-05-07 00:00:00.000000\",\"2018-05-08 00:00:00.000000\",\"2018-05-09 00:00:00.000000\",\"2018-05-10 00:00:00.000000\",\"2018-05-11 00:00:00.000000\",\"2018-05-14 00:00:00.000000\",\"2018-05-15 00:00:00.000000\",\"2018-05-16 00:00:00.000000\",\"2018-05-17 00:00:00.000000\",\"2018-05-18 00:00:00.000000\",\"2018-05-21 00:00:00.000000\",\"2018-05-22 00:00:00.000000\",\"2018-05-23 00:00:00.000000\",\"2018-05-24 00:00:00.000000\",\"2018-05-25 00:00:00.000000\",\"2018-05-29 00:00:00.000000\",\"2018-05-30 00:00:00.000000\",\"2018-05-31 00:00:00.000000\",\"2018-06-01 00:00:00.000000\",\"2018-06-04 00:00:00.000000\",\"2018-06-05 00:00:00.000000\",\"2018-06-06 00:00:00.000000\",\"2018-06-07 00:00:00.000000\",\"2018-06-08 00:00:00.000000\",\"2018-06-11 00:00:00.000000\",\"2018-06-12 00:00:00.000000\",\"2018-06-13 00:00:00.000000\",\"2018-06-14 00:00:00.000000\",\"2018-06-15 00:00:00.000000\",\"2018-06-18 00:00:00.000000\",\"2018-06-19 00:00:00.000000\",\"2018-06-20 00:00:00.000000\",\"2018-06-21 00:00:00.000000\",\"2018-06-22 00:00:00.000000\",\"2018-06-25 00:00:00.000000\",\"2018-06-26 00:00:00.000000\",\"2018-06-27 00:00:00.000000\",\"2018-06-28 00:00:00.000000\",\"2018-06-29 00:00:00.000000\",\"2018-07-02 00:00:00.000000\",\"2018-07-03 00:00:00.000000\",\"2018-07-05 00:00:00.000000\",\"2018-07-06 00:00:00.000000\",\"2018-07-09 00:00:00.000000\",\"2018-07-10 00:00:00.000000\",\"2018-07-11 00:00:00.000000\",\"2018-07-12 00:00:00.000000\",\"2018-07-13 00:00:00.000000\",\"2018-07-16 00:00:00.000000\",\"2018-07-17 00:00:00.000000\",\"2018-07-18 00:00:00.000000\",\"2018-07-19 00:00:00.000000\",\"2018-07-20 00:00:00.000000\",\"2018-07-23 00:00:00.000000\",\"2018-07-24 00:00:00.000000\",\"2018-07-25 00:00:00.000000\",\"2018-07-26 00:00:00.000000\",\"2018-07-27 00:00:00.000000\",\"2018-07-30 00:00:00.000000\",\"2018-07-31 00:00:00.000000\",\"2018-08-01 00:00:00.000000\",\"2018-08-02 00:00:00.000000\",\"2018-08-03 00:00:00.000000\",\"2018-08-06 00:00:00.000000\",\"2018-08-07 00:00:00.000000\",\"2018-08-08 00:00:00.000000\",\"2018-08-09 00:00:00.000000\",\"2018-08-10 00:00:00.000000\",\"2018-08-13 00:00:00.000000\",\"2018-08-14 00:00:00.000000\",\"2018-08-15 00:00:00.000000\",\"2018-08-16 00:00:00.000000\",\"2018-08-17 00:00:00.000000\",\"2018-08-20 00:00:00.000000\",\"2018-08-21 00:00:00.000000\",\"2018-08-22 00:00:00.000000\",\"2018-08-23 00:00:00.000000\",\"2018-08-24 00:00:00.000000\",\"2018-08-27 00:00:00.000000\",\"2018-08-28 00:00:00.000000\",\"2018-08-29 00:00:00.000000\",\"2018-08-30 00:00:00.000000\",\"2018-08-31 00:00:00.000000\",\"2018-09-04 00:00:00.000000\",\"2018-09-05 00:00:00.000000\",\"2018-09-06 00:00:00.000000\",\"2018-09-07 00:00:00.000000\",\"2018-09-10 00:00:00.000000\",\"2018-09-11 00:00:00.000000\",\"2018-09-12 00:00:00.000000\",\"2018-09-13 00:00:00.000000\",\"2018-09-14 00:00:00.000000\",\"2018-09-17 00:00:00.000000\",\"2018-09-18 00:00:00.000000\",\"2018-09-19 00:00:00.000000\",\"2018-09-20 00:00:00.000000\",\"2018-09-21 00:00:00.000000\",\"2018-09-24 00:00:00.000000\",\"2018-09-25 00:00:00.000000\",\"2018-09-26 00:00:00.000000\",\"2018-09-27 00:00:00.000000\",\"2018-09-28 00:00:00.000000\",\"2018-10-01 00:00:00.000000\",\"2018-10-02 00:00:00.000000\",\"2018-10-03 00:00:00.000000\",\"2018-10-04 00:00:00.000000\",\"2018-10-05 00:00:00.000000\",\"2018-10-08 00:00:00.000000\",\"2018-10-09 00:00:00.000000\",\"2018-10-10 00:00:00.000000\",\"2018-10-11 00:00:00.000000\",\"2018-10-12 00:00:00.000000\",\"2018-10-15 00:00:00.000000\",\"2018-10-16 00:00:00.000000\",\"2018-10-17 00:00:00.000000\",\"2018-10-18 00:00:00.000000\",\"2018-10-19 00:00:00.000000\",\"2018-10-22 00:00:00.000000\",\"2018-10-23 00:00:00.000000\",\"2018-10-24 00:00:00.000000\",\"2018-10-25 00:00:00.000000\",\"2018-10-26 00:00:00.000000\",\"2018-10-29 00:00:00.000000\",\"2018-10-30 00:00:00.000000\",\"2018-10-31 00:00:00.000000\",\"2018-11-01 00:00:00.000000\",\"2018-11-02 00:00:00.000000\",\"2018-11-05 00:00:00.000000\",\"2018-11-06 00:00:00.000000\",\"2018-11-07 00:00:00.000000\",\"2018-11-08 00:00:00.000000\",\"2018-11-09 00:00:00.000000\",\"2018-11-12 00:00:00.000000\",\"2018-11-13 00:00:00.000000\",\"2018-11-14 00:00:00.000000\",\"2018-11-15 00:00:00.000000\",\"2018-11-16 00:00:00.000000\",\"2018-11-19 00:00:00.000000\",\"2018-11-20 00:00:00.000000\",\"2018-11-21 00:00:00.000000\",\"2018-11-23 00:00:00.000000\",\"2018-11-26 00:00:00.000000\",\"2018-11-27 00:00:00.000000\",\"2018-11-28 00:00:00.000000\",\"2018-11-29 00:00:00.000000\",\"2018-11-30 00:00:00.000000\",\"2018-12-03 00:00:00.000000\",\"2018-12-04 00:00:00.000000\",\"2018-12-06 00:00:00.000000\",\"2018-12-07 00:00:00.000000\",\"2018-12-10 00:00:00.000000\",\"2018-12-11 00:00:00.000000\",\"2018-12-12 00:00:00.000000\",\"2018-12-13 00:00:00.000000\",\"2018-12-14 00:00:00.000000\",\"2018-12-17 00:00:00.000000\",\"2018-12-18 00:00:00.000000\",\"2018-12-19 00:00:00.000000\",\"2018-12-20 00:00:00.000000\",\"2018-12-21 00:00:00.000000\",\"2018-12-24 00:00:00.000000\",\"2018-12-26 00:00:00.000000\",\"2018-12-27 00:00:00.000000\",\"2018-12-28 00:00:00.000000\",\"2018-12-31 00:00:00.000000\",\"2019-01-02 00:00:00.000000\",\"2019-01-03 00:00:00.000000\",\"2019-01-04 00:00:00.000000\",\"2019-01-07 00:00:00.000000\",\"2019-01-08 00:00:00.000000\",\"2019-01-09 00:00:00.000000\",\"2019-01-10 00:00:00.000000\",\"2019-01-11 00:00:00.000000\",\"2019-01-14 00:00:00.000000\",\"2019-01-15 00:00:00.000000\",\"2019-01-16 00:00:00.000000\",\"2019-01-17 00:00:00.000000\",\"2019-01-18 00:00:00.000000\",\"2019-01-22 00:00:00.000000\",\"2019-01-23 00:00:00.000000\",\"2019-01-24 00:00:00.000000\",\"2019-01-25 00:00:00.000000\",\"2019-01-28 00:00:00.000000\",\"2019-01-29 00:00:00.000000\",\"2019-01-30 00:00:00.000000\",\"2019-01-31 00:00:00.000000\",\"2019-02-01 00:00:00.000000\",\"2019-02-04 00:00:00.000000\",\"2019-02-05 00:00:00.000000\",\"2019-02-06 00:00:00.000000\",\"2019-02-07 00:00:00.000000\",\"2019-02-08 00:00:00.000000\",\"2019-02-11 00:00:00.000000\",\"2019-02-12 00:00:00.000000\",\"2019-02-13 00:00:00.000000\",\"2019-02-14 00:00:00.000000\",\"2019-02-15 00:00:00.000000\",\"2019-02-19 00:00:00.000000\",\"2019-02-20 00:00:00.000000\",\"2019-02-21 00:00:00.000000\",\"2019-02-22 00:00:00.000000\",\"2019-02-25 00:00:00.000000\",\"2019-02-26 00:00:00.000000\",\"2019-02-27 00:00:00.000000\",\"2019-02-28 00:00:00.000000\",\"2019-03-01 00:00:00.000000\",\"2019-03-04 00:00:00.000000\",\"2019-03-05 00:00:00.000000\",\"2019-03-06 00:00:00.000000\",\"2019-03-07 00:00:00.000000\",\"2019-03-08 00:00:00.000000\",\"2019-03-11 00:00:00.000000\",\"2019-03-12 00:00:00.000000\",\"2019-03-13 00:00:00.000000\",\"2019-03-14 00:00:00.000000\",\"2019-03-15 00:00:00.000000\",\"2019-03-18 00:00:00.000000\",\"2019-03-19 00:00:00.000000\",\"2019-03-20 00:00:00.000000\",\"2019-03-21 00:00:00.000000\",\"2019-03-22 00:00:00.000000\",\"2019-03-25 00:00:00.000000\",\"2019-03-26 00:00:00.000000\",\"2019-03-27 00:00:00.000000\",\"2019-03-28 00:00:00.000000\",\"2019-03-29 00:00:00.000000\",\"2019-04-01 00:00:00.000000\",\"2019-04-02 00:00:00.000000\",\"2019-04-03 00:00:00.000000\",\"2019-04-04 00:00:00.000000\",\"2019-04-05 00:00:00.000000\",\"2019-04-08 00:00:00.000000\",\"2019-04-09 00:00:00.000000\",\"2019-04-10 00:00:00.000000\",\"2019-04-11 00:00:00.000000\",\"2019-04-12 00:00:00.000000\",\"2019-04-15 00:00:00.000000\",\"2019-04-16 00:00:00.000000\",\"2019-04-17 00:00:00.000000\",\"2019-04-18 00:00:00.000000\",\"2019-04-22 00:00:00.000000\",\"2019-04-23 00:00:00.000000\",\"2019-04-24 00:00:00.000000\",\"2019-04-25 00:00:00.000000\",\"2019-04-26 00:00:00.000000\",\"2019-04-29 00:00:00.000000\",\"2019-04-30 00:00:00.000000\",\"2019-05-01 00:00:00.000000\",\"2019-05-02 00:00:00.000000\",\"2019-05-03 00:00:00.000000\",\"2019-05-06 00:00:00.000000\",\"2019-05-07 00:00:00.000000\",\"2019-05-08 00:00:00.000000\",\"2019-05-09 00:00:00.000000\",\"2019-05-10 00:00:00.000000\",\"2019-05-13 00:00:00.000000\",\"2019-05-14 00:00:00.000000\",\"2019-05-15 00:00:00.000000\",\"2019-05-16 00:00:00.000000\",\"2019-05-17 00:00:00.000000\",\"2019-05-20 00:00:00.000000\",\"2019-05-21 00:00:00.000000\",\"2019-05-22 00:00:00.000000\",\"2019-05-23 00:00:00.000000\",\"2019-05-24 00:00:00.000000\",\"2019-05-28 00:00:00.000000\",\"2019-05-29 00:00:00.000000\",\"2019-05-30 00:00:00.000000\",\"2019-05-31 00:00:00.000000\",\"2019-06-03 00:00:00.000000\",\"2019-06-04 00:00:00.000000\",\"2019-06-05 00:00:00.000000\",\"2019-06-06 00:00:00.000000\",\"2019-06-07 00:00:00.000000\",\"2019-06-10 00:00:00.000000\",\"2019-06-11 00:00:00.000000\",\"2019-06-12 00:00:00.000000\",\"2019-06-13 00:00:00.000000\",\"2019-06-14 00:00:00.000000\",\"2019-06-17 00:00:00.000000\",\"2019-06-18 00:00:00.000000\",\"2019-06-19 00:00:00.000000\",\"2019-06-20 00:00:00.000000\",\"2019-06-21 00:00:00.000000\",\"2019-06-24 00:00:00.000000\",\"2019-06-25 00:00:00.000000\",\"2019-06-26 00:00:00.000000\",\"2019-06-27 00:00:00.000000\",\"2019-06-28 00:00:00.000000\",\"2019-07-01 00:00:00.000000\",\"2019-07-02 00:00:00.000000\",\"2019-07-03 00:00:00.000000\",\"2019-07-05 00:00:00.000000\",\"2019-07-08 00:00:00.000000\",\"2019-07-09 00:00:00.000000\",\"2019-07-10 00:00:00.000000\",\"2019-07-11 00:00:00.000000\",\"2019-07-12 00:00:00.000000\",\"2019-07-15 00:00:00.000000\",\"2019-07-16 00:00:00.000000\",\"2019-07-17 00:00:00.000000\",\"2019-07-18 00:00:00.000000\",\"2019-07-19 00:00:00.000000\",\"2019-07-22 00:00:00.000000\",\"2019-07-23 00:00:00.000000\",\"2019-07-24 00:00:00.000000\",\"2019-07-25 00:00:00.000000\",\"2019-07-26 00:00:00.000000\",\"2019-07-29 00:00:00.000000\",\"2019-07-30 00:00:00.000000\",\"2019-07-31 00:00:00.000000\",\"2019-08-01 00:00:00.000000\",\"2019-08-02 00:00:00.000000\",\"2019-08-05 00:00:00.000000\",\"2019-08-06 00:00:00.000000\",\"2019-08-07 00:00:00.000000\",\"2019-08-08 00:00:00.000000\",\"2019-08-09 00:00:00.000000\",\"2019-08-12 00:00:00.000000\",\"2019-08-13 00:00:00.000000\",\"2019-08-14 00:00:00.000000\",\"2019-08-15 00:00:00.000000\",\"2019-08-16 00:00:00.000000\",\"2019-08-19 00:00:00.000000\",\"2019-08-20 00:00:00.000000\",\"2019-08-21 00:00:00.000000\",\"2019-08-22 00:00:00.000000\",\"2019-08-23 00:00:00.000000\",\"2019-08-26 00:00:00.000000\",\"2019-08-27 00:00:00.000000\",\"2019-08-28 00:00:00.000000\",\"2019-08-29 00:00:00.000000\",\"2019-08-30 00:00:00.000000\",\"2019-09-03 00:00:00.000000\",\"2019-09-04 00:00:00.000000\",\"2019-09-05 00:00:00.000000\",\"2019-09-06 00:00:00.000000\",\"2019-09-09 00:00:00.000000\",\"2019-09-10 00:00:00.000000\",\"2019-09-11 00:00:00.000000\",\"2019-09-12 00:00:00.000000\",\"2019-09-13 00:00:00.000000\",\"2019-09-16 00:00:00.000000\",\"2019-09-17 00:00:00.000000\",\"2019-09-18 00:00:00.000000\",\"2019-09-19 00:00:00.000000\",\"2019-09-20 00:00:00.000000\",\"2019-09-23 00:00:00.000000\",\"2019-09-24 00:00:00.000000\",\"2019-09-25 00:00:00.000000\",\"2019-09-26 00:00:00.000000\",\"2019-09-27 00:00:00.000000\",\"2019-09-30 00:00:00.000000\",\"2019-10-01 00:00:00.000000\",\"2019-10-02 00:00:00.000000\",\"2019-10-03 00:00:00.000000\",\"2019-10-04 00:00:00.000000\",\"2019-10-07 00:00:00.000000\",\"2019-10-08 00:00:00.000000\",\"2019-10-09 00:00:00.000000\",\"2019-10-10 00:00:00.000000\",\"2019-10-11 00:00:00.000000\",\"2019-10-14 00:00:00.000000\",\"2019-10-15 00:00:00.000000\",\"2019-10-16 00:00:00.000000\",\"2019-10-17 00:00:00.000000\",\"2019-10-18 00:00:00.000000\",\"2019-10-21 00:00:00.000000\",\"2019-10-22 00:00:00.000000\",\"2019-10-23 00:00:00.000000\",\"2019-10-24 00:00:00.000000\",\"2019-10-25 00:00:00.000000\",\"2019-10-28 00:00:00.000000\",\"2019-10-29 00:00:00.000000\",\"2019-10-30 00:00:00.000000\",\"2019-10-31 00:00:00.000000\",\"2019-11-01 00:00:00.000000\",\"2019-11-04 00:00:00.000000\",\"2019-11-05 00:00:00.000000\",\"2019-11-06 00:00:00.000000\",\"2019-11-07 00:00:00.000000\",\"2019-11-08 00:00:00.000000\",\"2019-11-11 00:00:00.000000\",\"2019-11-12 00:00:00.000000\",\"2019-11-13 00:00:00.000000\",\"2019-11-14 00:00:00.000000\",\"2019-11-15 00:00:00.000000\",\"2019-11-18 00:00:00.000000\",\"2019-11-19 00:00:00.000000\",\"2019-11-20 00:00:00.000000\",\"2019-11-21 00:00:00.000000\",\"2019-11-22 00:00:00.000000\",\"2019-11-25 00:00:00.000000\",\"2019-11-26 00:00:00.000000\",\"2019-11-27 00:00:00.000000\",\"2019-11-29 00:00:00.000000\",\"2019-12-02 00:00:00.000000\",\"2019-12-03 00:00:00.000000\",\"2019-12-04 00:00:00.000000\",\"2019-12-05 00:00:00.000000\",\"2019-12-06 00:00:00.000000\",\"2019-12-09 00:00:00.000000\",\"2019-12-10 00:00:00.000000\",\"2019-12-11 00:00:00.000000\",\"2019-12-12 00:00:00.000000\",\"2019-12-13 00:00:00.000000\",\"2019-12-16 00:00:00.000000\",\"2019-12-17 00:00:00.000000\",\"2019-12-18 00:00:00.000000\",\"2019-12-19 00:00:00.000000\",\"2019-12-20 00:00:00.000000\",\"2019-12-23 00:00:00.000000\",\"2019-12-24 00:00:00.000000\",\"2019-12-26 00:00:00.000000\",\"2019-12-27 00:00:00.000000\",\"2019-12-30 00:00:00.000000\",\"2019-12-31 00:00:00.000000\",\"2020-01-02 00:00:00.000000\",\"2020-01-03 00:00:00.000000\",\"2020-01-06 00:00:00.000000\",\"2020-01-07 00:00:00.000000\",\"2020-01-08 00:00:00.000000\",\"2020-01-09 00:00:00.000000\",\"2020-01-10 00:00:00.000000\",\"2020-01-13 00:00:00.000000\",\"2020-01-14 00:00:00.000000\",\"2020-01-15 00:00:00.000000\",\"2020-01-16 00:00:00.000000\",\"2020-01-17 00:00:00.000000\",\"2020-01-21 00:00:00.000000\",\"2020-01-22 00:00:00.000000\",\"2020-01-23 00:00:00.000000\",\"2020-01-24 00:00:00.000000\",\"2020-01-27 00:00:00.000000\",\"2020-01-28 00:00:00.000000\",\"2020-01-29 00:00:00.000000\",\"2020-01-30 00:00:00.000000\",\"2020-01-31 00:00:00.000000\",\"2020-02-03 00:00:00.000000\",\"2020-02-04 00:00:00.000000\",\"2020-02-05 00:00:00.000000\",\"2020-02-06 00:00:00.000000\",\"2020-02-07 00:00:00.000000\",\"2020-02-10 00:00:00.000000\",\"2020-02-11 00:00:00.000000\",\"2020-02-12 00:00:00.000000\",\"2020-02-13 00:00:00.000000\",\"2020-02-14 00:00:00.000000\",\"2020-02-18 00:00:00.000000\",\"2020-02-19 00:00:00.000000\",\"2020-02-20 00:00:00.000000\",\"2020-02-21 00:00:00.000000\",\"2020-02-24 00:00:00.000000\",\"2020-02-25 00:00:00.000000\",\"2020-02-26 00:00:00.000000\",\"2020-02-27 00:00:00.000000\",\"2020-02-28 00:00:00.000000\",\"2020-03-02 00:00:00.000000\",\"2020-03-03 00:00:00.000000\",\"2020-03-04 00:00:00.000000\",\"2020-03-05 00:00:00.000000\",\"2020-03-06 00:00:00.000000\",\"2020-03-09 00:00:00.000000\",\"2020-03-10 00:00:00.000000\",\"2020-03-11 00:00:00.000000\",\"2020-03-12 00:00:00.000000\",\"2020-03-13 00:00:00.000000\",\"2020-03-16 00:00:00.000000\",\"2020-03-17 00:00:00.000000\",\"2020-03-18 00:00:00.000000\",\"2020-03-19 00:00:00.000000\",\"2020-03-20 00:00:00.000000\",\"2020-03-23 00:00:00.000000\",\"2020-03-24 00:00:00.000000\",\"2020-03-25 00:00:00.000000\",\"2020-03-26 00:00:00.000000\",\"2020-03-27 00:00:00.000000\",\"2020-03-30 00:00:00.000000\",\"2020-03-31 00:00:00.000000\",\"2020-04-01 00:00:00.000000\",\"2020-04-02 00:00:00.000000\",\"2020-04-03 00:00:00.000000\",\"2020-04-06 00:00:00.000000\",\"2020-04-07 00:00:00.000000\",\"2020-04-08 00:00:00.000000\",\"2020-04-09 00:00:00.000000\",\"2020-04-13 00:00:00.000000\",\"2020-04-14 00:00:00.000000\",\"2020-04-15 00:00:00.000000\",\"2020-04-16 00:00:00.000000\",\"2020-04-17 00:00:00.000000\",\"2020-04-20 00:00:00.000000\",\"2020-04-21 00:00:00.000000\",\"2020-04-22 00:00:00.000000\",\"2020-04-23 00:00:00.000000\",\"2020-04-24 00:00:00.000000\",\"2020-04-27 00:00:00.000000\",\"2020-04-28 00:00:00.000000\",\"2020-04-29 00:00:00.000000\",\"2020-04-30 00:00:00.000000\",\"2020-05-01 00:00:00.000000\",\"2020-05-04 00:00:00.000000\",\"2020-05-05 00:00:00.000000\",\"2020-05-06 00:00:00.000000\",\"2020-05-07 00:00:00.000000\",\"2020-05-08 00:00:00.000000\",\"2020-05-11 00:00:00.000000\",\"2020-05-12 00:00:00.000000\",\"2020-05-13 00:00:00.000000\",\"2020-05-14 00:00:00.000000\",\"2020-05-15 00:00:00.000000\",\"2020-05-18 00:00:00.000000\",\"2020-05-19 00:00:00.000000\",\"2020-05-20 00:00:00.000000\",\"2020-05-21 00:00:00.000000\",\"2020-05-22 00:00:00.000000\",\"2020-05-26 00:00:00.000000\",\"2020-05-27 00:00:00.000000\",\"2020-05-28 00:00:00.000000\",\"2020-05-29 00:00:00.000000\",\"2020-06-01 00:00:00.000000\",\"2020-06-02 00:00:00.000000\",\"2020-06-03 00:00:00.000000\",\"2020-06-04 00:00:00.000000\",\"2020-06-05 00:00:00.000000\",\"2020-06-08 00:00:00.000000\",\"2020-06-09 00:00:00.000000\",\"2020-06-10 00:00:00.000000\",\"2020-06-11 00:00:00.000000\",\"2020-06-12 00:00:00.000000\",\"2020-06-15 00:00:00.000000\",\"2020-06-16 00:00:00.000000\",\"2020-06-17 00:00:00.000000\",\"2020-06-18 00:00:00.000000\",\"2020-06-19 00:00:00.000000\",\"2020-06-22 00:00:00.000000\",\"2020-06-23 00:00:00.000000\",\"2020-06-24 00:00:00.000000\",\"2020-06-25 00:00:00.000000\",\"2020-06-26 00:00:00.000000\",\"2020-06-29 00:00:00.000000\",\"2020-06-30 00:00:00.000000\",\"2020-07-01 00:00:00.000000\",\"2020-07-02 00:00:00.000000\",\"2020-07-06 00:00:00.000000\",\"2020-07-07 00:00:00.000000\",\"2020-07-08 00:00:00.000000\",\"2020-07-09 00:00:00.000000\",\"2020-07-10 00:00:00.000000\",\"2020-07-13 00:00:00.000000\",\"2020-07-14 00:00:00.000000\",\"2020-07-15 00:00:00.000000\",\"2020-07-16 00:00:00.000000\",\"2020-07-17 00:00:00.000000\",\"2020-07-20 00:00:00.000000\",\"2020-07-21 00:00:00.000000\",\"2020-07-22 00:00:00.000000\",\"2020-07-23 00:00:00.000000\",\"2020-07-24 00:00:00.000000\",\"2020-07-27 00:00:00.000000\",\"2020-07-28 00:00:00.000000\",\"2020-07-29 00:00:00.000000\",\"2020-07-30 00:00:00.000000\",\"2020-07-31 00:00:00.000000\",\"2020-08-03 00:00:00.000000\",\"2020-08-04 00:00:00.000000\",\"2020-08-05 00:00:00.000000\",\"2020-08-06 00:00:00.000000\",\"2020-08-07 00:00:00.000000\",\"2020-08-10 00:00:00.000000\",\"2020-08-11 00:00:00.000000\",\"2020-08-12 00:00:00.000000\",\"2020-08-13 00:00:00.000000\",\"2020-08-14 00:00:00.000000\",\"2020-08-17 00:00:00.000000\",\"2020-08-18 00:00:00.000000\",\"2020-08-19 00:00:00.000000\",\"2020-08-20 00:00:00.000000\",\"2020-08-21 00:00:00.000000\",\"2020-08-24 00:00:00.000000\",\"2020-08-25 00:00:00.000000\",\"2020-08-26 00:00:00.000000\",\"2020-08-27 00:00:00.000000\",\"2020-08-28 00:00:00.000000\",\"2020-08-31 00:00:00.000000\",\"2020-09-01 00:00:00.000000\",\"2020-09-02 00:00:00.000000\",\"2020-09-03 00:00:00.000000\",\"2020-09-04 00:00:00.000000\",\"2020-09-08 00:00:00.000000\",\"2020-09-09 00:00:00.000000\",\"2020-09-10 00:00:00.000000\",\"2020-09-11 00:00:00.000000\",\"2020-09-14 00:00:00.000000\",\"2020-09-15 00:00:00.000000\",\"2020-09-16 00:00:00.000000\",\"2020-09-17 00:00:00.000000\",\"2020-09-18 00:00:00.000000\",\"2020-09-21 00:00:00.000000\",\"2020-09-22 00:00:00.000000\",\"2020-09-23 00:00:00.000000\",\"2020-09-24 00:00:00.000000\",\"2020-09-25 00:00:00.000000\",\"2020-09-28 00:00:00.000000\",\"2020-09-29 00:00:00.000000\",\"2020-09-30 00:00:00.000000\",\"2020-10-01 00:00:00.000000\",\"2020-10-02 00:00:00.000000\",\"2020-10-05 00:00:00.000000\",\"2020-10-06 00:00:00.000000\",\"2020-10-07 00:00:00.000000\",\"2020-10-08 00:00:00.000000\",\"2020-10-09 00:00:00.000000\",\"2020-10-12 00:00:00.000000\",\"2020-10-13 00:00:00.000000\",\"2020-10-14 00:00:00.000000\",\"2020-10-15 00:00:00.000000\",\"2020-10-16 00:00:00.000000\",\"2020-10-19 00:00:00.000000\",\"2020-10-20 00:00:00.000000\",\"2020-10-21 00:00:00.000000\",\"2020-10-22 00:00:00.000000\",\"2020-10-23 00:00:00.000000\",\"2020-10-26 00:00:00.000000\",\"2020-10-27 00:00:00.000000\",\"2020-10-28 00:00:00.000000\",\"2020-10-29 00:00:00.000000\",\"2020-10-30 00:00:00.000000\",\"2020-11-02 00:00:00.000000\",\"2020-11-03 00:00:00.000000\",\"2020-11-04 00:00:00.000000\",\"2020-11-05 00:00:00.000000\",\"2020-11-06 00:00:00.000000\",\"2020-11-09 00:00:00.000000\",\"2020-11-10 00:00:00.000000\",\"2020-11-11 00:00:00.000000\",\"2020-11-12 00:00:00.000000\",\"2020-11-13 00:00:00.000000\",\"2020-11-16 00:00:00.000000\",\"2020-11-17 00:00:00.000000\",\"2020-11-18 00:00:00.000000\",\"2020-11-19 00:00:00.000000\",\"2020-11-20 00:00:00.000000\",\"2020-11-23 00:00:00.000000\",\"2020-11-24 00:00:00.000000\",\"2020-11-25 00:00:00.000000\",\"2020-11-27 00:00:00.000000\",\"2020-11-30 00:00:00.000000\",\"2020-12-01 00:00:00.000000\",\"2020-12-02 00:00:00.000000\",\"2020-12-03 00:00:00.000000\",\"2020-12-04 00:00:00.000000\"]},\"selected\":{\"id\":\"3807\"},\"selection_policy\":{\"id\":\"3830\"}},\"id\":\"3806\",\"type\":\"ColumnDataSource\"},{\"attributes\":{\"overlay\":{\"id\":\"3798\"}},\"id\":\"3796\",\"type\":\"BoxZoomTool\"},{\"attributes\":{\"line_color\":\"#30a2da\",\"line_width\":2,\"x\":{\"field\":\"time\"},\"y\":{\"field\":\"daily_returns\"}},\"id\":\"3809\",\"type\":\"Line\"},{\"attributes\":{\"factors\":[\"2016-12-16 00:00:00.000000\",\"2016-12-19 00:00:00.000000\",\"2016-12-20 00:00:00.000000\",\"2016-12-21 00:00:00.000000\",\"2016-12-22 00:00:00.000000\",\"2016-12-23 00:00:00.000000\",\"2016-12-27 00:00:00.000000\",\"2016-12-28 00:00:00.000000\",\"2016-12-29 00:00:00.000000\",\"2016-12-30 00:00:00.000000\",\"2017-01-03 00:00:00.000000\",\"2017-01-04 00:00:00.000000\",\"2017-01-05 00:00:00.000000\",\"2017-01-06 00:00:00.000000\",\"2017-01-09 00:00:00.000000\",\"2017-01-10 00:00:00.000000\",\"2017-01-11 00:00:00.000000\",\"2017-01-12 00:00:00.000000\",\"2017-01-13 00:00:00.000000\",\"2017-01-17 00:00:00.000000\",\"2017-01-18 00:00:00.000000\",\"2017-01-19 00:00:00.000000\",\"2017-01-20 00:00:00.000000\",\"2017-01-23 00:00:00.000000\",\"2017-01-24 00:00:00.000000\",\"2017-01-25 00:00:00.000000\",\"2017-01-26 00:00:00.000000\",\"2017-01-27 00:00:00.000000\",\"2017-01-30 00:00:00.000000\",\"2017-01-31 00:00:00.000000\",\"2017-02-01 00:00:00.000000\",\"2017-02-02 00:00:00.000000\",\"2017-02-03 00:00:00.000000\",\"2017-02-06 00:00:00.000000\",\"2017-02-07 00:00:00.000000\",\"2017-02-08 00:00:00.000000\",\"2017-02-09 00:00:00.000000\",\"2017-02-10 00:00:00.000000\",\"2017-02-13 00:00:00.000000\",\"2017-02-14 00:00:00.000000\",\"2017-02-15 00:00:00.000000\",\"2017-02-16 00:00:00.000000\",\"2017-02-17 00:00:00.000000\",\"2017-02-21 00:00:00.000000\",\"2017-02-22 00:00:00.000000\",\"2017-02-23 00:00:00.000000\",\"2017-02-24 00:00:00.000000\",\"2017-02-27 00:00:00.000000\",\"2017-02-28 00:00:00.000000\",\"2017-03-01 00:00:00.000000\",\"2017-03-02 00:00:00.000000\",\"2017-03-03 00:00:00.000000\",\"2017-03-06 00:00:00.000000\",\"2017-03-07 00:00:00.000000\",\"2017-03-08 00:00:00.000000\",\"2017-03-09 00:00:00.000000\",\"2017-03-10 00:00:00.000000\",\"2017-03-13 00:00:00.000000\",\"2017-03-14 00:00:00.000000\",\"2017-03-15 00:00:00.000000\",\"2017-03-16 00:00:00.000000\",\"2017-03-17 00:00:00.000000\",\"2017-03-20 00:00:00.000000\",\"2017-03-21 00:00:00.000000\",\"2017-03-22 00:00:00.000000\",\"2017-03-23 00:00:00.000000\",\"2017-03-24 00:00:00.000000\",\"2017-03-27 00:00:00.000000\",\"2017-03-28 00:00:00.000000\",\"2017-03-29 00:00:00.000000\",\"2017-03-30 00:00:00.000000\",\"2017-03-31 00:00:00.000000\",\"2017-04-03 00:00:00.000000\",\"2017-04-04 00:00:00.000000\",\"2017-04-05 00:00:00.000000\",\"2017-04-06 00:00:00.000000\",\"2017-04-07 00:00:00.000000\",\"2017-04-10 00:00:00.000000\",\"2017-04-11 00:00:00.000000\",\"2017-04-12 00:00:00.000000\",\"2017-04-13 00:00:00.000000\",\"2017-04-17 00:00:00.000000\",\"2017-04-18 00:00:00.000000\",\"2017-04-19 00:00:00.000000\",\"2017-04-20 00:00:00.000000\",\"2017-04-21 00:00:00.000000\",\"2017-04-24 00:00:00.000000\",\"2017-04-25 00:00:00.000000\",\"2017-04-26 00:00:00.000000\",\"2017-04-27 00:00:00.000000\",\"2017-04-28 00:00:00.000000\",\"2017-05-01 00:00:00.000000\",\"2017-05-02 00:00:00.000000\",\"2017-05-03 00:00:00.000000\",\"2017-05-04 00:00:00.000000\",\"2017-05-05 00:00:00.000000\",\"2017-05-08 00:00:00.000000\",\"2017-05-09 00:00:00.000000\",\"2017-05-10 00:00:00.000000\",\"2017-05-11 00:00:00.000000\",\"2017-05-12 00:00:00.000000\",\"2017-05-15 00:00:00.000000\",\"2017-05-16 00:00:00.000000\",\"2017-05-17 00:00:00.000000\",\"2017-05-18 00:00:00.000000\",\"2017-05-19 00:00:00.000000\",\"2017-05-22 00:00:00.000000\",\"2017-05-23 00:00:00.000000\",\"2017-05-24 00:00:00.000000\",\"2017-05-25 00:00:00.000000\",\"2017-05-26 00:00:00.000000\",\"2017-05-30 00:00:00.000000\",\"2017-05-31 00:00:00.000000\",\"2017-06-01 00:00:00.000000\",\"2017-06-02 00:00:00.000000\",\"2017-06-05 00:00:00.000000\",\"2017-06-06 00:00:00.000000\",\"2017-06-07 00:00:00.000000\",\"2017-06-08 00:00:00.000000\",\"2017-06-09 00:00:00.000000\",\"2017-06-12 00:00:00.000000\",\"2017-06-13 00:00:00.000000\",\"2017-06-14 00:00:00.000000\",\"2017-06-15 00:00:00.000000\",\"2017-06-16 00:00:00.000000\",\"2017-06-19 00:00:00.000000\",\"2017-06-20 00:00:00.000000\",\"2017-06-21 00:00:00.000000\",\"2017-06-22 00:00:00.000000\",\"2017-06-23 00:00:00.000000\",\"2017-06-26 00:00:00.000000\",\"2017-06-27 00:00:00.000000\",\"2017-06-28 00:00:00.000000\",\"2017-06-29 00:00:00.000000\",\"2017-06-30 00:00:00.000000\",\"2017-07-03 00:00:00.000000\",\"2017-07-05 00:00:00.000000\",\"2017-07-06 00:00:00.000000\",\"2017-07-07 00:00:00.000000\",\"2017-07-10 00:00:00.000000\",\"2017-07-11 00:00:00.000000\",\"2017-07-12 00:00:00.000000\",\"2017-07-13 00:00:00.000000\",\"2017-07-14 00:00:00.000000\",\"2017-07-17 00:00:00.000000\",\"2017-07-18 00:00:00.000000\",\"2017-07-19 00:00:00.000000\",\"2017-07-20 00:00:00.000000\",\"2017-07-21 00:00:00.000000\",\"2017-07-24 00:00:00.000000\",\"2017-07-25 00:00:00.000000\",\"2017-07-26 00:00:00.000000\",\"2017-07-27 00:00:00.000000\",\"2017-07-28 00:00:00.000000\",\"2017-07-31 00:00:00.000000\",\"2017-08-01 00:00:00.000000\",\"2017-08-02 00:00:00.000000\",\"2017-08-03 00:00:00.000000\",\"2017-08-04 00:00:00.000000\",\"2017-08-07 00:00:00.000000\",\"2017-08-08 00:00:00.000000\",\"2017-08-09 00:00:00.000000\",\"2017-08-10 00:00:00.000000\",\"2017-08-11 00:00:00.000000\",\"2017-08-14 00:00:00.000000\",\"2017-08-15 00:00:00.000000\",\"2017-08-16 00:00:00.000000\",\"2017-08-17 00:00:00.000000\",\"2017-08-18 00:00:00.000000\",\"2017-08-21 00:00:00.000000\",\"2017-08-22 00:00:00.000000\",\"2017-08-23 00:00:00.000000\",\"2017-08-24 00:00:00.000000\",\"2017-08-25 00:00:00.000000\",\"2017-08-28 00:00:00.000000\",\"2017-08-29 00:00:00.000000\",\"2017-08-30 00:00:00.000000\",\"2017-08-31 00:00:00.000000\",\"2017-09-01 00:00:00.000000\",\"2017-09-05 00:00:00.000000\",\"2017-09-06 00:00:00.000000\",\"2017-09-07 00:00:00.000000\",\"2017-09-08 00:00:00.000000\",\"2017-09-11 00:00:00.000000\",\"2017-09-12 00:00:00.000000\",\"2017-09-13 00:00:00.000000\",\"2017-09-14 00:00:00.000000\",\"2017-09-15 00:00:00.000000\",\"2017-09-18 00:00:00.000000\",\"2017-09-19 00:00:00.000000\",\"2017-09-20 00:00:00.000000\",\"2017-09-21 00:00:00.000000\",\"2017-09-22 00:00:00.000000\",\"2017-09-25 00:00:00.000000\",\"2017-09-26 00:00:00.000000\",\"2017-09-27 00:00:00.000000\",\"2017-09-28 00:00:00.000000\",\"2017-09-29 00:00:00.000000\",\"2017-10-02 00:00:00.000000\",\"2017-10-03 00:00:00.000000\",\"2017-10-04 00:00:00.000000\",\"2017-10-05 00:00:00.000000\",\"2017-10-06 00:00:00.000000\",\"2017-10-09 00:00:00.000000\",\"2017-10-10 00:00:00.000000\",\"2017-10-11 00:00:00.000000\",\"2017-10-12 00:00:00.000000\",\"2017-10-13 00:00:00.000000\",\"2017-10-16 00:00:00.000000\",\"2017-10-17 00:00:00.000000\",\"2017-10-18 00:00:00.000000\",\"2017-10-19 00:00:00.000000\",\"2017-10-20 00:00:00.000000\",\"2017-10-23 00:00:00.000000\",\"2017-10-24 00:00:00.000000\",\"2017-10-25 00:00:00.000000\",\"2017-10-26 00:00:00.000000\",\"2017-10-27 00:00:00.000000\",\"2017-10-30 00:00:00.000000\",\"2017-10-31 00:00:00.000000\",\"2017-11-01 00:00:00.000000\",\"2017-11-02 00:00:00.000000\",\"2017-11-03 00:00:00.000000\",\"2017-11-06 00:00:00.000000\",\"2017-11-07 00:00:00.000000\",\"2017-11-08 00:00:00.000000\",\"2017-11-09 00:00:00.000000\",\"2017-11-10 00:00:00.000000\",\"2017-11-13 00:00:00.000000\",\"2017-11-14 00:00:00.000000\",\"2017-11-15 00:00:00.000000\",\"2017-11-16 00:00:00.000000\",\"2017-11-17 00:00:00.000000\",\"2017-11-20 00:00:00.000000\",\"2017-11-21 00:00:00.000000\",\"2017-11-22 00:00:00.000000\",\"2017-11-24 00:00:00.000000\",\"2017-11-27 00:00:00.000000\",\"2017-11-28 00:00:00.000000\",\"2017-11-29 00:00:00.000000\",\"2017-11-30 00:00:00.000000\",\"2017-12-01 00:00:00.000000\",\"2017-12-04 00:00:00.000000\",\"2017-12-05 00:00:00.000000\",\"2017-12-06 00:00:00.000000\",\"2017-12-07 00:00:00.000000\",\"2017-12-08 00:00:00.000000\",\"2017-12-11 00:00:00.000000\",\"2017-12-12 00:00:00.000000\",\"2017-12-13 00:00:00.000000\",\"2017-12-14 00:00:00.000000\",\"2017-12-15 00:00:00.000000\",\"2017-12-18 00:00:00.000000\",\"2017-12-19 00:00:00.000000\",\"2017-12-20 00:00:00.000000\",\"2017-12-21 00:00:00.000000\",\"2017-12-22 00:00:00.000000\",\"2017-12-26 00:00:00.000000\",\"2017-12-27 00:00:00.000000\",\"2017-12-28 00:00:00.000000\",\"2017-12-29 00:00:00.000000\",\"2018-01-02 00:00:00.000000\",\"2018-01-03 00:00:00.000000\",\"2018-01-04 00:00:00.000000\",\"2018-01-05 00:00:00.000000\",\"2018-01-08 00:00:00.000000\",\"2018-01-09 00:00:00.000000\",\"2018-01-10 00:00:00.000000\",\"2018-01-11 00:00:00.000000\",\"2018-01-12 00:00:00.000000\",\"2018-01-16 00:00:00.000000\",\"2018-01-17 00:00:00.000000\",\"2018-01-18 00:00:00.000000\",\"2018-01-19 00:00:00.000000\",\"2018-01-22 00:00:00.000000\",\"2018-01-23 00:00:00.000000\",\"2018-01-24 00:00:00.000000\",\"2018-01-25 00:00:00.000000\",\"2018-01-26 00:00:00.000000\",\"2018-01-29 00:00:00.000000\",\"2018-01-30 00:00:00.000000\",\"2018-01-31 00:00:00.000000\",\"2018-02-01 00:00:00.000000\",\"2018-02-02 00:00:00.000000\",\"2018-02-05 00:00:00.000000\",\"2018-02-06 00:00:00.000000\",\"2018-02-07 00:00:00.000000\",\"2018-02-08 00:00:00.000000\",\"2018-02-09 00:00:00.000000\",\"2018-02-12 00:00:00.000000\",\"2018-02-13 00:00:00.000000\",\"2018-02-14 00:00:00.000000\",\"2018-02-15 00:00:00.000000\",\"2018-02-16 00:00:00.000000\",\"2018-02-20 00:00:00.000000\",\"2018-02-21 00:00:00.000000\",\"2018-02-22 00:00:00.000000\",\"2018-02-23 00:00:00.000000\",\"2018-02-26 00:00:00.000000\",\"2018-02-27 00:00:00.000000\",\"2018-02-28 00:00:00.000000\",\"2018-03-01 00:00:00.000000\",\"2018-03-02 00:00:00.000000\",\"2018-03-05 00:00:00.000000\",\"2018-03-06 00:00:00.000000\",\"2018-03-07 00:00:00.000000\",\"2018-03-08 00:00:00.000000\",\"2018-03-09 00:00:00.000000\",\"2018-03-12 00:00:00.000000\",\"2018-03-13 00:00:00.000000\",\"2018-03-14 00:00:00.000000\",\"2018-03-15 00:00:00.000000\",\"2018-03-16 00:00:00.000000\",\"2018-03-19 00:00:00.000000\",\"2018-03-20 00:00:00.000000\",\"2018-03-21 00:00:00.000000\",\"2018-03-22 00:00:00.000000\",\"2018-03-23 00:00:00.000000\",\"2018-03-26 00:00:00.000000\",\"2018-03-27 00:00:00.000000\",\"2018-03-28 00:00:00.000000\",\"2018-03-29 00:00:00.000000\",\"2018-04-02 00:00:00.000000\",\"2018-04-03 00:00:00.000000\",\"2018-04-04 00:00:00.000000\",\"2018-04-05 00:00:00.000000\",\"2018-04-06 00:00:00.000000\",\"2018-04-09 00:00:00.000000\",\"2018-04-10 00:00:00.000000\",\"2018-04-11 00:00:00.000000\",\"2018-04-12 00:00:00.000000\",\"2018-04-13 00:00:00.000000\",\"2018-04-16 00:00:00.000000\",\"2018-04-17 00:00:00.000000\",\"2018-04-18 00:00:00.000000\",\"2018-04-19 00:00:00.000000\",\"2018-04-20 00:00:00.000000\",\"2018-04-23 00:00:00.000000\",\"2018-04-24 00:00:00.000000\",\"2018-04-25 00:00:00.000000\",\"2018-04-26 00:00:00.000000\",\"2018-04-27 00:00:00.000000\",\"2018-04-30 00:00:00.000000\",\"2018-05-01 00:00:00.000000\",\"2018-05-02 00:00:00.000000\",\"2018-05-03 00:00:00.000000\",\"2018-05-04 00:00:00.000000\",\"2018-05-07 00:00:00.000000\",\"2018-05-08 00:00:00.000000\",\"2018-05-09 00:00:00.000000\",\"2018-05-10 00:00:00.000000\",\"2018-05-11 00:00:00.000000\",\"2018-05-14 00:00:00.000000\",\"2018-05-15 00:00:00.000000\",\"2018-05-16 00:00:00.000000\",\"2018-05-17 00:00:00.000000\",\"2018-05-18 00:00:00.000000\",\"2018-05-21 00:00:00.000000\",\"2018-05-22 00:00:00.000000\",\"2018-05-23 00:00:00.000000\",\"2018-05-24 00:00:00.000000\",\"2018-05-25 00:00:00.000000\",\"2018-05-29 00:00:00.000000\",\"2018-05-30 00:00:00.000000\",\"2018-05-31 00:00:00.000000\",\"2018-06-01 00:00:00.000000\",\"2018-06-04 00:00:00.000000\",\"2018-06-05 00:00:00.000000\",\"2018-06-06 00:00:00.000000\",\"2018-06-07 00:00:00.000000\",\"2018-06-08 00:00:00.000000\",\"2018-06-11 00:00:00.000000\",\"2018-06-12 00:00:00.000000\",\"2018-06-13 00:00:00.000000\",\"2018-06-14 00:00:00.000000\",\"2018-06-15 00:00:00.000000\",\"2018-06-18 00:00:00.000000\",\"2018-06-19 00:00:00.000000\",\"2018-06-20 00:00:00.000000\",\"2018-06-21 00:00:00.000000\",\"2018-06-22 00:00:00.000000\",\"2018-06-25 00:00:00.000000\",\"2018-06-26 00:00:00.000000\",\"2018-06-27 00:00:00.000000\",\"2018-06-28 00:00:00.000000\",\"2018-06-29 00:00:00.000000\",\"2018-07-02 00:00:00.000000\",\"2018-07-03 00:00:00.000000\",\"2018-07-05 00:00:00.000000\",\"2018-07-06 00:00:00.000000\",\"2018-07-09 00:00:00.000000\",\"2018-07-10 00:00:00.000000\",\"2018-07-11 00:00:00.000000\",\"2018-07-12 00:00:00.000000\",\"2018-07-13 00:00:00.000000\",\"2018-07-16 00:00:00.000000\",\"2018-07-17 00:00:00.000000\",\"2018-07-18 00:00:00.000000\",\"2018-07-19 00:00:00.000000\",\"2018-07-20 00:00:00.000000\",\"2018-07-23 00:00:00.000000\",\"2018-07-24 00:00:00.000000\",\"2018-07-25 00:00:00.000000\",\"2018-07-26 00:00:00.000000\",\"2018-07-27 00:00:00.000000\",\"2018-07-30 00:00:00.000000\",\"2018-07-31 00:00:00.000000\",\"2018-08-01 00:00:00.000000\",\"2018-08-02 00:00:00.000000\",\"2018-08-03 00:00:00.000000\",\"2018-08-06 00:00:00.000000\",\"2018-08-07 00:00:00.000000\",\"2018-08-08 00:00:00.000000\",\"2018-08-09 00:00:00.000000\",\"2018-08-10 00:00:00.000000\",\"2018-08-13 00:00:00.000000\",\"2018-08-14 00:00:00.000000\",\"2018-08-15 00:00:00.000000\",\"2018-08-16 00:00:00.000000\",\"2018-08-17 00:00:00.000000\",\"2018-08-20 00:00:00.000000\",\"2018-08-21 00:00:00.000000\",\"2018-08-22 00:00:00.000000\",\"2018-08-23 00:00:00.000000\",\"2018-08-24 00:00:00.000000\",\"2018-08-27 00:00:00.000000\",\"2018-08-28 00:00:00.000000\",\"2018-08-29 00:00:00.000000\",\"2018-08-30 00:00:00.000000\",\"2018-08-31 00:00:00.000000\",\"2018-09-04 00:00:00.000000\",\"2018-09-05 00:00:00.000000\",\"2018-09-06 00:00:00.000000\",\"2018-09-07 00:00:00.000000\",\"2018-09-10 00:00:00.000000\",\"2018-09-11 00:00:00.000000\",\"2018-09-12 00:00:00.000000\",\"2018-09-13 00:00:00.000000\",\"2018-09-14 00:00:00.000000\",\"2018-09-17 00:00:00.000000\",\"2018-09-18 00:00:00.000000\",\"2018-09-19 00:00:00.000000\",\"2018-09-20 00:00:00.000000\",\"2018-09-21 00:00:00.000000\",\"2018-09-24 00:00:00.000000\",\"2018-09-25 00:00:00.000000\",\"2018-09-26 00:00:00.000000\",\"2018-09-27 00:00:00.000000\",\"2018-09-28 00:00:00.000000\",\"2018-10-01 00:00:00.000000\",\"2018-10-02 00:00:00.000000\",\"2018-10-03 00:00:00.000000\",\"2018-10-04 00:00:00.000000\",\"2018-10-05 00:00:00.000000\",\"2018-10-08 00:00:00.000000\",\"2018-10-09 00:00:00.000000\",\"2018-10-10 00:00:00.000000\",\"2018-10-11 00:00:00.000000\",\"2018-10-12 00:00:00.000000\",\"2018-10-15 00:00:00.000000\",\"2018-10-16 00:00:00.000000\",\"2018-10-17 00:00:00.000000\",\"2018-10-18 00:00:00.000000\",\"2018-10-19 00:00:00.000000\",\"2018-10-22 00:00:00.000000\",\"2018-10-23 00:00:00.000000\",\"2018-10-24 00:00:00.000000\",\"2018-10-25 00:00:00.000000\",\"2018-10-26 00:00:00.000000\",\"2018-10-29 00:00:00.000000\",\"2018-10-30 00:00:00.000000\",\"2018-10-31 00:00:00.000000\",\"2018-11-01 00:00:00.000000\",\"2018-11-02 00:00:00.000000\",\"2018-11-05 00:00:00.000000\",\"2018-11-06 00:00:00.000000\",\"2018-11-07 00:00:00.000000\",\"2018-11-08 00:00:00.000000\",\"2018-11-09 00:00:00.000000\",\"2018-11-12 00:00:00.000000\",\"2018-11-13 00:00:00.000000\",\"2018-11-14 00:00:00.000000\",\"2018-11-15 00:00:00.000000\",\"2018-11-16 00:00:00.000000\",\"2018-11-19 00:00:00.000000\",\"2018-11-20 00:00:00.000000\",\"2018-11-21 00:00:00.000000\",\"2018-11-23 00:00:00.000000\",\"2018-11-26 00:00:00.000000\",\"2018-11-27 00:00:00.000000\",\"2018-11-28 00:00:00.000000\",\"2018-11-29 00:00:00.000000\",\"2018-11-30 00:00:00.000000\",\"2018-12-03 00:00:00.000000\",\"2018-12-04 00:00:00.000000\",\"2018-12-06 00:00:00.000000\",\"2018-12-07 00:00:00.000000\",\"2018-12-10 00:00:00.000000\",\"2018-12-11 00:00:00.000000\",\"2018-12-12 00:00:00.000000\",\"2018-12-13 00:00:00.000000\",\"2018-12-14 00:00:00.000000\",\"2018-12-17 00:00:00.000000\",\"2018-12-18 00:00:00.000000\",\"2018-12-19 00:00:00.000000\",\"2018-12-20 00:00:00.000000\",\"2018-12-21 00:00:00.000000\",\"2018-12-24 00:00:00.000000\",\"2018-12-26 00:00:00.000000\",\"2018-12-27 00:00:00.000000\",\"2018-12-28 00:00:00.000000\",\"2018-12-31 00:00:00.000000\",\"2019-01-02 00:00:00.000000\",\"2019-01-03 00:00:00.000000\",\"2019-01-04 00:00:00.000000\",\"2019-01-07 00:00:00.000000\",\"2019-01-08 00:00:00.000000\",\"2019-01-09 00:00:00.000000\",\"2019-01-10 00:00:00.000000\",\"2019-01-11 00:00:00.000000\",\"2019-01-14 00:00:00.000000\",\"2019-01-15 00:00:00.000000\",\"2019-01-16 00:00:00.000000\",\"2019-01-17 00:00:00.000000\",\"2019-01-18 00:00:00.000000\",\"2019-01-22 00:00:00.000000\",\"2019-01-23 00:00:00.000000\",\"2019-01-24 00:00:00.000000\",\"2019-01-25 00:00:00.000000\",\"2019-01-28 00:00:00.000000\",\"2019-01-29 00:00:00.000000\",\"2019-01-30 00:00:00.000000\",\"2019-01-31 00:00:00.000000\",\"2019-02-01 00:00:00.000000\",\"2019-02-04 00:00:00.000000\",\"2019-02-05 00:00:00.000000\",\"2019-02-06 00:00:00.000000\",\"2019-02-07 00:00:00.000000\",\"2019-02-08 00:00:00.000000\",\"2019-02-11 00:00:00.000000\",\"2019-02-12 00:00:00.000000\",\"2019-02-13 00:00:00.000000\",\"2019-02-14 00:00:00.000000\",\"2019-02-15 00:00:00.000000\",\"2019-02-19 00:00:00.000000\",\"2019-02-20 00:00:00.000000\",\"2019-02-21 00:00:00.000000\",\"2019-02-22 00:00:00.000000\",\"2019-02-25 00:00:00.000000\",\"2019-02-26 00:00:00.000000\",\"2019-02-27 00:00:00.000000\",\"2019-02-28 00:00:00.000000\",\"2019-03-01 00:00:00.000000\",\"2019-03-04 00:00:00.000000\",\"2019-03-05 00:00:00.000000\",\"2019-03-06 00:00:00.000000\",\"2019-03-07 00:00:00.000000\",\"2019-03-08 00:00:00.000000\",\"2019-03-11 00:00:00.000000\",\"2019-03-12 00:00:00.000000\",\"2019-03-13 00:00:00.000000\",\"2019-03-14 00:00:00.000000\",\"2019-03-15 00:00:00.000000\",\"2019-03-18 00:00:00.000000\",\"2019-03-19 00:00:00.000000\",\"2019-03-20 00:00:00.000000\",\"2019-03-21 00:00:00.000000\",\"2019-03-22 00:00:00.000000\",\"2019-03-25 00:00:00.000000\",\"2019-03-26 00:00:00.000000\",\"2019-03-27 00:00:00.000000\",\"2019-03-28 00:00:00.000000\",\"2019-03-29 00:00:00.000000\",\"2019-04-01 00:00:00.000000\",\"2019-04-02 00:00:00.000000\",\"2019-04-03 00:00:00.000000\",\"2019-04-04 00:00:00.000000\",\"2019-04-05 00:00:00.000000\",\"2019-04-08 00:00:00.000000\",\"2019-04-09 00:00:00.000000\",\"2019-04-10 00:00:00.000000\",\"2019-04-11 00:00:00.000000\",\"2019-04-12 00:00:00.000000\",\"2019-04-15 00:00:00.000000\",\"2019-04-16 00:00:00.000000\",\"2019-04-17 00:00:00.000000\",\"2019-04-18 00:00:00.000000\",\"2019-04-22 00:00:00.000000\",\"2019-04-23 00:00:00.000000\",\"2019-04-24 00:00:00.000000\",\"2019-04-25 00:00:00.000000\",\"2019-04-26 00:00:00.000000\",\"2019-04-29 00:00:00.000000\",\"2019-04-30 00:00:00.000000\",\"2019-05-01 00:00:00.000000\",\"2019-05-02 00:00:00.000000\",\"2019-05-03 00:00:00.000000\",\"2019-05-06 00:00:00.000000\",\"2019-05-07 00:00:00.000000\",\"2019-05-08 00:00:00.000000\",\"2019-05-09 00:00:00.000000\",\"2019-05-10 00:00:00.000000\",\"2019-05-13 00:00:00.000000\",\"2019-05-14 00:00:00.000000\",\"2019-05-15 00:00:00.000000\",\"2019-05-16 00:00:00.000000\",\"2019-05-17 00:00:00.000000\",\"2019-05-20 00:00:00.000000\",\"2019-05-21 00:00:00.000000\",\"2019-05-22 00:00:00.000000\",\"2019-05-23 00:00:00.000000\",\"2019-05-24 00:00:00.000000\",\"2019-05-28 00:00:00.000000\",\"2019-05-29 00:00:00.000000\",\"2019-05-30 00:00:00.000000\",\"2019-05-31 00:00:00.000000\",\"2019-06-03 00:00:00.000000\",\"2019-06-04 00:00:00.000000\",\"2019-06-05 00:00:00.000000\",\"2019-06-06 00:00:00.000000\",\"2019-06-07 00:00:00.000000\",\"2019-06-10 00:00:00.000000\",\"2019-06-11 00:00:00.000000\",\"2019-06-12 00:00:00.000000\",\"2019-06-13 00:00:00.000000\",\"2019-06-14 00:00:00.000000\",\"2019-06-17 00:00:00.000000\",\"2019-06-18 00:00:00.000000\",\"2019-06-19 00:00:00.000000\",\"2019-06-20 00:00:00.000000\",\"2019-06-21 00:00:00.000000\",\"2019-06-24 00:00:00.000000\",\"2019-06-25 00:00:00.000000\",\"2019-06-26 00:00:00.000000\",\"2019-06-27 00:00:00.000000\",\"2019-06-28 00:00:00.000000\",\"2019-07-01 00:00:00.000000\",\"2019-07-02 00:00:00.000000\",\"2019-07-03 00:00:00.000000\",\"2019-07-05 00:00:00.000000\",\"2019-07-08 00:00:00.000000\",\"2019-07-09 00:00:00.000000\",\"2019-07-10 00:00:00.000000\",\"2019-07-11 00:00:00.000000\",\"2019-07-12 00:00:00.000000\",\"2019-07-15 00:00:00.000000\",\"2019-07-16 00:00:00.000000\",\"2019-07-17 00:00:00.000000\",\"2019-07-18 00:00:00.000000\",\"2019-07-19 00:00:00.000000\",\"2019-07-22 00:00:00.000000\",\"2019-07-23 00:00:00.000000\",\"2019-07-24 00:00:00.000000\",\"2019-07-25 00:00:00.000000\",\"2019-07-26 00:00:00.000000\",\"2019-07-29 00:00:00.000000\",\"2019-07-30 00:00:00.000000\",\"2019-07-31 00:00:00.000000\",\"2019-08-01 00:00:00.000000\",\"2019-08-02 00:00:00.000000\",\"2019-08-05 00:00:00.000000\",\"2019-08-06 00:00:00.000000\",\"2019-08-07 00:00:00.000000\",\"2019-08-08 00:00:00.000000\",\"2019-08-09 00:00:00.000000\",\"2019-08-12 00:00:00.000000\",\"2019-08-13 00:00:00.000000\",\"2019-08-14 00:00:00.000000\",\"2019-08-15 00:00:00.000000\",\"2019-08-16 00:00:00.000000\",\"2019-08-19 00:00:00.000000\",\"2019-08-20 00:00:00.000000\",\"2019-08-21 00:00:00.000000\",\"2019-08-22 00:00:00.000000\",\"2019-08-23 00:00:00.000000\",\"2019-08-26 00:00:00.000000\",\"2019-08-27 00:00:00.000000\",\"2019-08-28 00:00:00.000000\",\"2019-08-29 00:00:00.000000\",\"2019-08-30 00:00:00.000000\",\"2019-09-03 00:00:00.000000\",\"2019-09-04 00:00:00.000000\",\"2019-09-05 00:00:00.000000\",\"2019-09-06 00:00:00.000000\",\"2019-09-09 00:00:00.000000\",\"2019-09-10 00:00:00.000000\",\"2019-09-11 00:00:00.000000\",\"2019-09-12 00:00:00.000000\",\"2019-09-13 00:00:00.000000\",\"2019-09-16 00:00:00.000000\",\"2019-09-17 00:00:00.000000\",\"2019-09-18 00:00:00.000000\",\"2019-09-19 00:00:00.000000\",\"2019-09-20 00:00:00.000000\",\"2019-09-23 00:00:00.000000\",\"2019-09-24 00:00:00.000000\",\"2019-09-25 00:00:00.000000\",\"2019-09-26 00:00:00.000000\",\"2019-09-27 00:00:00.000000\",\"2019-09-30 00:00:00.000000\",\"2019-10-01 00:00:00.000000\",\"2019-10-02 00:00:00.000000\",\"2019-10-03 00:00:00.000000\",\"2019-10-04 00:00:00.000000\",\"2019-10-07 00:00:00.000000\",\"2019-10-08 00:00:00.000000\",\"2019-10-09 00:00:00.000000\",\"2019-10-10 00:00:00.000000\",\"2019-10-11 00:00:00.000000\",\"2019-10-14 00:00:00.000000\",\"2019-10-15 00:00:00.000000\",\"2019-10-16 00:00:00.000000\",\"2019-10-17 00:00:00.000000\",\"2019-10-18 00:00:00.000000\",\"2019-10-21 00:00:00.000000\",\"2019-10-22 00:00:00.000000\",\"2019-10-23 00:00:00.000000\",\"2019-10-24 00:00:00.000000\",\"2019-10-25 00:00:00.000000\",\"2019-10-28 00:00:00.000000\",\"2019-10-29 00:00:00.000000\",\"2019-10-30 00:00:00.000000\",\"2019-10-31 00:00:00.000000\",\"2019-11-01 00:00:00.000000\",\"2019-11-04 00:00:00.000000\",\"2019-11-05 00:00:00.000000\",\"2019-11-06 00:00:00.000000\",\"2019-11-07 00:00:00.000000\",\"2019-11-08 00:00:00.000000\",\"2019-11-11 00:00:00.000000\",\"2019-11-12 00:00:00.000000\",\"2019-11-13 00:00:00.000000\",\"2019-11-14 00:00:00.000000\",\"2019-11-15 00:00:00.000000\",\"2019-11-18 00:00:00.000000\",\"2019-11-19 00:00:00.000000\",\"2019-11-20 00:00:00.000000\",\"2019-11-21 00:00:00.000000\",\"2019-11-22 00:00:00.000000\",\"2019-11-25 00:00:00.000000\",\"2019-11-26 00:00:00.000000\",\"2019-11-27 00:00:00.000000\",\"2019-11-29 00:00:00.000000\",\"2019-12-02 00:00:00.000000\",\"2019-12-03 00:00:00.000000\",\"2019-12-04 00:00:00.000000\",\"2019-12-05 00:00:00.000000\",\"2019-12-06 00:00:00.000000\",\"2019-12-09 00:00:00.000000\",\"2019-12-10 00:00:00.000000\",\"2019-12-11 00:00:00.000000\",\"2019-12-12 00:00:00.000000\",\"2019-12-13 00:00:00.000000\",\"2019-12-16 00:00:00.000000\",\"2019-12-17 00:00:00.000000\",\"2019-12-18 00:00:00.000000\",\"2019-12-19 00:00:00.000000\",\"2019-12-20 00:00:00.000000\",\"2019-12-23 00:00:00.000000\",\"2019-12-24 00:00:00.000000\",\"2019-12-26 00:00:00.000000\",\"2019-12-27 00:00:00.000000\",\"2019-12-30 00:00:00.000000\",\"2019-12-31 00:00:00.000000\",\"2020-01-02 00:00:00.000000\",\"2020-01-03 00:00:00.000000\",\"2020-01-06 00:00:00.000000\",\"2020-01-07 00:00:00.000000\",\"2020-01-08 00:00:00.000000\",\"2020-01-09 00:00:00.000000\",\"2020-01-10 00:00:00.000000\",\"2020-01-13 00:00:00.000000\",\"2020-01-14 00:00:00.000000\",\"2020-01-15 00:00:00.000000\",\"2020-01-16 00:00:00.000000\",\"2020-01-17 00:00:00.000000\",\"2020-01-21 00:00:00.000000\",\"2020-01-22 00:00:00.000000\",\"2020-01-23 00:00:00.000000\",\"2020-01-24 00:00:00.000000\",\"2020-01-27 00:00:00.000000\",\"2020-01-28 00:00:00.000000\",\"2020-01-29 00:00:00.000000\",\"2020-01-30 00:00:00.000000\",\"2020-01-31 00:00:00.000000\",\"2020-02-03 00:00:00.000000\",\"2020-02-04 00:00:00.000000\",\"2020-02-05 00:00:00.000000\",\"2020-02-06 00:00:00.000000\",\"2020-02-07 00:00:00.000000\",\"2020-02-10 00:00:00.000000\",\"2020-02-11 00:00:00.000000\",\"2020-02-12 00:00:00.000000\",\"2020-02-13 00:00:00.000000\",\"2020-02-14 00:00:00.000000\",\"2020-02-18 00:00:00.000000\",\"2020-02-19 00:00:00.000000\",\"2020-02-20 00:00:00.000000\",\"2020-02-21 00:00:00.000000\",\"2020-02-24 00:00:00.000000\",\"2020-02-25 00:00:00.000000\",\"2020-02-26 00:00:00.000000\",\"2020-02-27 00:00:00.000000\",\"2020-02-28 00:00:00.000000\",\"2020-03-02 00:00:00.000000\",\"2020-03-03 00:00:00.000000\",\"2020-03-04 00:00:00.000000\",\"2020-03-05 00:00:00.000000\",\"2020-03-06 00:00:00.000000\",\"2020-03-09 00:00:00.000000\",\"2020-03-10 00:00:00.000000\",\"2020-03-11 00:00:00.000000\",\"2020-03-12 00:00:00.000000\",\"2020-03-13 00:00:00.000000\",\"2020-03-16 00:00:00.000000\",\"2020-03-17 00:00:00.000000\",\"2020-03-18 00:00:00.000000\",\"2020-03-19 00:00:00.000000\",\"2020-03-20 00:00:00.000000\",\"2020-03-23 00:00:00.000000\",\"2020-03-24 00:00:00.000000\",\"2020-03-25 00:00:00.000000\",\"2020-03-26 00:00:00.000000\",\"2020-03-27 00:00:00.000000\",\"2020-03-30 00:00:00.000000\",\"2020-03-31 00:00:00.000000\",\"2020-04-01 00:00:00.000000\",\"2020-04-02 00:00:00.000000\",\"2020-04-03 00:00:00.000000\",\"2020-04-06 00:00:00.000000\",\"2020-04-07 00:00:00.000000\",\"2020-04-08 00:00:00.000000\",\"2020-04-09 00:00:00.000000\",\"2020-04-13 00:00:00.000000\",\"2020-04-14 00:00:00.000000\",\"2020-04-15 00:00:00.000000\",\"2020-04-16 00:00:00.000000\",\"2020-04-17 00:00:00.000000\",\"2020-04-20 00:00:00.000000\",\"2020-04-21 00:00:00.000000\",\"2020-04-22 00:00:00.000000\",\"2020-04-23 00:00:00.000000\",\"2020-04-24 00:00:00.000000\",\"2020-04-27 00:00:00.000000\",\"2020-04-28 00:00:00.000000\",\"2020-04-29 00:00:00.000000\",\"2020-04-30 00:00:00.000000\",\"2020-05-01 00:00:00.000000\",\"2020-05-04 00:00:00.000000\",\"2020-05-05 00:00:00.000000\",\"2020-05-06 00:00:00.000000\",\"2020-05-07 00:00:00.000000\",\"2020-05-08 00:00:00.000000\",\"2020-05-11 00:00:00.000000\",\"2020-05-12 00:00:00.000000\",\"2020-05-13 00:00:00.000000\",\"2020-05-14 00:00:00.000000\",\"2020-05-15 00:00:00.000000\",\"2020-05-18 00:00:00.000000\",\"2020-05-19 00:00:00.000000\",\"2020-05-20 00:00:00.000000\",\"2020-05-21 00:00:00.000000\",\"2020-05-22 00:00:00.000000\",\"2020-05-26 00:00:00.000000\",\"2020-05-27 00:00:00.000000\",\"2020-05-28 00:00:00.000000\",\"2020-05-29 00:00:00.000000\",\"2020-06-01 00:00:00.000000\",\"2020-06-02 00:00:00.000000\",\"2020-06-03 00:00:00.000000\",\"2020-06-04 00:00:00.000000\",\"2020-06-05 00:00:00.000000\",\"2020-06-08 00:00:00.000000\",\"2020-06-09 00:00:00.000000\",\"2020-06-10 00:00:00.000000\",\"2020-06-11 00:00:00.000000\",\"2020-06-12 00:00:00.000000\",\"2020-06-15 00:00:00.000000\",\"2020-06-16 00:00:00.000000\",\"2020-06-17 00:00:00.000000\",\"2020-06-18 00:00:00.000000\",\"2020-06-19 00:00:00.000000\",\"2020-06-22 00:00:00.000000\",\"2020-06-23 00:00:00.000000\",\"2020-06-24 00:00:00.000000\",\"2020-06-25 00:00:00.000000\",\"2020-06-26 00:00:00.000000\",\"2020-06-29 00:00:00.000000\",\"2020-06-30 00:00:00.000000\",\"2020-07-01 00:00:00.000000\",\"2020-07-02 00:00:00.000000\",\"2020-07-06 00:00:00.000000\",\"2020-07-07 00:00:00.000000\",\"2020-07-08 00:00:00.000000\",\"2020-07-09 00:00:00.000000\",\"2020-07-10 00:00:00.000000\",\"2020-07-13 00:00:00.000000\",\"2020-07-14 00:00:00.000000\",\"2020-07-15 00:00:00.000000\",\"2020-07-16 00:00:00.000000\",\"2020-07-17 00:00:00.000000\",\"2020-07-20 00:00:00.000000\",\"2020-07-21 00:00:00.000000\",\"2020-07-22 00:00:00.000000\",\"2020-07-23 00:00:00.000000\",\"2020-07-24 00:00:00.000000\",\"2020-07-27 00:00:00.000000\",\"2020-07-28 00:00:00.000000\",\"2020-07-29 00:00:00.000000\",\"2020-07-30 00:00:00.000000\",\"2020-07-31 00:00:00.000000\",\"2020-08-03 00:00:00.000000\",\"2020-08-04 00:00:00.000000\",\"2020-08-05 00:00:00.000000\",\"2020-08-06 00:00:00.000000\",\"2020-08-07 00:00:00.000000\",\"2020-08-10 00:00:00.000000\",\"2020-08-11 00:00:00.000000\",\"2020-08-12 00:00:00.000000\",\"2020-08-13 00:00:00.000000\",\"2020-08-14 00:00:00.000000\",\"2020-08-17 00:00:00.000000\",\"2020-08-18 00:00:00.000000\",\"2020-08-19 00:00:00.000000\",\"2020-08-20 00:00:00.000000\",\"2020-08-21 00:00:00.000000\",\"2020-08-24 00:00:00.000000\",\"2020-08-25 00:00:00.000000\",\"2020-08-26 00:00:00.000000\",\"2020-08-27 00:00:00.000000\",\"2020-08-28 00:00:00.000000\",\"2020-08-31 00:00:00.000000\",\"2020-09-01 00:00:00.000000\",\"2020-09-02 00:00:00.000000\",\"2020-09-03 00:00:00.000000\",\"2020-09-04 00:00:00.000000\",\"2020-09-08 00:00:00.000000\",\"2020-09-09 00:00:00.000000\",\"2020-09-10 00:00:00.000000\",\"2020-09-11 00:00:00.000000\",\"2020-09-14 00:00:00.000000\",\"2020-09-15 00:00:00.000000\",\"2020-09-16 00:00:00.000000\",\"2020-09-17 00:00:00.000000\",\"2020-09-18 00:00:00.000000\",\"2020-09-21 00:00:00.000000\",\"2020-09-22 00:00:00.000000\",\"2020-09-23 00:00:00.000000\",\"2020-09-24 00:00:00.000000\",\"2020-09-25 00:00:00.000000\",\"2020-09-28 00:00:00.000000\",\"2020-09-29 00:00:00.000000\",\"2020-09-30 00:00:00.000000\",\"2020-10-01 00:00:00.000000\",\"2020-10-02 00:00:00.000000\",\"2020-10-05 00:00:00.000000\",\"2020-10-06 00:00:00.000000\",\"2020-10-07 00:00:00.000000\",\"2020-10-08 00:00:00.000000\",\"2020-10-09 00:00:00.000000\",\"2020-10-12 00:00:00.000000\",\"2020-10-13 00:00:00.000000\",\"2020-10-14 00:00:00.000000\",\"2020-10-15 00:00:00.000000\",\"2020-10-16 00:00:00.000000\",\"2020-10-19 00:00:00.000000\",\"2020-10-20 00:00:00.000000\",\"2020-10-21 00:00:00.000000\",\"2020-10-22 00:00:00.000000\",\"2020-10-23 00:00:00.000000\",\"2020-10-26 00:00:00.000000\",\"2020-10-27 00:00:00.000000\",\"2020-10-28 00:00:00.000000\",\"2020-10-29 00:00:00.000000\",\"2020-10-30 00:00:00.000000\",\"2020-11-02 00:00:00.000000\",\"2020-11-03 00:00:00.000000\",\"2020-11-04 00:00:00.000000\",\"2020-11-05 00:00:00.000000\",\"2020-11-06 00:00:00.000000\",\"2020-11-09 00:00:00.000000\",\"2020-11-10 00:00:00.000000\",\"2020-11-11 00:00:00.000000\",\"2020-11-12 00:00:00.000000\",\"2020-11-13 00:00:00.000000\",\"2020-11-16 00:00:00.000000\",\"2020-11-17 00:00:00.000000\",\"2020-11-18 00:00:00.000000\",\"2020-11-19 00:00:00.000000\",\"2020-11-20 00:00:00.000000\",\"2020-11-23 00:00:00.000000\",\"2020-11-24 00:00:00.000000\",\"2020-11-25 00:00:00.000000\",\"2020-11-27 00:00:00.000000\",\"2020-11-30 00:00:00.000000\",\"2020-12-01 00:00:00.000000\",\"2020-12-02 00:00:00.000000\",\"2020-12-03 00:00:00.000000\",\"2020-12-04 00:00:00.000000\"],\"tags\":[[[\"time\",\"time\",null]]]},\"id\":\"3774\",\"type\":\"FactorRange\"},{\"attributes\":{\"axis\":{\"id\":\"3789\"},\"coordinates\":null,\"dimension\":1,\"grid_line_color\":null,\"group\":null,\"ticker\":null},\"id\":\"3792\",\"type\":\"Grid\"},{\"attributes\":{\"source\":{\"id\":\"3806\"}},\"id\":\"3813\",\"type\":\"CDSView\"},{\"attributes\":{\"line_alpha\":0.1,\"line_color\":\"#30a2da\",\"line_width\":2,\"x\":{\"field\":\"time\"},\"y\":{\"field\":\"daily_returns\"}},\"id\":\"3810\",\"type\":\"Line\"},{\"attributes\":{},\"id\":\"3787\",\"type\":\"CategoricalTicker\"},{\"attributes\":{\"end\":0.1715458661010297,\"reset_end\":0.1715458661010297,\"reset_start\":-0.19523816539422575,\"start\":-0.19523816539422575,\"tags\":[[[\"daily_returns\",\"daily_returns\",null]]]},\"id\":\"3775\",\"type\":\"Range1d\"},{\"attributes\":{\"line_alpha\":0.2,\"line_color\":\"#30a2da\",\"line_width\":2,\"x\":{\"field\":\"time\"},\"y\":{\"field\":\"daily_returns\"}},\"id\":\"3811\",\"type\":\"Line\"}],\"root_ids\":[\"3772\"]},\"title\":\"Bokeh Application\",\"version\":\"2.4.3\"}};\n",
       "    var render_items = [{\"docid\":\"093596c3-1faa-40e2-b351-62b828f5450f\",\"root_ids\":[\"3772\"],\"roots\":{\"3772\":\"85f1879c-dfbc-45b6-a315-aeae304e5f15\"}}];\n",
       "    root.Bokeh.embed.embed_items_notebook(docs_json, render_items);\n",
       "  }\n",
       "  if (root.Bokeh !== undefined && root.Bokeh.Panel !== undefined) {\n",
       "    embed_document(root);\n",
       "  } else {\n",
       "    var attempts = 0;\n",
       "    var timer = setInterval(function(root) {\n",
       "      if (root.Bokeh !== undefined && root.Bokeh.Panel !== undefined) {\n",
       "        clearInterval(timer);\n",
       "        embed_document(root);\n",
       "      } else if (document.readyState == \"complete\") {\n",
       "        attempts++;\n",
       "        if (attempts > 200) {\n",
       "          clearInterval(timer);\n",
       "          console.log(\"Bokeh: ERROR: Unable to run BokehJS code because BokehJS library is missing\");\n",
       "        }\n",
       "      }\n",
       "    }, 25, root)\n",
       "  }\n",
       "})(window);</script>"
      ],
      "text/plain": [
       ":Curve   [time]   (daily_returns)"
      ]
     },
     "execution_count": 51,
     "metadata": {
      "application/vnd.holoviews_exec.v0+json": {
       "id": "3772"
      }
     },
     "output_type": "execute_result"
    }
   ],
   "source": [
    "# Create an interactive visualization with hvplot to plot the daily returns for PYPL.\n",
    "# YOUR CODE HERE\n",
    "# pypl_dataframe_daily_returns = pypl_dataframe[['daily_returns']]\n",
    "pypl_dataframe_daily_returns.hvplot(x='time', y='daily_returns').opts(title=\"Daily Returns for PYPL\", width=1000, height=500, yformatter = '%02f')"
   ]
  },
  {
   "cell_type": "markdown",
   "metadata": {},
   "source": [
    "### Step 3: Using hvPlot, create an interactive visualization for the PYPL daily returns. Reflect the “time” column of the DataFrame on the x-axis. Make sure that you professionally style and format your visualization to enhance its readability."
   ]
  },
  {
   "cell_type": "markdown",
   "metadata": {},
   "source": [
    "### Step 4: Using hvPlot, create an interactive visualization for the PYPL cumulative returns. Reflect the “time” column of the DataFrame on the x-axis. Make sure that you professionally style and format your visualization to enhance its readability."
   ]
  },
  {
   "cell_type": "code",
   "execution_count": 52,
   "metadata": {},
   "outputs": [
    {
     "data": {
      "text/html": [
       "<div>\n",
       "<style scoped>\n",
       "    .dataframe tbody tr th:only-of-type {\n",
       "        vertical-align: middle;\n",
       "    }\n",
       "\n",
       "    .dataframe tbody tr th {\n",
       "        vertical-align: top;\n",
       "    }\n",
       "\n",
       "    .dataframe thead th {\n",
       "        text-align: right;\n",
       "    }\n",
       "</style>\n",
       "<table border=\"1\" class=\"dataframe\">\n",
       "  <thead>\n",
       "    <tr style=\"text-align: right;\">\n",
       "      <th></th>\n",
       "      <th>daily_returns</th>\n",
       "    </tr>\n",
       "    <tr>\n",
       "      <th>time</th>\n",
       "      <th></th>\n",
       "    </tr>\n",
       "  </thead>\n",
       "  <tbody>\n",
       "    <tr>\n",
       "      <th>2016-12-16 00:00:00.000000</th>\n",
       "      <td>-0.005564</td>\n",
       "    </tr>\n",
       "    <tr>\n",
       "      <th>2016-12-19 00:00:00.000000</th>\n",
       "      <td>0.003306</td>\n",
       "    </tr>\n",
       "    <tr>\n",
       "      <th>2016-12-20 00:00:00.000000</th>\n",
       "      <td>0.007351</td>\n",
       "    </tr>\n",
       "    <tr>\n",
       "      <th>2016-12-21 00:00:00.000000</th>\n",
       "      <td>0.008807</td>\n",
       "    </tr>\n",
       "    <tr>\n",
       "      <th>2016-12-22 00:00:00.000000</th>\n",
       "      <td>-0.010227</td>\n",
       "    </tr>\n",
       "  </tbody>\n",
       "</table>\n",
       "</div>"
      ],
      "text/plain": [
       "                            daily_returns\n",
       "time                                     \n",
       "2016-12-16 00:00:00.000000      -0.005564\n",
       "2016-12-19 00:00:00.000000       0.003306\n",
       "2016-12-20 00:00:00.000000       0.007351\n",
       "2016-12-21 00:00:00.000000       0.008807\n",
       "2016-12-22 00:00:00.000000      -0.010227"
      ]
     },
     "execution_count": 52,
     "metadata": {},
     "output_type": "execute_result"
    }
   ],
   "source": [
    "pypl_dataframe_daily_returns.head()"
   ]
  },
  {
   "cell_type": "code",
   "execution_count": 57,
   "metadata": {},
   "outputs": [
    {
     "data": {},
     "metadata": {},
     "output_type": "display_data"
    },
    {
     "data": {
      "application/vnd.holoviews_exec.v0+json": "",
      "text/html": [
       "<div id='3880'>\n",
       "  <div class=\"bk-root\" id=\"002988b0-67d1-4421-b5f9-58f85c82384c\" data-root-id=\"3880\"></div>\n",
       "</div>\n",
       "<script type=\"application/javascript\">(function(root) {\n",
       "  function embed_document(root) {\n",
       "    var docs_json = {\"cc11d338-f8cb-4209-8e06-77746b56cf5f\":{\"defs\":[{\"extends\":null,\"module\":null,\"name\":\"ReactiveHTML1\",\"overrides\":[],\"properties\":[]},{\"extends\":null,\"module\":null,\"name\":\"FlexBox1\",\"overrides\":[],\"properties\":[{\"default\":\"flex-start\",\"kind\":null,\"name\":\"align_content\"},{\"default\":\"flex-start\",\"kind\":null,\"name\":\"align_items\"},{\"default\":\"row\",\"kind\":null,\"name\":\"flex_direction\"},{\"default\":\"wrap\",\"kind\":null,\"name\":\"flex_wrap\"},{\"default\":\"flex-start\",\"kind\":null,\"name\":\"justify_content\"}]},{\"extends\":null,\"module\":null,\"name\":\"GridStack1\",\"overrides\":[],\"properties\":[{\"default\":\"warn\",\"kind\":null,\"name\":\"mode\"},{\"default\":null,\"kind\":null,\"name\":\"ncols\"},{\"default\":null,\"kind\":null,\"name\":\"nrows\"},{\"default\":true,\"kind\":null,\"name\":\"allow_resize\"},{\"default\":true,\"kind\":null,\"name\":\"allow_drag\"},{\"default\":[],\"kind\":null,\"name\":\"state\"}]},{\"extends\":null,\"module\":null,\"name\":\"click1\",\"overrides\":[],\"properties\":[{\"default\":\"\",\"kind\":null,\"name\":\"terminal_output\"},{\"default\":\"\",\"kind\":null,\"name\":\"debug_name\"},{\"default\":0,\"kind\":null,\"name\":\"clears\"}]},{\"extends\":null,\"module\":null,\"name\":\"NotificationAreaBase1\",\"overrides\":[],\"properties\":[{\"default\":\"bottom-right\",\"kind\":null,\"name\":\"position\"},{\"default\":0,\"kind\":null,\"name\":\"_clear\"}]},{\"extends\":null,\"module\":null,\"name\":\"NotificationArea1\",\"overrides\":[],\"properties\":[{\"default\":[],\"kind\":null,\"name\":\"notifications\"},{\"default\":\"bottom-right\",\"kind\":null,\"name\":\"position\"},{\"default\":0,\"kind\":null,\"name\":\"_clear\"},{\"default\":[{\"background\":\"#ffc107\",\"icon\":{\"className\":\"fas fa-exclamation-triangle\",\"color\":\"white\",\"tagName\":\"i\"},\"type\":\"warning\"},{\"background\":\"#007bff\",\"icon\":{\"className\":\"fas fa-info-circle\",\"color\":\"white\",\"tagName\":\"i\"},\"type\":\"info\"}],\"kind\":null,\"name\":\"types\"}]},{\"extends\":null,\"module\":null,\"name\":\"Notification\",\"overrides\":[],\"properties\":[{\"default\":null,\"kind\":null,\"name\":\"background\"},{\"default\":3000,\"kind\":null,\"name\":\"duration\"},{\"default\":null,\"kind\":null,\"name\":\"icon\"},{\"default\":\"\",\"kind\":null,\"name\":\"message\"},{\"default\":null,\"kind\":null,\"name\":\"notification_type\"},{\"default\":false,\"kind\":null,\"name\":\"_destroyed\"}]},{\"extends\":null,\"module\":null,\"name\":\"TemplateActions1\",\"overrides\":[],\"properties\":[{\"default\":0,\"kind\":null,\"name\":\"open_modal\"},{\"default\":0,\"kind\":null,\"name\":\"close_modal\"}]},{\"extends\":null,\"module\":null,\"name\":\"MaterialTemplateActions1\",\"overrides\":[],\"properties\":[{\"default\":0,\"kind\":null,\"name\":\"open_modal\"},{\"default\":0,\"kind\":null,\"name\":\"close_modal\"}]}],\"roots\":{\"references\":[{\"attributes\":{},\"id\":\"3905\",\"type\":\"ResetTool\"},{\"attributes\":{\"coordinates\":null,\"data_source\":{\"id\":\"3914\"},\"glyph\":{\"id\":\"3917\"},\"group\":null,\"hover_glyph\":null,\"muted_glyph\":{\"id\":\"3919\"},\"nonselection_glyph\":{\"id\":\"3918\"},\"selection_glyph\":{\"id\":\"3922\"},\"view\":{\"id\":\"3921\"}},\"id\":\"3920\",\"type\":\"GlyphRenderer\"},{\"attributes\":{\"line_color\":\"#30a2da\",\"line_width\":2,\"x\":{\"field\":\"time\"},\"y\":{\"field\":\"daily_returns\"}},\"id\":\"3917\",\"type\":\"Line\"},{\"attributes\":{},\"id\":\"3936\",\"type\":\"UnionRenderers\"},{\"attributes\":{\"line_alpha\":0.1,\"line_color\":\"#30a2da\",\"line_width\":2,\"x\":{\"field\":\"time\"},\"y\":{\"field\":\"daily_returns\"}},\"id\":\"3918\",\"type\":\"Line\"},{\"attributes\":{},\"id\":\"3927\",\"type\":\"BasicTickFormatter\"},{\"attributes\":{},\"id\":\"3928\",\"type\":\"AllLabels\"},{\"attributes\":{\"line_alpha\":0.2,\"line_color\":\"#30a2da\",\"line_width\":2,\"x\":{\"field\":\"time\"},\"y\":{\"field\":\"daily_returns\"}},\"id\":\"3919\",\"type\":\"Line\"},{\"attributes\":{\"axis\":{\"id\":\"3897\"},\"coordinates\":null,\"dimension\":1,\"grid_line_color\":null,\"group\":null,\"ticker\":null},\"id\":\"3900\",\"type\":\"Grid\"},{\"attributes\":{\"children\":[{\"id\":\"3881\"},{\"id\":\"3885\"},{\"id\":\"3939\"}],\"margin\":[0,0,0,0],\"name\":\"Row04091\",\"tags\":[\"embedded\"]},\"id\":\"3880\",\"type\":\"Row\"},{\"attributes\":{},\"id\":\"3892\",\"type\":\"LinearScale\"},{\"attributes\":{\"margin\":[5,5,5,5],\"name\":\"HSpacer04095\",\"sizing_mode\":\"stretch_width\"},\"id\":\"3881\",\"type\":\"Spacer\"},{\"attributes\":{\"axis_label\":\"time\",\"coordinates\":null,\"formatter\":{\"id\":\"3924\"},\"group\":null,\"major_label_policy\":{\"id\":\"3925\"},\"ticker\":{\"id\":\"3895\"}},\"id\":\"3894\",\"type\":\"CategoricalAxis\"},{\"attributes\":{\"overlay\":{\"id\":\"3906\"}},\"id\":\"3904\",\"type\":\"BoxZoomTool\"},{\"attributes\":{\"axis_label\":\"daily_returns\",\"coordinates\":null,\"formatter\":{\"id\":\"3927\"},\"group\":null,\"major_label_policy\":{\"id\":\"3928\"},\"ticker\":{\"id\":\"3898\"}},\"id\":\"3897\",\"type\":\"LinearAxis\"},{\"attributes\":{\"source\":{\"id\":\"3914\"}},\"id\":\"3921\",\"type\":\"CDSView\"},{\"attributes\":{\"callback\":null,\"renderers\":[{\"id\":\"3920\"}],\"tags\":[\"hv_created\"],\"tooltips\":[[\"time\",\"@{time}\"],[\"daily_returns\",\"@{daily_returns}\"]]},\"id\":\"3884\",\"type\":\"HoverTool\"},{\"attributes\":{\"coordinates\":null,\"group\":null,\"text_color\":\"black\",\"text_font_size\":\"12pt\"},\"id\":\"3886\",\"type\":\"Title\"},{\"attributes\":{\"data\":{\"daily_returns\":{\"__ndarray__\":\"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\",\"dtype\":\"float64\",\"order\":\"little\",\"shape\":[999]},\"time\":[\"2016-12-16 00:00:00.000000\",\"2016-12-19 00:00:00.000000\",\"2016-12-20 00:00:00.000000\",\"2016-12-21 00:00:00.000000\",\"2016-12-22 00:00:00.000000\",\"2016-12-23 00:00:00.000000\",\"2016-12-27 00:00:00.000000\",\"2016-12-28 00:00:00.000000\",\"2016-12-29 00:00:00.000000\",\"2016-12-30 00:00:00.000000\",\"2017-01-03 00:00:00.000000\",\"2017-01-04 00:00:00.000000\",\"2017-01-05 00:00:00.000000\",\"2017-01-06 00:00:00.000000\",\"2017-01-09 00:00:00.000000\",\"2017-01-10 00:00:00.000000\",\"2017-01-11 00:00:00.000000\",\"2017-01-12 00:00:00.000000\",\"2017-01-13 00:00:00.000000\",\"2017-01-17 00:00:00.000000\",\"2017-01-18 00:00:00.000000\",\"2017-01-19 00:00:00.000000\",\"2017-01-20 00:00:00.000000\",\"2017-01-23 00:00:00.000000\",\"2017-01-24 00:00:00.000000\",\"2017-01-25 00:00:00.000000\",\"2017-01-26 00:00:00.000000\",\"2017-01-27 00:00:00.000000\",\"2017-01-30 00:00:00.000000\",\"2017-01-31 00:00:00.000000\",\"2017-02-01 00:00:00.000000\",\"2017-02-02 00:00:00.000000\",\"2017-02-03 00:00:00.000000\",\"2017-02-06 00:00:00.000000\",\"2017-02-07 00:00:00.000000\",\"2017-02-08 00:00:00.000000\",\"2017-02-09 00:00:00.000000\",\"2017-02-10 00:00:00.000000\",\"2017-02-13 00:00:00.000000\",\"2017-02-14 00:00:00.000000\",\"2017-02-15 00:00:00.000000\",\"2017-02-16 00:00:00.000000\",\"2017-02-17 00:00:00.000000\",\"2017-02-21 00:00:00.000000\",\"2017-02-22 00:00:00.000000\",\"2017-02-23 00:00:00.000000\",\"2017-02-24 00:00:00.000000\",\"2017-02-27 00:00:00.000000\",\"2017-02-28 00:00:00.000000\",\"2017-03-01 00:00:00.000000\",\"2017-03-02 00:00:00.000000\",\"2017-03-03 00:00:00.000000\",\"2017-03-06 00:00:00.000000\",\"2017-03-07 00:00:00.000000\",\"2017-03-08 00:00:00.000000\",\"2017-03-09 00:00:00.000000\",\"2017-03-10 00:00:00.000000\",\"2017-03-13 00:00:00.000000\",\"2017-03-14 00:00:00.000000\",\"2017-03-15 00:00:00.000000\",\"2017-03-16 00:00:00.000000\",\"2017-03-17 00:00:00.000000\",\"2017-03-20 00:00:00.000000\",\"2017-03-21 00:00:00.000000\",\"2017-03-22 00:00:00.000000\",\"2017-03-23 00:00:00.000000\",\"2017-03-24 00:00:00.000000\",\"2017-03-27 00:00:00.000000\",\"2017-03-28 00:00:00.000000\",\"2017-03-29 00:00:00.000000\",\"2017-03-30 00:00:00.000000\",\"2017-03-31 00:00:00.000000\",\"2017-04-03 00:00:00.000000\",\"2017-04-04 00:00:00.000000\",\"2017-04-05 00:00:00.000000\",\"2017-04-06 00:00:00.000000\",\"2017-04-07 00:00:00.000000\",\"2017-04-10 00:00:00.000000\",\"2017-04-11 00:00:00.000000\",\"2017-04-12 00:00:00.000000\",\"2017-04-13 00:00:00.000000\",\"2017-04-17 00:00:00.000000\",\"2017-04-18 00:00:00.000000\",\"2017-04-19 00:00:00.000000\",\"2017-04-20 00:00:00.000000\",\"2017-04-21 00:00:00.000000\",\"2017-04-24 00:00:00.000000\",\"2017-04-25 00:00:00.000000\",\"2017-04-26 00:00:00.000000\",\"2017-04-27 00:00:00.000000\",\"2017-04-28 00:00:00.000000\",\"2017-05-01 00:00:00.000000\",\"2017-05-02 00:00:00.000000\",\"2017-05-03 00:00:00.000000\",\"2017-05-04 00:00:00.000000\",\"2017-05-05 00:00:00.000000\",\"2017-05-08 00:00:00.000000\",\"2017-05-09 00:00:00.000000\",\"2017-05-10 00:00:00.000000\",\"2017-05-11 00:00:00.000000\",\"2017-05-12 00:00:00.000000\",\"2017-05-15 00:00:00.000000\",\"2017-05-16 00:00:00.000000\",\"2017-05-17 00:00:00.000000\",\"2017-05-18 00:00:00.000000\",\"2017-05-19 00:00:00.000000\",\"2017-05-22 00:00:00.000000\",\"2017-05-23 00:00:00.000000\",\"2017-05-24 00:00:00.000000\",\"2017-05-25 00:00:00.000000\",\"2017-05-26 00:00:00.000000\",\"2017-05-30 00:00:00.000000\",\"2017-05-31 00:00:00.000000\",\"2017-06-01 00:00:00.000000\",\"2017-06-02 00:00:00.000000\",\"2017-06-05 00:00:00.000000\",\"2017-06-06 00:00:00.000000\",\"2017-06-07 00:00:00.000000\",\"2017-06-08 00:00:00.000000\",\"2017-06-09 00:00:00.000000\",\"2017-06-12 00:00:00.000000\",\"2017-06-13 00:00:00.000000\",\"2017-06-14 00:00:00.000000\",\"2017-06-15 00:00:00.000000\",\"2017-06-16 00:00:00.000000\",\"2017-06-19 00:00:00.000000\",\"2017-06-20 00:00:00.000000\",\"2017-06-21 00:00:00.000000\",\"2017-06-22 00:00:00.000000\",\"2017-06-23 00:00:00.000000\",\"2017-06-26 00:00:00.000000\",\"2017-06-27 00:00:00.000000\",\"2017-06-28 00:00:00.000000\",\"2017-06-29 00:00:00.000000\",\"2017-06-30 00:00:00.000000\",\"2017-07-03 00:00:00.000000\",\"2017-07-05 00:00:00.000000\",\"2017-07-06 00:00:00.000000\",\"2017-07-07 00:00:00.000000\",\"2017-07-10 00:00:00.000000\",\"2017-07-11 00:00:00.000000\",\"2017-07-12 00:00:00.000000\",\"2017-07-13 00:00:00.000000\",\"2017-07-14 00:00:00.000000\",\"2017-07-17 00:00:00.000000\",\"2017-07-18 00:00:00.000000\",\"2017-07-19 00:00:00.000000\",\"2017-07-20 00:00:00.000000\",\"2017-07-21 00:00:00.000000\",\"2017-07-24 00:00:00.000000\",\"2017-07-25 00:00:00.000000\",\"2017-07-26 00:00:00.000000\",\"2017-07-27 00:00:00.000000\",\"2017-07-28 00:00:00.000000\",\"2017-07-31 00:00:00.000000\",\"2017-08-01 00:00:00.000000\",\"2017-08-02 00:00:00.000000\",\"2017-08-03 00:00:00.000000\",\"2017-08-04 00:00:00.000000\",\"2017-08-07 00:00:00.000000\",\"2017-08-08 00:00:00.000000\",\"2017-08-09 00:00:00.000000\",\"2017-08-10 00:00:00.000000\",\"2017-08-11 00:00:00.000000\",\"2017-08-14 00:00:00.000000\",\"2017-08-15 00:00:00.000000\",\"2017-08-16 00:00:00.000000\",\"2017-08-17 00:00:00.000000\",\"2017-08-18 00:00:00.000000\",\"2017-08-21 00:00:00.000000\",\"2017-08-22 00:00:00.000000\",\"2017-08-23 00:00:00.000000\",\"2017-08-24 00:00:00.000000\",\"2017-08-25 00:00:00.000000\",\"2017-08-28 00:00:00.000000\",\"2017-08-29 00:00:00.000000\",\"2017-08-30 00:00:00.000000\",\"2017-08-31 00:00:00.000000\",\"2017-09-01 00:00:00.000000\",\"2017-09-05 00:00:00.000000\",\"2017-09-06 00:00:00.000000\",\"2017-09-07 00:00:00.000000\",\"2017-09-08 00:00:00.000000\",\"2017-09-11 00:00:00.000000\",\"2017-09-12 00:00:00.000000\",\"2017-09-13 00:00:00.000000\",\"2017-09-14 00:00:00.000000\",\"2017-09-15 00:00:00.000000\",\"2017-09-18 00:00:00.000000\",\"2017-09-19 00:00:00.000000\",\"2017-09-20 00:00:00.000000\",\"2017-09-21 00:00:00.000000\",\"2017-09-22 00:00:00.000000\",\"2017-09-25 00:00:00.000000\",\"2017-09-26 00:00:00.000000\",\"2017-09-27 00:00:00.000000\",\"2017-09-28 00:00:00.000000\",\"2017-09-29 00:00:00.000000\",\"2017-10-02 00:00:00.000000\",\"2017-10-03 00:00:00.000000\",\"2017-10-04 00:00:00.000000\",\"2017-10-05 00:00:00.000000\",\"2017-10-06 00:00:00.000000\",\"2017-10-09 00:00:00.000000\",\"2017-10-10 00:00:00.000000\",\"2017-10-11 00:00:00.000000\",\"2017-10-12 00:00:00.000000\",\"2017-10-13 00:00:00.000000\",\"2017-10-16 00:00:00.000000\",\"2017-10-17 00:00:00.000000\",\"2017-10-18 00:00:00.000000\",\"2017-10-19 00:00:00.000000\",\"2017-10-20 00:00:00.000000\",\"2017-10-23 00:00:00.000000\",\"2017-10-24 00:00:00.000000\",\"2017-10-25 00:00:00.000000\",\"2017-10-26 00:00:00.000000\",\"2017-10-27 00:00:00.000000\",\"2017-10-30 00:00:00.000000\",\"2017-10-31 00:00:00.000000\",\"2017-11-01 00:00:00.000000\",\"2017-11-02 00:00:00.000000\",\"2017-11-03 00:00:00.000000\",\"2017-11-06 00:00:00.000000\",\"2017-11-07 00:00:00.000000\",\"2017-11-08 00:00:00.000000\",\"2017-11-09 00:00:00.000000\",\"2017-11-10 00:00:00.000000\",\"2017-11-13 00:00:00.000000\",\"2017-11-14 00:00:00.000000\",\"2017-11-15 00:00:00.000000\",\"2017-11-16 00:00:00.000000\",\"2017-11-17 00:00:00.000000\",\"2017-11-20 00:00:00.000000\",\"2017-11-21 00:00:00.000000\",\"2017-11-22 00:00:00.000000\",\"2017-11-24 00:00:00.000000\",\"2017-11-27 00:00:00.000000\",\"2017-11-28 00:00:00.000000\",\"2017-11-29 00:00:00.000000\",\"2017-11-30 00:00:00.000000\",\"2017-12-01 00:00:00.000000\",\"2017-12-04 00:00:00.000000\",\"2017-12-05 00:00:00.000000\",\"2017-12-06 00:00:00.000000\",\"2017-12-07 00:00:00.000000\",\"2017-12-08 00:00:00.000000\",\"2017-12-11 00:00:00.000000\",\"2017-12-12 00:00:00.000000\",\"2017-12-13 00:00:00.000000\",\"2017-12-14 00:00:00.000000\",\"2017-12-15 00:00:00.000000\",\"2017-12-18 00:00:00.000000\",\"2017-12-19 00:00:00.000000\",\"2017-12-20 00:00:00.000000\",\"2017-12-21 00:00:00.000000\",\"2017-12-22 00:00:00.000000\",\"2017-12-26 00:00:00.000000\",\"2017-12-27 00:00:00.000000\",\"2017-12-28 00:00:00.000000\",\"2017-12-29 00:00:00.000000\",\"2018-01-02 00:00:00.000000\",\"2018-01-03 00:00:00.000000\",\"2018-01-04 00:00:00.000000\",\"2018-01-05 00:00:00.000000\",\"2018-01-08 00:00:00.000000\",\"2018-01-09 00:00:00.000000\",\"2018-01-10 00:00:00.000000\",\"2018-01-11 00:00:00.000000\",\"2018-01-12 00:00:00.000000\",\"2018-01-16 00:00:00.000000\",\"2018-01-17 00:00:00.000000\",\"2018-01-18 00:00:00.000000\",\"2018-01-19 00:00:00.000000\",\"2018-01-22 00:00:00.000000\",\"2018-01-23 00:00:00.000000\",\"2018-01-24 00:00:00.000000\",\"2018-01-25 00:00:00.000000\",\"2018-01-26 00:00:00.000000\",\"2018-01-29 00:00:00.000000\",\"2018-01-30 00:00:00.000000\",\"2018-01-31 00:00:00.000000\",\"2018-02-01 00:00:00.000000\",\"2018-02-02 00:00:00.000000\",\"2018-02-05 00:00:00.000000\",\"2018-02-06 00:00:00.000000\",\"2018-02-07 00:00:00.000000\",\"2018-02-08 00:00:00.000000\",\"2018-02-09 00:00:00.000000\",\"2018-02-12 00:00:00.000000\",\"2018-02-13 00:00:00.000000\",\"2018-02-14 00:00:00.000000\",\"2018-02-15 00:00:00.000000\",\"2018-02-16 00:00:00.000000\",\"2018-02-20 00:00:00.000000\",\"2018-02-21 00:00:00.000000\",\"2018-02-22 00:00:00.000000\",\"2018-02-23 00:00:00.000000\",\"2018-02-26 00:00:00.000000\",\"2018-02-27 00:00:00.000000\",\"2018-02-28 00:00:00.000000\",\"2018-03-01 00:00:00.000000\",\"2018-03-02 00:00:00.000000\",\"2018-03-05 00:00:00.000000\",\"2018-03-06 00:00:00.000000\",\"2018-03-07 00:00:00.000000\",\"2018-03-08 00:00:00.000000\",\"2018-03-09 00:00:00.000000\",\"2018-03-12 00:00:00.000000\",\"2018-03-13 00:00:00.000000\",\"2018-03-14 00:00:00.000000\",\"2018-03-15 00:00:00.000000\",\"2018-03-16 00:00:00.000000\",\"2018-03-19 00:00:00.000000\",\"2018-03-20 00:00:00.000000\",\"2018-03-21 00:00:00.000000\",\"2018-03-22 00:00:00.000000\",\"2018-03-23 00:00:00.000000\",\"2018-03-26 00:00:00.000000\",\"2018-03-27 00:00:00.000000\",\"2018-03-28 00:00:00.000000\",\"2018-03-29 00:00:00.000000\",\"2018-04-02 00:00:00.000000\",\"2018-04-03 00:00:00.000000\",\"2018-04-04 00:00:00.000000\",\"2018-04-05 00:00:00.000000\",\"2018-04-06 00:00:00.000000\",\"2018-04-09 00:00:00.000000\",\"2018-04-10 00:00:00.000000\",\"2018-04-11 00:00:00.000000\",\"2018-04-12 00:00:00.000000\",\"2018-04-13 00:00:00.000000\",\"2018-04-16 00:00:00.000000\",\"2018-04-17 00:00:00.000000\",\"2018-04-18 00:00:00.000000\",\"2018-04-19 00:00:00.000000\",\"2018-04-20 00:00:00.000000\",\"2018-04-23 00:00:00.000000\",\"2018-04-24 00:00:00.000000\",\"2018-04-25 00:00:00.000000\",\"2018-04-26 00:00:00.000000\",\"2018-04-27 00:00:00.000000\",\"2018-04-30 00:00:00.000000\",\"2018-05-01 00:00:00.000000\",\"2018-05-02 00:00:00.000000\",\"2018-05-03 00:00:00.000000\",\"2018-05-04 00:00:00.000000\",\"2018-05-07 00:00:00.000000\",\"2018-05-08 00:00:00.000000\",\"2018-05-09 00:00:00.000000\",\"2018-05-10 00:00:00.000000\",\"2018-05-11 00:00:00.000000\",\"2018-05-14 00:00:00.000000\",\"2018-05-15 00:00:00.000000\",\"2018-05-16 00:00:00.000000\",\"2018-05-17 00:00:00.000000\",\"2018-05-18 00:00:00.000000\",\"2018-05-21 00:00:00.000000\",\"2018-05-22 00:00:00.000000\",\"2018-05-23 00:00:00.000000\",\"2018-05-24 00:00:00.000000\",\"2018-05-25 00:00:00.000000\",\"2018-05-29 00:00:00.000000\",\"2018-05-30 00:00:00.000000\",\"2018-05-31 00:00:00.000000\",\"2018-06-01 00:00:00.000000\",\"2018-06-04 00:00:00.000000\",\"2018-06-05 00:00:00.000000\",\"2018-06-06 00:00:00.000000\",\"2018-06-07 00:00:00.000000\",\"2018-06-08 00:00:00.000000\",\"2018-06-11 00:00:00.000000\",\"2018-06-12 00:00:00.000000\",\"2018-06-13 00:00:00.000000\",\"2018-06-14 00:00:00.000000\",\"2018-06-15 00:00:00.000000\",\"2018-06-18 00:00:00.000000\",\"2018-06-19 00:00:00.000000\",\"2018-06-20 00:00:00.000000\",\"2018-06-21 00:00:00.000000\",\"2018-06-22 00:00:00.000000\",\"2018-06-25 00:00:00.000000\",\"2018-06-26 00:00:00.000000\",\"2018-06-27 00:00:00.000000\",\"2018-06-28 00:00:00.000000\",\"2018-06-29 00:00:00.000000\",\"2018-07-02 00:00:00.000000\",\"2018-07-03 00:00:00.000000\",\"2018-07-05 00:00:00.000000\",\"2018-07-06 00:00:00.000000\",\"2018-07-09 00:00:00.000000\",\"2018-07-10 00:00:00.000000\",\"2018-07-11 00:00:00.000000\",\"2018-07-12 00:00:00.000000\",\"2018-07-13 00:00:00.000000\",\"2018-07-16 00:00:00.000000\",\"2018-07-17 00:00:00.000000\",\"2018-07-18 00:00:00.000000\",\"2018-07-19 00:00:00.000000\",\"2018-07-20 00:00:00.000000\",\"2018-07-23 00:00:00.000000\",\"2018-07-24 00:00:00.000000\",\"2018-07-25 00:00:00.000000\",\"2018-07-26 00:00:00.000000\",\"2018-07-27 00:00:00.000000\",\"2018-07-30 00:00:00.000000\",\"2018-07-31 00:00:00.000000\",\"2018-08-01 00:00:00.000000\",\"2018-08-02 00:00:00.000000\",\"2018-08-03 00:00:00.000000\",\"2018-08-06 00:00:00.000000\",\"2018-08-07 00:00:00.000000\",\"2018-08-08 00:00:00.000000\",\"2018-08-09 00:00:00.000000\",\"2018-08-10 00:00:00.000000\",\"2018-08-13 00:00:00.000000\",\"2018-08-14 00:00:00.000000\",\"2018-08-15 00:00:00.000000\",\"2018-08-16 00:00:00.000000\",\"2018-08-17 00:00:00.000000\",\"2018-08-20 00:00:00.000000\",\"2018-08-21 00:00:00.000000\",\"2018-08-22 00:00:00.000000\",\"2018-08-23 00:00:00.000000\",\"2018-08-24 00:00:00.000000\",\"2018-08-27 00:00:00.000000\",\"2018-08-28 00:00:00.000000\",\"2018-08-29 00:00:00.000000\",\"2018-08-30 00:00:00.000000\",\"2018-08-31 00:00:00.000000\",\"2018-09-04 00:00:00.000000\",\"2018-09-05 00:00:00.000000\",\"2018-09-06 00:00:00.000000\",\"2018-09-07 00:00:00.000000\",\"2018-09-10 00:00:00.000000\",\"2018-09-11 00:00:00.000000\",\"2018-09-12 00:00:00.000000\",\"2018-09-13 00:00:00.000000\",\"2018-09-14 00:00:00.000000\",\"2018-09-17 00:00:00.000000\",\"2018-09-18 00:00:00.000000\",\"2018-09-19 00:00:00.000000\",\"2018-09-20 00:00:00.000000\",\"2018-09-21 00:00:00.000000\",\"2018-09-24 00:00:00.000000\",\"2018-09-25 00:00:00.000000\",\"2018-09-26 00:00:00.000000\",\"2018-09-27 00:00:00.000000\",\"2018-09-28 00:00:00.000000\",\"2018-10-01 00:00:00.000000\",\"2018-10-02 00:00:00.000000\",\"2018-10-03 00:00:00.000000\",\"2018-10-04 00:00:00.000000\",\"2018-10-05 00:00:00.000000\",\"2018-10-08 00:00:00.000000\",\"2018-10-09 00:00:00.000000\",\"2018-10-10 00:00:00.000000\",\"2018-10-11 00:00:00.000000\",\"2018-10-12 00:00:00.000000\",\"2018-10-15 00:00:00.000000\",\"2018-10-16 00:00:00.000000\",\"2018-10-17 00:00:00.000000\",\"2018-10-18 00:00:00.000000\",\"2018-10-19 00:00:00.000000\",\"2018-10-22 00:00:00.000000\",\"2018-10-23 00:00:00.000000\",\"2018-10-24 00:00:00.000000\",\"2018-10-25 00:00:00.000000\",\"2018-10-26 00:00:00.000000\",\"2018-10-29 00:00:00.000000\",\"2018-10-30 00:00:00.000000\",\"2018-10-31 00:00:00.000000\",\"2018-11-01 00:00:00.000000\",\"2018-11-02 00:00:00.000000\",\"2018-11-05 00:00:00.000000\",\"2018-11-06 00:00:00.000000\",\"2018-11-07 00:00:00.000000\",\"2018-11-08 00:00:00.000000\",\"2018-11-09 00:00:00.000000\",\"2018-11-12 00:00:00.000000\",\"2018-11-13 00:00:00.000000\",\"2018-11-14 00:00:00.000000\",\"2018-11-15 00:00:00.000000\",\"2018-11-16 00:00:00.000000\",\"2018-11-19 00:00:00.000000\",\"2018-11-20 00:00:00.000000\",\"2018-11-21 00:00:00.000000\",\"2018-11-23 00:00:00.000000\",\"2018-11-26 00:00:00.000000\",\"2018-11-27 00:00:00.000000\",\"2018-11-28 00:00:00.000000\",\"2018-11-29 00:00:00.000000\",\"2018-11-30 00:00:00.000000\",\"2018-12-03 00:00:00.000000\",\"2018-12-04 00:00:00.000000\",\"2018-12-06 00:00:00.000000\",\"2018-12-07 00:00:00.000000\",\"2018-12-10 00:00:00.000000\",\"2018-12-11 00:00:00.000000\",\"2018-12-12 00:00:00.000000\",\"2018-12-13 00:00:00.000000\",\"2018-12-14 00:00:00.000000\",\"2018-12-17 00:00:00.000000\",\"2018-12-18 00:00:00.000000\",\"2018-12-19 00:00:00.000000\",\"2018-12-20 00:00:00.000000\",\"2018-12-21 00:00:00.000000\",\"2018-12-24 00:00:00.000000\",\"2018-12-26 00:00:00.000000\",\"2018-12-27 00:00:00.000000\",\"2018-12-28 00:00:00.000000\",\"2018-12-31 00:00:00.000000\",\"2019-01-02 00:00:00.000000\",\"2019-01-03 00:00:00.000000\",\"2019-01-04 00:00:00.000000\",\"2019-01-07 00:00:00.000000\",\"2019-01-08 00:00:00.000000\",\"2019-01-09 00:00:00.000000\",\"2019-01-10 00:00:00.000000\",\"2019-01-11 00:00:00.000000\",\"2019-01-14 00:00:00.000000\",\"2019-01-15 00:00:00.000000\",\"2019-01-16 00:00:00.000000\",\"2019-01-17 00:00:00.000000\",\"2019-01-18 00:00:00.000000\",\"2019-01-22 00:00:00.000000\",\"2019-01-23 00:00:00.000000\",\"2019-01-24 00:00:00.000000\",\"2019-01-25 00:00:00.000000\",\"2019-01-28 00:00:00.000000\",\"2019-01-29 00:00:00.000000\",\"2019-01-30 00:00:00.000000\",\"2019-01-31 00:00:00.000000\",\"2019-02-01 00:00:00.000000\",\"2019-02-04 00:00:00.000000\",\"2019-02-05 00:00:00.000000\",\"2019-02-06 00:00:00.000000\",\"2019-02-07 00:00:00.000000\",\"2019-02-08 00:00:00.000000\",\"2019-02-11 00:00:00.000000\",\"2019-02-12 00:00:00.000000\",\"2019-02-13 00:00:00.000000\",\"2019-02-14 00:00:00.000000\",\"2019-02-15 00:00:00.000000\",\"2019-02-19 00:00:00.000000\",\"2019-02-20 00:00:00.000000\",\"2019-02-21 00:00:00.000000\",\"2019-02-22 00:00:00.000000\",\"2019-02-25 00:00:00.000000\",\"2019-02-26 00:00:00.000000\",\"2019-02-27 00:00:00.000000\",\"2019-02-28 00:00:00.000000\",\"2019-03-01 00:00:00.000000\",\"2019-03-04 00:00:00.000000\",\"2019-03-05 00:00:00.000000\",\"2019-03-06 00:00:00.000000\",\"2019-03-07 00:00:00.000000\",\"2019-03-08 00:00:00.000000\",\"2019-03-11 00:00:00.000000\",\"2019-03-12 00:00:00.000000\",\"2019-03-13 00:00:00.000000\",\"2019-03-14 00:00:00.000000\",\"2019-03-15 00:00:00.000000\",\"2019-03-18 00:00:00.000000\",\"2019-03-19 00:00:00.000000\",\"2019-03-20 00:00:00.000000\",\"2019-03-21 00:00:00.000000\",\"2019-03-22 00:00:00.000000\",\"2019-03-25 00:00:00.000000\",\"2019-03-26 00:00:00.000000\",\"2019-03-27 00:00:00.000000\",\"2019-03-28 00:00:00.000000\",\"2019-03-29 00:00:00.000000\",\"2019-04-01 00:00:00.000000\",\"2019-04-02 00:00:00.000000\",\"2019-04-03 00:00:00.000000\",\"2019-04-04 00:00:00.000000\",\"2019-04-05 00:00:00.000000\",\"2019-04-08 00:00:00.000000\",\"2019-04-09 00:00:00.000000\",\"2019-04-10 00:00:00.000000\",\"2019-04-11 00:00:00.000000\",\"2019-04-12 00:00:00.000000\",\"2019-04-15 00:00:00.000000\",\"2019-04-16 00:00:00.000000\",\"2019-04-17 00:00:00.000000\",\"2019-04-18 00:00:00.000000\",\"2019-04-22 00:00:00.000000\",\"2019-04-23 00:00:00.000000\",\"2019-04-24 00:00:00.000000\",\"2019-04-25 00:00:00.000000\",\"2019-04-26 00:00:00.000000\",\"2019-04-29 00:00:00.000000\",\"2019-04-30 00:00:00.000000\",\"2019-05-01 00:00:00.000000\",\"2019-05-02 00:00:00.000000\",\"2019-05-03 00:00:00.000000\",\"2019-05-06 00:00:00.000000\",\"2019-05-07 00:00:00.000000\",\"2019-05-08 00:00:00.000000\",\"2019-05-09 00:00:00.000000\",\"2019-05-10 00:00:00.000000\",\"2019-05-13 00:00:00.000000\",\"2019-05-14 00:00:00.000000\",\"2019-05-15 00:00:00.000000\",\"2019-05-16 00:00:00.000000\",\"2019-05-17 00:00:00.000000\",\"2019-05-20 00:00:00.000000\",\"2019-05-21 00:00:00.000000\",\"2019-05-22 00:00:00.000000\",\"2019-05-23 00:00:00.000000\",\"2019-05-24 00:00:00.000000\",\"2019-05-28 00:00:00.000000\",\"2019-05-29 00:00:00.000000\",\"2019-05-30 00:00:00.000000\",\"2019-05-31 00:00:00.000000\",\"2019-06-03 00:00:00.000000\",\"2019-06-04 00:00:00.000000\",\"2019-06-05 00:00:00.000000\",\"2019-06-06 00:00:00.000000\",\"2019-06-07 00:00:00.000000\",\"2019-06-10 00:00:00.000000\",\"2019-06-11 00:00:00.000000\",\"2019-06-12 00:00:00.000000\",\"2019-06-13 00:00:00.000000\",\"2019-06-14 00:00:00.000000\",\"2019-06-17 00:00:00.000000\",\"2019-06-18 00:00:00.000000\",\"2019-06-19 00:00:00.000000\",\"2019-06-20 00:00:00.000000\",\"2019-06-21 00:00:00.000000\",\"2019-06-24 00:00:00.000000\",\"2019-06-25 00:00:00.000000\",\"2019-06-26 00:00:00.000000\",\"2019-06-27 00:00:00.000000\",\"2019-06-28 00:00:00.000000\",\"2019-07-01 00:00:00.000000\",\"2019-07-02 00:00:00.000000\",\"2019-07-03 00:00:00.000000\",\"2019-07-05 00:00:00.000000\",\"2019-07-08 00:00:00.000000\",\"2019-07-09 00:00:00.000000\",\"2019-07-10 00:00:00.000000\",\"2019-07-11 00:00:00.000000\",\"2019-07-12 00:00:00.000000\",\"2019-07-15 00:00:00.000000\",\"2019-07-16 00:00:00.000000\",\"2019-07-17 00:00:00.000000\",\"2019-07-18 00:00:00.000000\",\"2019-07-19 00:00:00.000000\",\"2019-07-22 00:00:00.000000\",\"2019-07-23 00:00:00.000000\",\"2019-07-24 00:00:00.000000\",\"2019-07-25 00:00:00.000000\",\"2019-07-26 00:00:00.000000\",\"2019-07-29 00:00:00.000000\",\"2019-07-30 00:00:00.000000\",\"2019-07-31 00:00:00.000000\",\"2019-08-01 00:00:00.000000\",\"2019-08-02 00:00:00.000000\",\"2019-08-05 00:00:00.000000\",\"2019-08-06 00:00:00.000000\",\"2019-08-07 00:00:00.000000\",\"2019-08-08 00:00:00.000000\",\"2019-08-09 00:00:00.000000\",\"2019-08-12 00:00:00.000000\",\"2019-08-13 00:00:00.000000\",\"2019-08-14 00:00:00.000000\",\"2019-08-15 00:00:00.000000\",\"2019-08-16 00:00:00.000000\",\"2019-08-19 00:00:00.000000\",\"2019-08-20 00:00:00.000000\",\"2019-08-21 00:00:00.000000\",\"2019-08-22 00:00:00.000000\",\"2019-08-23 00:00:00.000000\",\"2019-08-26 00:00:00.000000\",\"2019-08-27 00:00:00.000000\",\"2019-08-28 00:00:00.000000\",\"2019-08-29 00:00:00.000000\",\"2019-08-30 00:00:00.000000\",\"2019-09-03 00:00:00.000000\",\"2019-09-04 00:00:00.000000\",\"2019-09-05 00:00:00.000000\",\"2019-09-06 00:00:00.000000\",\"2019-09-09 00:00:00.000000\",\"2019-09-10 00:00:00.000000\",\"2019-09-11 00:00:00.000000\",\"2019-09-12 00:00:00.000000\",\"2019-09-13 00:00:00.000000\",\"2019-09-16 00:00:00.000000\",\"2019-09-17 00:00:00.000000\",\"2019-09-18 00:00:00.000000\",\"2019-09-19 00:00:00.000000\",\"2019-09-20 00:00:00.000000\",\"2019-09-23 00:00:00.000000\",\"2019-09-24 00:00:00.000000\",\"2019-09-25 00:00:00.000000\",\"2019-09-26 00:00:00.000000\",\"2019-09-27 00:00:00.000000\",\"2019-09-30 00:00:00.000000\",\"2019-10-01 00:00:00.000000\",\"2019-10-02 00:00:00.000000\",\"2019-10-03 00:00:00.000000\",\"2019-10-04 00:00:00.000000\",\"2019-10-07 00:00:00.000000\",\"2019-10-08 00:00:00.000000\",\"2019-10-09 00:00:00.000000\",\"2019-10-10 00:00:00.000000\",\"2019-10-11 00:00:00.000000\",\"2019-10-14 00:00:00.000000\",\"2019-10-15 00:00:00.000000\",\"2019-10-16 00:00:00.000000\",\"2019-10-17 00:00:00.000000\",\"2019-10-18 00:00:00.000000\",\"2019-10-21 00:00:00.000000\",\"2019-10-22 00:00:00.000000\",\"2019-10-23 00:00:00.000000\",\"2019-10-24 00:00:00.000000\",\"2019-10-25 00:00:00.000000\",\"2019-10-28 00:00:00.000000\",\"2019-10-29 00:00:00.000000\",\"2019-10-30 00:00:00.000000\",\"2019-10-31 00:00:00.000000\",\"2019-11-01 00:00:00.000000\",\"2019-11-04 00:00:00.000000\",\"2019-11-05 00:00:00.000000\",\"2019-11-06 00:00:00.000000\",\"2019-11-07 00:00:00.000000\",\"2019-11-08 00:00:00.000000\",\"2019-11-11 00:00:00.000000\",\"2019-11-12 00:00:00.000000\",\"2019-11-13 00:00:00.000000\",\"2019-11-14 00:00:00.000000\",\"2019-11-15 00:00:00.000000\",\"2019-11-18 00:00:00.000000\",\"2019-11-19 00:00:00.000000\",\"2019-11-20 00:00:00.000000\",\"2019-11-21 00:00:00.000000\",\"2019-11-22 00:00:00.000000\",\"2019-11-25 00:00:00.000000\",\"2019-11-26 00:00:00.000000\",\"2019-11-27 00:00:00.000000\",\"2019-11-29 00:00:00.000000\",\"2019-12-02 00:00:00.000000\",\"2019-12-03 00:00:00.000000\",\"2019-12-04 00:00:00.000000\",\"2019-12-05 00:00:00.000000\",\"2019-12-06 00:00:00.000000\",\"2019-12-09 00:00:00.000000\",\"2019-12-10 00:00:00.000000\",\"2019-12-11 00:00:00.000000\",\"2019-12-12 00:00:00.000000\",\"2019-12-13 00:00:00.000000\",\"2019-12-16 00:00:00.000000\",\"2019-12-17 00:00:00.000000\",\"2019-12-18 00:00:00.000000\",\"2019-12-19 00:00:00.000000\",\"2019-12-20 00:00:00.000000\",\"2019-12-23 00:00:00.000000\",\"2019-12-24 00:00:00.000000\",\"2019-12-26 00:00:00.000000\",\"2019-12-27 00:00:00.000000\",\"2019-12-30 00:00:00.000000\",\"2019-12-31 00:00:00.000000\",\"2020-01-02 00:00:00.000000\",\"2020-01-03 00:00:00.000000\",\"2020-01-06 00:00:00.000000\",\"2020-01-07 00:00:00.000000\",\"2020-01-08 00:00:00.000000\",\"2020-01-09 00:00:00.000000\",\"2020-01-10 00:00:00.000000\",\"2020-01-13 00:00:00.000000\",\"2020-01-14 00:00:00.000000\",\"2020-01-15 00:00:00.000000\",\"2020-01-16 00:00:00.000000\",\"2020-01-17 00:00:00.000000\",\"2020-01-21 00:00:00.000000\",\"2020-01-22 00:00:00.000000\",\"2020-01-23 00:00:00.000000\",\"2020-01-24 00:00:00.000000\",\"2020-01-27 00:00:00.000000\",\"2020-01-28 00:00:00.000000\",\"2020-01-29 00:00:00.000000\",\"2020-01-30 00:00:00.000000\",\"2020-01-31 00:00:00.000000\",\"2020-02-03 00:00:00.000000\",\"2020-02-04 00:00:00.000000\",\"2020-02-05 00:00:00.000000\",\"2020-02-06 00:00:00.000000\",\"2020-02-07 00:00:00.000000\",\"2020-02-10 00:00:00.000000\",\"2020-02-11 00:00:00.000000\",\"2020-02-12 00:00:00.000000\",\"2020-02-13 00:00:00.000000\",\"2020-02-14 00:00:00.000000\",\"2020-02-18 00:00:00.000000\",\"2020-02-19 00:00:00.000000\",\"2020-02-20 00:00:00.000000\",\"2020-02-21 00:00:00.000000\",\"2020-02-24 00:00:00.000000\",\"2020-02-25 00:00:00.000000\",\"2020-02-26 00:00:00.000000\",\"2020-02-27 00:00:00.000000\",\"2020-02-28 00:00:00.000000\",\"2020-03-02 00:00:00.000000\",\"2020-03-03 00:00:00.000000\",\"2020-03-04 00:00:00.000000\",\"2020-03-05 00:00:00.000000\",\"2020-03-06 00:00:00.000000\",\"2020-03-09 00:00:00.000000\",\"2020-03-10 00:00:00.000000\",\"2020-03-11 00:00:00.000000\",\"2020-03-12 00:00:00.000000\",\"2020-03-13 00:00:00.000000\",\"2020-03-16 00:00:00.000000\",\"2020-03-17 00:00:00.000000\",\"2020-03-18 00:00:00.000000\",\"2020-03-19 00:00:00.000000\",\"2020-03-20 00:00:00.000000\",\"2020-03-23 00:00:00.000000\",\"2020-03-24 00:00:00.000000\",\"2020-03-25 00:00:00.000000\",\"2020-03-26 00:00:00.000000\",\"2020-03-27 00:00:00.000000\",\"2020-03-30 00:00:00.000000\",\"2020-03-31 00:00:00.000000\",\"2020-04-01 00:00:00.000000\",\"2020-04-02 00:00:00.000000\",\"2020-04-03 00:00:00.000000\",\"2020-04-06 00:00:00.000000\",\"2020-04-07 00:00:00.000000\",\"2020-04-08 00:00:00.000000\",\"2020-04-09 00:00:00.000000\",\"2020-04-13 00:00:00.000000\",\"2020-04-14 00:00:00.000000\",\"2020-04-15 00:00:00.000000\",\"2020-04-16 00:00:00.000000\",\"2020-04-17 00:00:00.000000\",\"2020-04-20 00:00:00.000000\",\"2020-04-21 00:00:00.000000\",\"2020-04-22 00:00:00.000000\",\"2020-04-23 00:00:00.000000\",\"2020-04-24 00:00:00.000000\",\"2020-04-27 00:00:00.000000\",\"2020-04-28 00:00:00.000000\",\"2020-04-29 00:00:00.000000\",\"2020-04-30 00:00:00.000000\",\"2020-05-01 00:00:00.000000\",\"2020-05-04 00:00:00.000000\",\"2020-05-05 00:00:00.000000\",\"2020-05-06 00:00:00.000000\",\"2020-05-07 00:00:00.000000\",\"2020-05-08 00:00:00.000000\",\"2020-05-11 00:00:00.000000\",\"2020-05-12 00:00:00.000000\",\"2020-05-13 00:00:00.000000\",\"2020-05-14 00:00:00.000000\",\"2020-05-15 00:00:00.000000\",\"2020-05-18 00:00:00.000000\",\"2020-05-19 00:00:00.000000\",\"2020-05-20 00:00:00.000000\",\"2020-05-21 00:00:00.000000\",\"2020-05-22 00:00:00.000000\",\"2020-05-26 00:00:00.000000\",\"2020-05-27 00:00:00.000000\",\"2020-05-28 00:00:00.000000\",\"2020-05-29 00:00:00.000000\",\"2020-06-01 00:00:00.000000\",\"2020-06-02 00:00:00.000000\",\"2020-06-03 00:00:00.000000\",\"2020-06-04 00:00:00.000000\",\"2020-06-05 00:00:00.000000\",\"2020-06-08 00:00:00.000000\",\"2020-06-09 00:00:00.000000\",\"2020-06-10 00:00:00.000000\",\"2020-06-11 00:00:00.000000\",\"2020-06-12 00:00:00.000000\",\"2020-06-15 00:00:00.000000\",\"2020-06-16 00:00:00.000000\",\"2020-06-17 00:00:00.000000\",\"2020-06-18 00:00:00.000000\",\"2020-06-19 00:00:00.000000\",\"2020-06-22 00:00:00.000000\",\"2020-06-23 00:00:00.000000\",\"2020-06-24 00:00:00.000000\",\"2020-06-25 00:00:00.000000\",\"2020-06-26 00:00:00.000000\",\"2020-06-29 00:00:00.000000\",\"2020-06-30 00:00:00.000000\",\"2020-07-01 00:00:00.000000\",\"2020-07-02 00:00:00.000000\",\"2020-07-06 00:00:00.000000\",\"2020-07-07 00:00:00.000000\",\"2020-07-08 00:00:00.000000\",\"2020-07-09 00:00:00.000000\",\"2020-07-10 00:00:00.000000\",\"2020-07-13 00:00:00.000000\",\"2020-07-14 00:00:00.000000\",\"2020-07-15 00:00:00.000000\",\"2020-07-16 00:00:00.000000\",\"2020-07-17 00:00:00.000000\",\"2020-07-20 00:00:00.000000\",\"2020-07-21 00:00:00.000000\",\"2020-07-22 00:00:00.000000\",\"2020-07-23 00:00:00.000000\",\"2020-07-24 00:00:00.000000\",\"2020-07-27 00:00:00.000000\",\"2020-07-28 00:00:00.000000\",\"2020-07-29 00:00:00.000000\",\"2020-07-30 00:00:00.000000\",\"2020-07-31 00:00:00.000000\",\"2020-08-03 00:00:00.000000\",\"2020-08-04 00:00:00.000000\",\"2020-08-05 00:00:00.000000\",\"2020-08-06 00:00:00.000000\",\"2020-08-07 00:00:00.000000\",\"2020-08-10 00:00:00.000000\",\"2020-08-11 00:00:00.000000\",\"2020-08-12 00:00:00.000000\",\"2020-08-13 00:00:00.000000\",\"2020-08-14 00:00:00.000000\",\"2020-08-17 00:00:00.000000\",\"2020-08-18 00:00:00.000000\",\"2020-08-19 00:00:00.000000\",\"2020-08-20 00:00:00.000000\",\"2020-08-21 00:00:00.000000\",\"2020-08-24 00:00:00.000000\",\"2020-08-25 00:00:00.000000\",\"2020-08-26 00:00:00.000000\",\"2020-08-27 00:00:00.000000\",\"2020-08-28 00:00:00.000000\",\"2020-08-31 00:00:00.000000\",\"2020-09-01 00:00:00.000000\",\"2020-09-02 00:00:00.000000\",\"2020-09-03 00:00:00.000000\",\"2020-09-04 00:00:00.000000\",\"2020-09-08 00:00:00.000000\",\"2020-09-09 00:00:00.000000\",\"2020-09-10 00:00:00.000000\",\"2020-09-11 00:00:00.000000\",\"2020-09-14 00:00:00.000000\",\"2020-09-15 00:00:00.000000\",\"2020-09-16 00:00:00.000000\",\"2020-09-17 00:00:00.000000\",\"2020-09-18 00:00:00.000000\",\"2020-09-21 00:00:00.000000\",\"2020-09-22 00:00:00.000000\",\"2020-09-23 00:00:00.000000\",\"2020-09-24 00:00:00.000000\",\"2020-09-25 00:00:00.000000\",\"2020-09-28 00:00:00.000000\",\"2020-09-29 00:00:00.000000\",\"2020-09-30 00:00:00.000000\",\"2020-10-01 00:00:00.000000\",\"2020-10-02 00:00:00.000000\",\"2020-10-05 00:00:00.000000\",\"2020-10-06 00:00:00.000000\",\"2020-10-07 00:00:00.000000\",\"2020-10-08 00:00:00.000000\",\"2020-10-09 00:00:00.000000\",\"2020-10-12 00:00:00.000000\",\"2020-10-13 00:00:00.000000\",\"2020-10-14 00:00:00.000000\",\"2020-10-15 00:00:00.000000\",\"2020-10-16 00:00:00.000000\",\"2020-10-19 00:00:00.000000\",\"2020-10-20 00:00:00.000000\",\"2020-10-21 00:00:00.000000\",\"2020-10-22 00:00:00.000000\",\"2020-10-23 00:00:00.000000\",\"2020-10-26 00:00:00.000000\",\"2020-10-27 00:00:00.000000\",\"2020-10-28 00:00:00.000000\",\"2020-10-29 00:00:00.000000\",\"2020-10-30 00:00:00.000000\",\"2020-11-02 00:00:00.000000\",\"2020-11-03 00:00:00.000000\",\"2020-11-04 00:00:00.000000\",\"2020-11-05 00:00:00.000000\",\"2020-11-06 00:00:00.000000\",\"2020-11-09 00:00:00.000000\",\"2020-11-10 00:00:00.000000\",\"2020-11-11 00:00:00.000000\",\"2020-11-12 00:00:00.000000\",\"2020-11-13 00:00:00.000000\",\"2020-11-16 00:00:00.000000\",\"2020-11-17 00:00:00.000000\",\"2020-11-18 00:00:00.000000\",\"2020-11-19 00:00:00.000000\",\"2020-11-20 00:00:00.000000\",\"2020-11-23 00:00:00.000000\",\"2020-11-24 00:00:00.000000\",\"2020-11-25 00:00:00.000000\",\"2020-11-27 00:00:00.000000\",\"2020-11-30 00:00:00.000000\",\"2020-12-01 00:00:00.000000\",\"2020-12-02 00:00:00.000000\",\"2020-12-03 00:00:00.000000\",\"2020-12-04 00:00:00.000000\"]},\"selected\":{\"id\":\"3915\"},\"selection_policy\":{\"id\":\"3936\"}},\"id\":\"3914\",\"type\":\"ColumnDataSource\"},{\"attributes\":{\"margin\":[5,5,5,5],\"name\":\"HSpacer04096\",\"sizing_mode\":\"stretch_width\"},\"id\":\"3939\",\"type\":\"Spacer\"},{\"attributes\":{},\"id\":\"3903\",\"type\":\"WheelZoomTool\"},{\"attributes\":{\"line_color\":\"#30a2da\",\"line_width\":2,\"x\":{\"field\":\"time\"},\"y\":{\"field\":\"daily_returns\"}},\"id\":\"3922\",\"type\":\"Line\"},{\"attributes\":{},\"id\":\"3898\",\"type\":\"BasicTicker\"},{\"attributes\":{},\"id\":\"3895\",\"type\":\"CategoricalTicker\"},{\"attributes\":{\"below\":[{\"id\":\"3894\"}],\"center\":[{\"id\":\"3896\"},{\"id\":\"3900\"}],\"height\":300,\"left\":[{\"id\":\"3897\"}],\"margin\":[5,5,5,5],\"min_border_bottom\":10,\"min_border_left\":10,\"min_border_right\":10,\"min_border_top\":10,\"renderers\":[{\"id\":\"3920\"}],\"sizing_mode\":\"fixed\",\"title\":{\"id\":\"3886\"},\"toolbar\":{\"id\":\"3907\"},\"width\":700,\"x_range\":{\"id\":\"3882\"},\"x_scale\":{\"id\":\"3890\"},\"y_range\":{\"id\":\"3883\"},\"y_scale\":{\"id\":\"3892\"}},\"id\":\"3885\",\"subtype\":\"Figure\",\"type\":\"Plot\"},{\"attributes\":{\"factors\":[\"2016-12-16 00:00:00.000000\",\"2016-12-19 00:00:00.000000\",\"2016-12-20 00:00:00.000000\",\"2016-12-21 00:00:00.000000\",\"2016-12-22 00:00:00.000000\",\"2016-12-23 00:00:00.000000\",\"2016-12-27 00:00:00.000000\",\"2016-12-28 00:00:00.000000\",\"2016-12-29 00:00:00.000000\",\"2016-12-30 00:00:00.000000\",\"2017-01-03 00:00:00.000000\",\"2017-01-04 00:00:00.000000\",\"2017-01-05 00:00:00.000000\",\"2017-01-06 00:00:00.000000\",\"2017-01-09 00:00:00.000000\",\"2017-01-10 00:00:00.000000\",\"2017-01-11 00:00:00.000000\",\"2017-01-12 00:00:00.000000\",\"2017-01-13 00:00:00.000000\",\"2017-01-17 00:00:00.000000\",\"2017-01-18 00:00:00.000000\",\"2017-01-19 00:00:00.000000\",\"2017-01-20 00:00:00.000000\",\"2017-01-23 00:00:00.000000\",\"2017-01-24 00:00:00.000000\",\"2017-01-25 00:00:00.000000\",\"2017-01-26 00:00:00.000000\",\"2017-01-27 00:00:00.000000\",\"2017-01-30 00:00:00.000000\",\"2017-01-31 00:00:00.000000\",\"2017-02-01 00:00:00.000000\",\"2017-02-02 00:00:00.000000\",\"2017-02-03 00:00:00.000000\",\"2017-02-06 00:00:00.000000\",\"2017-02-07 00:00:00.000000\",\"2017-02-08 00:00:00.000000\",\"2017-02-09 00:00:00.000000\",\"2017-02-10 00:00:00.000000\",\"2017-02-13 00:00:00.000000\",\"2017-02-14 00:00:00.000000\",\"2017-02-15 00:00:00.000000\",\"2017-02-16 00:00:00.000000\",\"2017-02-17 00:00:00.000000\",\"2017-02-21 00:00:00.000000\",\"2017-02-22 00:00:00.000000\",\"2017-02-23 00:00:00.000000\",\"2017-02-24 00:00:00.000000\",\"2017-02-27 00:00:00.000000\",\"2017-02-28 00:00:00.000000\",\"2017-03-01 00:00:00.000000\",\"2017-03-02 00:00:00.000000\",\"2017-03-03 00:00:00.000000\",\"2017-03-06 00:00:00.000000\",\"2017-03-07 00:00:00.000000\",\"2017-03-08 00:00:00.000000\",\"2017-03-09 00:00:00.000000\",\"2017-03-10 00:00:00.000000\",\"2017-03-13 00:00:00.000000\",\"2017-03-14 00:00:00.000000\",\"2017-03-15 00:00:00.000000\",\"2017-03-16 00:00:00.000000\",\"2017-03-17 00:00:00.000000\",\"2017-03-20 00:00:00.000000\",\"2017-03-21 00:00:00.000000\",\"2017-03-22 00:00:00.000000\",\"2017-03-23 00:00:00.000000\",\"2017-03-24 00:00:00.000000\",\"2017-03-27 00:00:00.000000\",\"2017-03-28 00:00:00.000000\",\"2017-03-29 00:00:00.000000\",\"2017-03-30 00:00:00.000000\",\"2017-03-31 00:00:00.000000\",\"2017-04-03 00:00:00.000000\",\"2017-04-04 00:00:00.000000\",\"2017-04-05 00:00:00.000000\",\"2017-04-06 00:00:00.000000\",\"2017-04-07 00:00:00.000000\",\"2017-04-10 00:00:00.000000\",\"2017-04-11 00:00:00.000000\",\"2017-04-12 00:00:00.000000\",\"2017-04-13 00:00:00.000000\",\"2017-04-17 00:00:00.000000\",\"2017-04-18 00:00:00.000000\",\"2017-04-19 00:00:00.000000\",\"2017-04-20 00:00:00.000000\",\"2017-04-21 00:00:00.000000\",\"2017-04-24 00:00:00.000000\",\"2017-04-25 00:00:00.000000\",\"2017-04-26 00:00:00.000000\",\"2017-04-27 00:00:00.000000\",\"2017-04-28 00:00:00.000000\",\"2017-05-01 00:00:00.000000\",\"2017-05-02 00:00:00.000000\",\"2017-05-03 00:00:00.000000\",\"2017-05-04 00:00:00.000000\",\"2017-05-05 00:00:00.000000\",\"2017-05-08 00:00:00.000000\",\"2017-05-09 00:00:00.000000\",\"2017-05-10 00:00:00.000000\",\"2017-05-11 00:00:00.000000\",\"2017-05-12 00:00:00.000000\",\"2017-05-15 00:00:00.000000\",\"2017-05-16 00:00:00.000000\",\"2017-05-17 00:00:00.000000\",\"2017-05-18 00:00:00.000000\",\"2017-05-19 00:00:00.000000\",\"2017-05-22 00:00:00.000000\",\"2017-05-23 00:00:00.000000\",\"2017-05-24 00:00:00.000000\",\"2017-05-25 00:00:00.000000\",\"2017-05-26 00:00:00.000000\",\"2017-05-30 00:00:00.000000\",\"2017-05-31 00:00:00.000000\",\"2017-06-01 00:00:00.000000\",\"2017-06-02 00:00:00.000000\",\"2017-06-05 00:00:00.000000\",\"2017-06-06 00:00:00.000000\",\"2017-06-07 00:00:00.000000\",\"2017-06-08 00:00:00.000000\",\"2017-06-09 00:00:00.000000\",\"2017-06-12 00:00:00.000000\",\"2017-06-13 00:00:00.000000\",\"2017-06-14 00:00:00.000000\",\"2017-06-15 00:00:00.000000\",\"2017-06-16 00:00:00.000000\",\"2017-06-19 00:00:00.000000\",\"2017-06-20 00:00:00.000000\",\"2017-06-21 00:00:00.000000\",\"2017-06-22 00:00:00.000000\",\"2017-06-23 00:00:00.000000\",\"2017-06-26 00:00:00.000000\",\"2017-06-27 00:00:00.000000\",\"2017-06-28 00:00:00.000000\",\"2017-06-29 00:00:00.000000\",\"2017-06-30 00:00:00.000000\",\"2017-07-03 00:00:00.000000\",\"2017-07-05 00:00:00.000000\",\"2017-07-06 00:00:00.000000\",\"2017-07-07 00:00:00.000000\",\"2017-07-10 00:00:00.000000\",\"2017-07-11 00:00:00.000000\",\"2017-07-12 00:00:00.000000\",\"2017-07-13 00:00:00.000000\",\"2017-07-14 00:00:00.000000\",\"2017-07-17 00:00:00.000000\",\"2017-07-18 00:00:00.000000\",\"2017-07-19 00:00:00.000000\",\"2017-07-20 00:00:00.000000\",\"2017-07-21 00:00:00.000000\",\"2017-07-24 00:00:00.000000\",\"2017-07-25 00:00:00.000000\",\"2017-07-26 00:00:00.000000\",\"2017-07-27 00:00:00.000000\",\"2017-07-28 00:00:00.000000\",\"2017-07-31 00:00:00.000000\",\"2017-08-01 00:00:00.000000\",\"2017-08-02 00:00:00.000000\",\"2017-08-03 00:00:00.000000\",\"2017-08-04 00:00:00.000000\",\"2017-08-07 00:00:00.000000\",\"2017-08-08 00:00:00.000000\",\"2017-08-09 00:00:00.000000\",\"2017-08-10 00:00:00.000000\",\"2017-08-11 00:00:00.000000\",\"2017-08-14 00:00:00.000000\",\"2017-08-15 00:00:00.000000\",\"2017-08-16 00:00:00.000000\",\"2017-08-17 00:00:00.000000\",\"2017-08-18 00:00:00.000000\",\"2017-08-21 00:00:00.000000\",\"2017-08-22 00:00:00.000000\",\"2017-08-23 00:00:00.000000\",\"2017-08-24 00:00:00.000000\",\"2017-08-25 00:00:00.000000\",\"2017-08-28 00:00:00.000000\",\"2017-08-29 00:00:00.000000\",\"2017-08-30 00:00:00.000000\",\"2017-08-31 00:00:00.000000\",\"2017-09-01 00:00:00.000000\",\"2017-09-05 00:00:00.000000\",\"2017-09-06 00:00:00.000000\",\"2017-09-07 00:00:00.000000\",\"2017-09-08 00:00:00.000000\",\"2017-09-11 00:00:00.000000\",\"2017-09-12 00:00:00.000000\",\"2017-09-13 00:00:00.000000\",\"2017-09-14 00:00:00.000000\",\"2017-09-15 00:00:00.000000\",\"2017-09-18 00:00:00.000000\",\"2017-09-19 00:00:00.000000\",\"2017-09-20 00:00:00.000000\",\"2017-09-21 00:00:00.000000\",\"2017-09-22 00:00:00.000000\",\"2017-09-25 00:00:00.000000\",\"2017-09-26 00:00:00.000000\",\"2017-09-27 00:00:00.000000\",\"2017-09-28 00:00:00.000000\",\"2017-09-29 00:00:00.000000\",\"2017-10-02 00:00:00.000000\",\"2017-10-03 00:00:00.000000\",\"2017-10-04 00:00:00.000000\",\"2017-10-05 00:00:00.000000\",\"2017-10-06 00:00:00.000000\",\"2017-10-09 00:00:00.000000\",\"2017-10-10 00:00:00.000000\",\"2017-10-11 00:00:00.000000\",\"2017-10-12 00:00:00.000000\",\"2017-10-13 00:00:00.000000\",\"2017-10-16 00:00:00.000000\",\"2017-10-17 00:00:00.000000\",\"2017-10-18 00:00:00.000000\",\"2017-10-19 00:00:00.000000\",\"2017-10-20 00:00:00.000000\",\"2017-10-23 00:00:00.000000\",\"2017-10-24 00:00:00.000000\",\"2017-10-25 00:00:00.000000\",\"2017-10-26 00:00:00.000000\",\"2017-10-27 00:00:00.000000\",\"2017-10-30 00:00:00.000000\",\"2017-10-31 00:00:00.000000\",\"2017-11-01 00:00:00.000000\",\"2017-11-02 00:00:00.000000\",\"2017-11-03 00:00:00.000000\",\"2017-11-06 00:00:00.000000\",\"2017-11-07 00:00:00.000000\",\"2017-11-08 00:00:00.000000\",\"2017-11-09 00:00:00.000000\",\"2017-11-10 00:00:00.000000\",\"2017-11-13 00:00:00.000000\",\"2017-11-14 00:00:00.000000\",\"2017-11-15 00:00:00.000000\",\"2017-11-16 00:00:00.000000\",\"2017-11-17 00:00:00.000000\",\"2017-11-20 00:00:00.000000\",\"2017-11-21 00:00:00.000000\",\"2017-11-22 00:00:00.000000\",\"2017-11-24 00:00:00.000000\",\"2017-11-27 00:00:00.000000\",\"2017-11-28 00:00:00.000000\",\"2017-11-29 00:00:00.000000\",\"2017-11-30 00:00:00.000000\",\"2017-12-01 00:00:00.000000\",\"2017-12-04 00:00:00.000000\",\"2017-12-05 00:00:00.000000\",\"2017-12-06 00:00:00.000000\",\"2017-12-07 00:00:00.000000\",\"2017-12-08 00:00:00.000000\",\"2017-12-11 00:00:00.000000\",\"2017-12-12 00:00:00.000000\",\"2017-12-13 00:00:00.000000\",\"2017-12-14 00:00:00.000000\",\"2017-12-15 00:00:00.000000\",\"2017-12-18 00:00:00.000000\",\"2017-12-19 00:00:00.000000\",\"2017-12-20 00:00:00.000000\",\"2017-12-21 00:00:00.000000\",\"2017-12-22 00:00:00.000000\",\"2017-12-26 00:00:00.000000\",\"2017-12-27 00:00:00.000000\",\"2017-12-28 00:00:00.000000\",\"2017-12-29 00:00:00.000000\",\"2018-01-02 00:00:00.000000\",\"2018-01-03 00:00:00.000000\",\"2018-01-04 00:00:00.000000\",\"2018-01-05 00:00:00.000000\",\"2018-01-08 00:00:00.000000\",\"2018-01-09 00:00:00.000000\",\"2018-01-10 00:00:00.000000\",\"2018-01-11 00:00:00.000000\",\"2018-01-12 00:00:00.000000\",\"2018-01-16 00:00:00.000000\",\"2018-01-17 00:00:00.000000\",\"2018-01-18 00:00:00.000000\",\"2018-01-19 00:00:00.000000\",\"2018-01-22 00:00:00.000000\",\"2018-01-23 00:00:00.000000\",\"2018-01-24 00:00:00.000000\",\"2018-01-25 00:00:00.000000\",\"2018-01-26 00:00:00.000000\",\"2018-01-29 00:00:00.000000\",\"2018-01-30 00:00:00.000000\",\"2018-01-31 00:00:00.000000\",\"2018-02-01 00:00:00.000000\",\"2018-02-02 00:00:00.000000\",\"2018-02-05 00:00:00.000000\",\"2018-02-06 00:00:00.000000\",\"2018-02-07 00:00:00.000000\",\"2018-02-08 00:00:00.000000\",\"2018-02-09 00:00:00.000000\",\"2018-02-12 00:00:00.000000\",\"2018-02-13 00:00:00.000000\",\"2018-02-14 00:00:00.000000\",\"2018-02-15 00:00:00.000000\",\"2018-02-16 00:00:00.000000\",\"2018-02-20 00:00:00.000000\",\"2018-02-21 00:00:00.000000\",\"2018-02-22 00:00:00.000000\",\"2018-02-23 00:00:00.000000\",\"2018-02-26 00:00:00.000000\",\"2018-02-27 00:00:00.000000\",\"2018-02-28 00:00:00.000000\",\"2018-03-01 00:00:00.000000\",\"2018-03-02 00:00:00.000000\",\"2018-03-05 00:00:00.000000\",\"2018-03-06 00:00:00.000000\",\"2018-03-07 00:00:00.000000\",\"2018-03-08 00:00:00.000000\",\"2018-03-09 00:00:00.000000\",\"2018-03-12 00:00:00.000000\",\"2018-03-13 00:00:00.000000\",\"2018-03-14 00:00:00.000000\",\"2018-03-15 00:00:00.000000\",\"2018-03-16 00:00:00.000000\",\"2018-03-19 00:00:00.000000\",\"2018-03-20 00:00:00.000000\",\"2018-03-21 00:00:00.000000\",\"2018-03-22 00:00:00.000000\",\"2018-03-23 00:00:00.000000\",\"2018-03-26 00:00:00.000000\",\"2018-03-27 00:00:00.000000\",\"2018-03-28 00:00:00.000000\",\"2018-03-29 00:00:00.000000\",\"2018-04-02 00:00:00.000000\",\"2018-04-03 00:00:00.000000\",\"2018-04-04 00:00:00.000000\",\"2018-04-05 00:00:00.000000\",\"2018-04-06 00:00:00.000000\",\"2018-04-09 00:00:00.000000\",\"2018-04-10 00:00:00.000000\",\"2018-04-11 00:00:00.000000\",\"2018-04-12 00:00:00.000000\",\"2018-04-13 00:00:00.000000\",\"2018-04-16 00:00:00.000000\",\"2018-04-17 00:00:00.000000\",\"2018-04-18 00:00:00.000000\",\"2018-04-19 00:00:00.000000\",\"2018-04-20 00:00:00.000000\",\"2018-04-23 00:00:00.000000\",\"2018-04-24 00:00:00.000000\",\"2018-04-25 00:00:00.000000\",\"2018-04-26 00:00:00.000000\",\"2018-04-27 00:00:00.000000\",\"2018-04-30 00:00:00.000000\",\"2018-05-01 00:00:00.000000\",\"2018-05-02 00:00:00.000000\",\"2018-05-03 00:00:00.000000\",\"2018-05-04 00:00:00.000000\",\"2018-05-07 00:00:00.000000\",\"2018-05-08 00:00:00.000000\",\"2018-05-09 00:00:00.000000\",\"2018-05-10 00:00:00.000000\",\"2018-05-11 00:00:00.000000\",\"2018-05-14 00:00:00.000000\",\"2018-05-15 00:00:00.000000\",\"2018-05-16 00:00:00.000000\",\"2018-05-17 00:00:00.000000\",\"2018-05-18 00:00:00.000000\",\"2018-05-21 00:00:00.000000\",\"2018-05-22 00:00:00.000000\",\"2018-05-23 00:00:00.000000\",\"2018-05-24 00:00:00.000000\",\"2018-05-25 00:00:00.000000\",\"2018-05-29 00:00:00.000000\",\"2018-05-30 00:00:00.000000\",\"2018-05-31 00:00:00.000000\",\"2018-06-01 00:00:00.000000\",\"2018-06-04 00:00:00.000000\",\"2018-06-05 00:00:00.000000\",\"2018-06-06 00:00:00.000000\",\"2018-06-07 00:00:00.000000\",\"2018-06-08 00:00:00.000000\",\"2018-06-11 00:00:00.000000\",\"2018-06-12 00:00:00.000000\",\"2018-06-13 00:00:00.000000\",\"2018-06-14 00:00:00.000000\",\"2018-06-15 00:00:00.000000\",\"2018-06-18 00:00:00.000000\",\"2018-06-19 00:00:00.000000\",\"2018-06-20 00:00:00.000000\",\"2018-06-21 00:00:00.000000\",\"2018-06-22 00:00:00.000000\",\"2018-06-25 00:00:00.000000\",\"2018-06-26 00:00:00.000000\",\"2018-06-27 00:00:00.000000\",\"2018-06-28 00:00:00.000000\",\"2018-06-29 00:00:00.000000\",\"2018-07-02 00:00:00.000000\",\"2018-07-03 00:00:00.000000\",\"2018-07-05 00:00:00.000000\",\"2018-07-06 00:00:00.000000\",\"2018-07-09 00:00:00.000000\",\"2018-07-10 00:00:00.000000\",\"2018-07-11 00:00:00.000000\",\"2018-07-12 00:00:00.000000\",\"2018-07-13 00:00:00.000000\",\"2018-07-16 00:00:00.000000\",\"2018-07-17 00:00:00.000000\",\"2018-07-18 00:00:00.000000\",\"2018-07-19 00:00:00.000000\",\"2018-07-20 00:00:00.000000\",\"2018-07-23 00:00:00.000000\",\"2018-07-24 00:00:00.000000\",\"2018-07-25 00:00:00.000000\",\"2018-07-26 00:00:00.000000\",\"2018-07-27 00:00:00.000000\",\"2018-07-30 00:00:00.000000\",\"2018-07-31 00:00:00.000000\",\"2018-08-01 00:00:00.000000\",\"2018-08-02 00:00:00.000000\",\"2018-08-03 00:00:00.000000\",\"2018-08-06 00:00:00.000000\",\"2018-08-07 00:00:00.000000\",\"2018-08-08 00:00:00.000000\",\"2018-08-09 00:00:00.000000\",\"2018-08-10 00:00:00.000000\",\"2018-08-13 00:00:00.000000\",\"2018-08-14 00:00:00.000000\",\"2018-08-15 00:00:00.000000\",\"2018-08-16 00:00:00.000000\",\"2018-08-17 00:00:00.000000\",\"2018-08-20 00:00:00.000000\",\"2018-08-21 00:00:00.000000\",\"2018-08-22 00:00:00.000000\",\"2018-08-23 00:00:00.000000\",\"2018-08-24 00:00:00.000000\",\"2018-08-27 00:00:00.000000\",\"2018-08-28 00:00:00.000000\",\"2018-08-29 00:00:00.000000\",\"2018-08-30 00:00:00.000000\",\"2018-08-31 00:00:00.000000\",\"2018-09-04 00:00:00.000000\",\"2018-09-05 00:00:00.000000\",\"2018-09-06 00:00:00.000000\",\"2018-09-07 00:00:00.000000\",\"2018-09-10 00:00:00.000000\",\"2018-09-11 00:00:00.000000\",\"2018-09-12 00:00:00.000000\",\"2018-09-13 00:00:00.000000\",\"2018-09-14 00:00:00.000000\",\"2018-09-17 00:00:00.000000\",\"2018-09-18 00:00:00.000000\",\"2018-09-19 00:00:00.000000\",\"2018-09-20 00:00:00.000000\",\"2018-09-21 00:00:00.000000\",\"2018-09-24 00:00:00.000000\",\"2018-09-25 00:00:00.000000\",\"2018-09-26 00:00:00.000000\",\"2018-09-27 00:00:00.000000\",\"2018-09-28 00:00:00.000000\",\"2018-10-01 00:00:00.000000\",\"2018-10-02 00:00:00.000000\",\"2018-10-03 00:00:00.000000\",\"2018-10-04 00:00:00.000000\",\"2018-10-05 00:00:00.000000\",\"2018-10-08 00:00:00.000000\",\"2018-10-09 00:00:00.000000\",\"2018-10-10 00:00:00.000000\",\"2018-10-11 00:00:00.000000\",\"2018-10-12 00:00:00.000000\",\"2018-10-15 00:00:00.000000\",\"2018-10-16 00:00:00.000000\",\"2018-10-17 00:00:00.000000\",\"2018-10-18 00:00:00.000000\",\"2018-10-19 00:00:00.000000\",\"2018-10-22 00:00:00.000000\",\"2018-10-23 00:00:00.000000\",\"2018-10-24 00:00:00.000000\",\"2018-10-25 00:00:00.000000\",\"2018-10-26 00:00:00.000000\",\"2018-10-29 00:00:00.000000\",\"2018-10-30 00:00:00.000000\",\"2018-10-31 00:00:00.000000\",\"2018-11-01 00:00:00.000000\",\"2018-11-02 00:00:00.000000\",\"2018-11-05 00:00:00.000000\",\"2018-11-06 00:00:00.000000\",\"2018-11-07 00:00:00.000000\",\"2018-11-08 00:00:00.000000\",\"2018-11-09 00:00:00.000000\",\"2018-11-12 00:00:00.000000\",\"2018-11-13 00:00:00.000000\",\"2018-11-14 00:00:00.000000\",\"2018-11-15 00:00:00.000000\",\"2018-11-16 00:00:00.000000\",\"2018-11-19 00:00:00.000000\",\"2018-11-20 00:00:00.000000\",\"2018-11-21 00:00:00.000000\",\"2018-11-23 00:00:00.000000\",\"2018-11-26 00:00:00.000000\",\"2018-11-27 00:00:00.000000\",\"2018-11-28 00:00:00.000000\",\"2018-11-29 00:00:00.000000\",\"2018-11-30 00:00:00.000000\",\"2018-12-03 00:00:00.000000\",\"2018-12-04 00:00:00.000000\",\"2018-12-06 00:00:00.000000\",\"2018-12-07 00:00:00.000000\",\"2018-12-10 00:00:00.000000\",\"2018-12-11 00:00:00.000000\",\"2018-12-12 00:00:00.000000\",\"2018-12-13 00:00:00.000000\",\"2018-12-14 00:00:00.000000\",\"2018-12-17 00:00:00.000000\",\"2018-12-18 00:00:00.000000\",\"2018-12-19 00:00:00.000000\",\"2018-12-20 00:00:00.000000\",\"2018-12-21 00:00:00.000000\",\"2018-12-24 00:00:00.000000\",\"2018-12-26 00:00:00.000000\",\"2018-12-27 00:00:00.000000\",\"2018-12-28 00:00:00.000000\",\"2018-12-31 00:00:00.000000\",\"2019-01-02 00:00:00.000000\",\"2019-01-03 00:00:00.000000\",\"2019-01-04 00:00:00.000000\",\"2019-01-07 00:00:00.000000\",\"2019-01-08 00:00:00.000000\",\"2019-01-09 00:00:00.000000\",\"2019-01-10 00:00:00.000000\",\"2019-01-11 00:00:00.000000\",\"2019-01-14 00:00:00.000000\",\"2019-01-15 00:00:00.000000\",\"2019-01-16 00:00:00.000000\",\"2019-01-17 00:00:00.000000\",\"2019-01-18 00:00:00.000000\",\"2019-01-22 00:00:00.000000\",\"2019-01-23 00:00:00.000000\",\"2019-01-24 00:00:00.000000\",\"2019-01-25 00:00:00.000000\",\"2019-01-28 00:00:00.000000\",\"2019-01-29 00:00:00.000000\",\"2019-01-30 00:00:00.000000\",\"2019-01-31 00:00:00.000000\",\"2019-02-01 00:00:00.000000\",\"2019-02-04 00:00:00.000000\",\"2019-02-05 00:00:00.000000\",\"2019-02-06 00:00:00.000000\",\"2019-02-07 00:00:00.000000\",\"2019-02-08 00:00:00.000000\",\"2019-02-11 00:00:00.000000\",\"2019-02-12 00:00:00.000000\",\"2019-02-13 00:00:00.000000\",\"2019-02-14 00:00:00.000000\",\"2019-02-15 00:00:00.000000\",\"2019-02-19 00:00:00.000000\",\"2019-02-20 00:00:00.000000\",\"2019-02-21 00:00:00.000000\",\"2019-02-22 00:00:00.000000\",\"2019-02-25 00:00:00.000000\",\"2019-02-26 00:00:00.000000\",\"2019-02-27 00:00:00.000000\",\"2019-02-28 00:00:00.000000\",\"2019-03-01 00:00:00.000000\",\"2019-03-04 00:00:00.000000\",\"2019-03-05 00:00:00.000000\",\"2019-03-06 00:00:00.000000\",\"2019-03-07 00:00:00.000000\",\"2019-03-08 00:00:00.000000\",\"2019-03-11 00:00:00.000000\",\"2019-03-12 00:00:00.000000\",\"2019-03-13 00:00:00.000000\",\"2019-03-14 00:00:00.000000\",\"2019-03-15 00:00:00.000000\",\"2019-03-18 00:00:00.000000\",\"2019-03-19 00:00:00.000000\",\"2019-03-20 00:00:00.000000\",\"2019-03-21 00:00:00.000000\",\"2019-03-22 00:00:00.000000\",\"2019-03-25 00:00:00.000000\",\"2019-03-26 00:00:00.000000\",\"2019-03-27 00:00:00.000000\",\"2019-03-28 00:00:00.000000\",\"2019-03-29 00:00:00.000000\",\"2019-04-01 00:00:00.000000\",\"2019-04-02 00:00:00.000000\",\"2019-04-03 00:00:00.000000\",\"2019-04-04 00:00:00.000000\",\"2019-04-05 00:00:00.000000\",\"2019-04-08 00:00:00.000000\",\"2019-04-09 00:00:00.000000\",\"2019-04-10 00:00:00.000000\",\"2019-04-11 00:00:00.000000\",\"2019-04-12 00:00:00.000000\",\"2019-04-15 00:00:00.000000\",\"2019-04-16 00:00:00.000000\",\"2019-04-17 00:00:00.000000\",\"2019-04-18 00:00:00.000000\",\"2019-04-22 00:00:00.000000\",\"2019-04-23 00:00:00.000000\",\"2019-04-24 00:00:00.000000\",\"2019-04-25 00:00:00.000000\",\"2019-04-26 00:00:00.000000\",\"2019-04-29 00:00:00.000000\",\"2019-04-30 00:00:00.000000\",\"2019-05-01 00:00:00.000000\",\"2019-05-02 00:00:00.000000\",\"2019-05-03 00:00:00.000000\",\"2019-05-06 00:00:00.000000\",\"2019-05-07 00:00:00.000000\",\"2019-05-08 00:00:00.000000\",\"2019-05-09 00:00:00.000000\",\"2019-05-10 00:00:00.000000\",\"2019-05-13 00:00:00.000000\",\"2019-05-14 00:00:00.000000\",\"2019-05-15 00:00:00.000000\",\"2019-05-16 00:00:00.000000\",\"2019-05-17 00:00:00.000000\",\"2019-05-20 00:00:00.000000\",\"2019-05-21 00:00:00.000000\",\"2019-05-22 00:00:00.000000\",\"2019-05-23 00:00:00.000000\",\"2019-05-24 00:00:00.000000\",\"2019-05-28 00:00:00.000000\",\"2019-05-29 00:00:00.000000\",\"2019-05-30 00:00:00.000000\",\"2019-05-31 00:00:00.000000\",\"2019-06-03 00:00:00.000000\",\"2019-06-04 00:00:00.000000\",\"2019-06-05 00:00:00.000000\",\"2019-06-06 00:00:00.000000\",\"2019-06-07 00:00:00.000000\",\"2019-06-10 00:00:00.000000\",\"2019-06-11 00:00:00.000000\",\"2019-06-12 00:00:00.000000\",\"2019-06-13 00:00:00.000000\",\"2019-06-14 00:00:00.000000\",\"2019-06-17 00:00:00.000000\",\"2019-06-18 00:00:00.000000\",\"2019-06-19 00:00:00.000000\",\"2019-06-20 00:00:00.000000\",\"2019-06-21 00:00:00.000000\",\"2019-06-24 00:00:00.000000\",\"2019-06-25 00:00:00.000000\",\"2019-06-26 00:00:00.000000\",\"2019-06-27 00:00:00.000000\",\"2019-06-28 00:00:00.000000\",\"2019-07-01 00:00:00.000000\",\"2019-07-02 00:00:00.000000\",\"2019-07-03 00:00:00.000000\",\"2019-07-05 00:00:00.000000\",\"2019-07-08 00:00:00.000000\",\"2019-07-09 00:00:00.000000\",\"2019-07-10 00:00:00.000000\",\"2019-07-11 00:00:00.000000\",\"2019-07-12 00:00:00.000000\",\"2019-07-15 00:00:00.000000\",\"2019-07-16 00:00:00.000000\",\"2019-07-17 00:00:00.000000\",\"2019-07-18 00:00:00.000000\",\"2019-07-19 00:00:00.000000\",\"2019-07-22 00:00:00.000000\",\"2019-07-23 00:00:00.000000\",\"2019-07-24 00:00:00.000000\",\"2019-07-25 00:00:00.000000\",\"2019-07-26 00:00:00.000000\",\"2019-07-29 00:00:00.000000\",\"2019-07-30 00:00:00.000000\",\"2019-07-31 00:00:00.000000\",\"2019-08-01 00:00:00.000000\",\"2019-08-02 00:00:00.000000\",\"2019-08-05 00:00:00.000000\",\"2019-08-06 00:00:00.000000\",\"2019-08-07 00:00:00.000000\",\"2019-08-08 00:00:00.000000\",\"2019-08-09 00:00:00.000000\",\"2019-08-12 00:00:00.000000\",\"2019-08-13 00:00:00.000000\",\"2019-08-14 00:00:00.000000\",\"2019-08-15 00:00:00.000000\",\"2019-08-16 00:00:00.000000\",\"2019-08-19 00:00:00.000000\",\"2019-08-20 00:00:00.000000\",\"2019-08-21 00:00:00.000000\",\"2019-08-22 00:00:00.000000\",\"2019-08-23 00:00:00.000000\",\"2019-08-26 00:00:00.000000\",\"2019-08-27 00:00:00.000000\",\"2019-08-28 00:00:00.000000\",\"2019-08-29 00:00:00.000000\",\"2019-08-30 00:00:00.000000\",\"2019-09-03 00:00:00.000000\",\"2019-09-04 00:00:00.000000\",\"2019-09-05 00:00:00.000000\",\"2019-09-06 00:00:00.000000\",\"2019-09-09 00:00:00.000000\",\"2019-09-10 00:00:00.000000\",\"2019-09-11 00:00:00.000000\",\"2019-09-12 00:00:00.000000\",\"2019-09-13 00:00:00.000000\",\"2019-09-16 00:00:00.000000\",\"2019-09-17 00:00:00.000000\",\"2019-09-18 00:00:00.000000\",\"2019-09-19 00:00:00.000000\",\"2019-09-20 00:00:00.000000\",\"2019-09-23 00:00:00.000000\",\"2019-09-24 00:00:00.000000\",\"2019-09-25 00:00:00.000000\",\"2019-09-26 00:00:00.000000\",\"2019-09-27 00:00:00.000000\",\"2019-09-30 00:00:00.000000\",\"2019-10-01 00:00:00.000000\",\"2019-10-02 00:00:00.000000\",\"2019-10-03 00:00:00.000000\",\"2019-10-04 00:00:00.000000\",\"2019-10-07 00:00:00.000000\",\"2019-10-08 00:00:00.000000\",\"2019-10-09 00:00:00.000000\",\"2019-10-10 00:00:00.000000\",\"2019-10-11 00:00:00.000000\",\"2019-10-14 00:00:00.000000\",\"2019-10-15 00:00:00.000000\",\"2019-10-16 00:00:00.000000\",\"2019-10-17 00:00:00.000000\",\"2019-10-18 00:00:00.000000\",\"2019-10-21 00:00:00.000000\",\"2019-10-22 00:00:00.000000\",\"2019-10-23 00:00:00.000000\",\"2019-10-24 00:00:00.000000\",\"2019-10-25 00:00:00.000000\",\"2019-10-28 00:00:00.000000\",\"2019-10-29 00:00:00.000000\",\"2019-10-30 00:00:00.000000\",\"2019-10-31 00:00:00.000000\",\"2019-11-01 00:00:00.000000\",\"2019-11-04 00:00:00.000000\",\"2019-11-05 00:00:00.000000\",\"2019-11-06 00:00:00.000000\",\"2019-11-07 00:00:00.000000\",\"2019-11-08 00:00:00.000000\",\"2019-11-11 00:00:00.000000\",\"2019-11-12 00:00:00.000000\",\"2019-11-13 00:00:00.000000\",\"2019-11-14 00:00:00.000000\",\"2019-11-15 00:00:00.000000\",\"2019-11-18 00:00:00.000000\",\"2019-11-19 00:00:00.000000\",\"2019-11-20 00:00:00.000000\",\"2019-11-21 00:00:00.000000\",\"2019-11-22 00:00:00.000000\",\"2019-11-25 00:00:00.000000\",\"2019-11-26 00:00:00.000000\",\"2019-11-27 00:00:00.000000\",\"2019-11-29 00:00:00.000000\",\"2019-12-02 00:00:00.000000\",\"2019-12-03 00:00:00.000000\",\"2019-12-04 00:00:00.000000\",\"2019-12-05 00:00:00.000000\",\"2019-12-06 00:00:00.000000\",\"2019-12-09 00:00:00.000000\",\"2019-12-10 00:00:00.000000\",\"2019-12-11 00:00:00.000000\",\"2019-12-12 00:00:00.000000\",\"2019-12-13 00:00:00.000000\",\"2019-12-16 00:00:00.000000\",\"2019-12-17 00:00:00.000000\",\"2019-12-18 00:00:00.000000\",\"2019-12-19 00:00:00.000000\",\"2019-12-20 00:00:00.000000\",\"2019-12-23 00:00:00.000000\",\"2019-12-24 00:00:00.000000\",\"2019-12-26 00:00:00.000000\",\"2019-12-27 00:00:00.000000\",\"2019-12-30 00:00:00.000000\",\"2019-12-31 00:00:00.000000\",\"2020-01-02 00:00:00.000000\",\"2020-01-03 00:00:00.000000\",\"2020-01-06 00:00:00.000000\",\"2020-01-07 00:00:00.000000\",\"2020-01-08 00:00:00.000000\",\"2020-01-09 00:00:00.000000\",\"2020-01-10 00:00:00.000000\",\"2020-01-13 00:00:00.000000\",\"2020-01-14 00:00:00.000000\",\"2020-01-15 00:00:00.000000\",\"2020-01-16 00:00:00.000000\",\"2020-01-17 00:00:00.000000\",\"2020-01-21 00:00:00.000000\",\"2020-01-22 00:00:00.000000\",\"2020-01-23 00:00:00.000000\",\"2020-01-24 00:00:00.000000\",\"2020-01-27 00:00:00.000000\",\"2020-01-28 00:00:00.000000\",\"2020-01-29 00:00:00.000000\",\"2020-01-30 00:00:00.000000\",\"2020-01-31 00:00:00.000000\",\"2020-02-03 00:00:00.000000\",\"2020-02-04 00:00:00.000000\",\"2020-02-05 00:00:00.000000\",\"2020-02-06 00:00:00.000000\",\"2020-02-07 00:00:00.000000\",\"2020-02-10 00:00:00.000000\",\"2020-02-11 00:00:00.000000\",\"2020-02-12 00:00:00.000000\",\"2020-02-13 00:00:00.000000\",\"2020-02-14 00:00:00.000000\",\"2020-02-18 00:00:00.000000\",\"2020-02-19 00:00:00.000000\",\"2020-02-20 00:00:00.000000\",\"2020-02-21 00:00:00.000000\",\"2020-02-24 00:00:00.000000\",\"2020-02-25 00:00:00.000000\",\"2020-02-26 00:00:00.000000\",\"2020-02-27 00:00:00.000000\",\"2020-02-28 00:00:00.000000\",\"2020-03-02 00:00:00.000000\",\"2020-03-03 00:00:00.000000\",\"2020-03-04 00:00:00.000000\",\"2020-03-05 00:00:00.000000\",\"2020-03-06 00:00:00.000000\",\"2020-03-09 00:00:00.000000\",\"2020-03-10 00:00:00.000000\",\"2020-03-11 00:00:00.000000\",\"2020-03-12 00:00:00.000000\",\"2020-03-13 00:00:00.000000\",\"2020-03-16 00:00:00.000000\",\"2020-03-17 00:00:00.000000\",\"2020-03-18 00:00:00.000000\",\"2020-03-19 00:00:00.000000\",\"2020-03-20 00:00:00.000000\",\"2020-03-23 00:00:00.000000\",\"2020-03-24 00:00:00.000000\",\"2020-03-25 00:00:00.000000\",\"2020-03-26 00:00:00.000000\",\"2020-03-27 00:00:00.000000\",\"2020-03-30 00:00:00.000000\",\"2020-03-31 00:00:00.000000\",\"2020-04-01 00:00:00.000000\",\"2020-04-02 00:00:00.000000\",\"2020-04-03 00:00:00.000000\",\"2020-04-06 00:00:00.000000\",\"2020-04-07 00:00:00.000000\",\"2020-04-08 00:00:00.000000\",\"2020-04-09 00:00:00.000000\",\"2020-04-13 00:00:00.000000\",\"2020-04-14 00:00:00.000000\",\"2020-04-15 00:00:00.000000\",\"2020-04-16 00:00:00.000000\",\"2020-04-17 00:00:00.000000\",\"2020-04-20 00:00:00.000000\",\"2020-04-21 00:00:00.000000\",\"2020-04-22 00:00:00.000000\",\"2020-04-23 00:00:00.000000\",\"2020-04-24 00:00:00.000000\",\"2020-04-27 00:00:00.000000\",\"2020-04-28 00:00:00.000000\",\"2020-04-29 00:00:00.000000\",\"2020-04-30 00:00:00.000000\",\"2020-05-01 00:00:00.000000\",\"2020-05-04 00:00:00.000000\",\"2020-05-05 00:00:00.000000\",\"2020-05-06 00:00:00.000000\",\"2020-05-07 00:00:00.000000\",\"2020-05-08 00:00:00.000000\",\"2020-05-11 00:00:00.000000\",\"2020-05-12 00:00:00.000000\",\"2020-05-13 00:00:00.000000\",\"2020-05-14 00:00:00.000000\",\"2020-05-15 00:00:00.000000\",\"2020-05-18 00:00:00.000000\",\"2020-05-19 00:00:00.000000\",\"2020-05-20 00:00:00.000000\",\"2020-05-21 00:00:00.000000\",\"2020-05-22 00:00:00.000000\",\"2020-05-26 00:00:00.000000\",\"2020-05-27 00:00:00.000000\",\"2020-05-28 00:00:00.000000\",\"2020-05-29 00:00:00.000000\",\"2020-06-01 00:00:00.000000\",\"2020-06-02 00:00:00.000000\",\"2020-06-03 00:00:00.000000\",\"2020-06-04 00:00:00.000000\",\"2020-06-05 00:00:00.000000\",\"2020-06-08 00:00:00.000000\",\"2020-06-09 00:00:00.000000\",\"2020-06-10 00:00:00.000000\",\"2020-06-11 00:00:00.000000\",\"2020-06-12 00:00:00.000000\",\"2020-06-15 00:00:00.000000\",\"2020-06-16 00:00:00.000000\",\"2020-06-17 00:00:00.000000\",\"2020-06-18 00:00:00.000000\",\"2020-06-19 00:00:00.000000\",\"2020-06-22 00:00:00.000000\",\"2020-06-23 00:00:00.000000\",\"2020-06-24 00:00:00.000000\",\"2020-06-25 00:00:00.000000\",\"2020-06-26 00:00:00.000000\",\"2020-06-29 00:00:00.000000\",\"2020-06-30 00:00:00.000000\",\"2020-07-01 00:00:00.000000\",\"2020-07-02 00:00:00.000000\",\"2020-07-06 00:00:00.000000\",\"2020-07-07 00:00:00.000000\",\"2020-07-08 00:00:00.000000\",\"2020-07-09 00:00:00.000000\",\"2020-07-10 00:00:00.000000\",\"2020-07-13 00:00:00.000000\",\"2020-07-14 00:00:00.000000\",\"2020-07-15 00:00:00.000000\",\"2020-07-16 00:00:00.000000\",\"2020-07-17 00:00:00.000000\",\"2020-07-20 00:00:00.000000\",\"2020-07-21 00:00:00.000000\",\"2020-07-22 00:00:00.000000\",\"2020-07-23 00:00:00.000000\",\"2020-07-24 00:00:00.000000\",\"2020-07-27 00:00:00.000000\",\"2020-07-28 00:00:00.000000\",\"2020-07-29 00:00:00.000000\",\"2020-07-30 00:00:00.000000\",\"2020-07-31 00:00:00.000000\",\"2020-08-03 00:00:00.000000\",\"2020-08-04 00:00:00.000000\",\"2020-08-05 00:00:00.000000\",\"2020-08-06 00:00:00.000000\",\"2020-08-07 00:00:00.000000\",\"2020-08-10 00:00:00.000000\",\"2020-08-11 00:00:00.000000\",\"2020-08-12 00:00:00.000000\",\"2020-08-13 00:00:00.000000\",\"2020-08-14 00:00:00.000000\",\"2020-08-17 00:00:00.000000\",\"2020-08-18 00:00:00.000000\",\"2020-08-19 00:00:00.000000\",\"2020-08-20 00:00:00.000000\",\"2020-08-21 00:00:00.000000\",\"2020-08-24 00:00:00.000000\",\"2020-08-25 00:00:00.000000\",\"2020-08-26 00:00:00.000000\",\"2020-08-27 00:00:00.000000\",\"2020-08-28 00:00:00.000000\",\"2020-08-31 00:00:00.000000\",\"2020-09-01 00:00:00.000000\",\"2020-09-02 00:00:00.000000\",\"2020-09-03 00:00:00.000000\",\"2020-09-04 00:00:00.000000\",\"2020-09-08 00:00:00.000000\",\"2020-09-09 00:00:00.000000\",\"2020-09-10 00:00:00.000000\",\"2020-09-11 00:00:00.000000\",\"2020-09-14 00:00:00.000000\",\"2020-09-15 00:00:00.000000\",\"2020-09-16 00:00:00.000000\",\"2020-09-17 00:00:00.000000\",\"2020-09-18 00:00:00.000000\",\"2020-09-21 00:00:00.000000\",\"2020-09-22 00:00:00.000000\",\"2020-09-23 00:00:00.000000\",\"2020-09-24 00:00:00.000000\",\"2020-09-25 00:00:00.000000\",\"2020-09-28 00:00:00.000000\",\"2020-09-29 00:00:00.000000\",\"2020-09-30 00:00:00.000000\",\"2020-10-01 00:00:00.000000\",\"2020-10-02 00:00:00.000000\",\"2020-10-05 00:00:00.000000\",\"2020-10-06 00:00:00.000000\",\"2020-10-07 00:00:00.000000\",\"2020-10-08 00:00:00.000000\",\"2020-10-09 00:00:00.000000\",\"2020-10-12 00:00:00.000000\",\"2020-10-13 00:00:00.000000\",\"2020-10-14 00:00:00.000000\",\"2020-10-15 00:00:00.000000\",\"2020-10-16 00:00:00.000000\",\"2020-10-19 00:00:00.000000\",\"2020-10-20 00:00:00.000000\",\"2020-10-21 00:00:00.000000\",\"2020-10-22 00:00:00.000000\",\"2020-10-23 00:00:00.000000\",\"2020-10-26 00:00:00.000000\",\"2020-10-27 00:00:00.000000\",\"2020-10-28 00:00:00.000000\",\"2020-10-29 00:00:00.000000\",\"2020-10-30 00:00:00.000000\",\"2020-11-02 00:00:00.000000\",\"2020-11-03 00:00:00.000000\",\"2020-11-04 00:00:00.000000\",\"2020-11-05 00:00:00.000000\",\"2020-11-06 00:00:00.000000\",\"2020-11-09 00:00:00.000000\",\"2020-11-10 00:00:00.000000\",\"2020-11-11 00:00:00.000000\",\"2020-11-12 00:00:00.000000\",\"2020-11-13 00:00:00.000000\",\"2020-11-16 00:00:00.000000\",\"2020-11-17 00:00:00.000000\",\"2020-11-18 00:00:00.000000\",\"2020-11-19 00:00:00.000000\",\"2020-11-20 00:00:00.000000\",\"2020-11-23 00:00:00.000000\",\"2020-11-24 00:00:00.000000\",\"2020-11-25 00:00:00.000000\",\"2020-11-27 00:00:00.000000\",\"2020-11-30 00:00:00.000000\",\"2020-12-01 00:00:00.000000\",\"2020-12-02 00:00:00.000000\",\"2020-12-03 00:00:00.000000\",\"2020-12-04 00:00:00.000000\"],\"tags\":[[[\"time\",\"time\",null]]]},\"id\":\"3882\",\"type\":\"FactorRange\"},{\"attributes\":{\"bottom_units\":\"screen\",\"coordinates\":null,\"fill_alpha\":0.5,\"fill_color\":\"lightgrey\",\"group\":null,\"left_units\":\"screen\",\"level\":\"overlay\",\"line_alpha\":1.0,\"line_color\":\"black\",\"line_dash\":[4,4],\"line_width\":2,\"right_units\":\"screen\",\"syncable\":false,\"top_units\":\"screen\"},\"id\":\"3906\",\"type\":\"BoxAnnotation\"},{\"attributes\":{},\"id\":\"3890\",\"type\":\"CategoricalScale\"},{\"attributes\":{\"axis\":{\"id\":\"3894\"},\"coordinates\":null,\"grid_line_color\":null,\"group\":null,\"ticker\":null},\"id\":\"3896\",\"type\":\"Grid\"},{\"attributes\":{},\"id\":\"3924\",\"type\":\"CategoricalTickFormatter\"},{\"attributes\":{},\"id\":\"3902\",\"type\":\"PanTool\"},{\"attributes\":{},\"id\":\"3915\",\"type\":\"Selection\"},{\"attributes\":{},\"id\":\"3901\",\"type\":\"SaveTool\"},{\"attributes\":{\"end\":4.9440440060697854,\"reset_end\":4.9440440060697854,\"reset_start\":-0.4558042488619106,\"start\":-0.4558042488619106,\"tags\":[[[\"daily_returns\",\"daily_returns\",null]]]},\"id\":\"3883\",\"type\":\"Range1d\"},{\"attributes\":{},\"id\":\"3925\",\"type\":\"AllLabels\"},{\"attributes\":{\"tools\":[{\"id\":\"3884\"},{\"id\":\"3901\"},{\"id\":\"3902\"},{\"id\":\"3903\"},{\"id\":\"3904\"},{\"id\":\"3905\"}]},\"id\":\"3907\",\"type\":\"Toolbar\"}],\"root_ids\":[\"3880\"]},\"title\":\"Bokeh Application\",\"version\":\"2.4.3\"}};\n",
       "    var render_items = [{\"docid\":\"cc11d338-f8cb-4209-8e06-77746b56cf5f\",\"root_ids\":[\"3880\"],\"roots\":{\"3880\":\"002988b0-67d1-4421-b5f9-58f85c82384c\"}}];\n",
       "    root.Bokeh.embed.embed_items_notebook(docs_json, render_items);\n",
       "  }\n",
       "  if (root.Bokeh !== undefined && root.Bokeh.Panel !== undefined) {\n",
       "    embed_document(root);\n",
       "  } else {\n",
       "    var attempts = 0;\n",
       "    var timer = setInterval(function(root) {\n",
       "      if (root.Bokeh !== undefined && root.Bokeh.Panel !== undefined) {\n",
       "        clearInterval(timer);\n",
       "        embed_document(root);\n",
       "      } else if (document.readyState == \"complete\") {\n",
       "        attempts++;\n",
       "        if (attempts > 200) {\n",
       "          clearInterval(timer);\n",
       "          console.log(\"Bokeh: ERROR: Unable to run BokehJS code because BokehJS library is missing\");\n",
       "        }\n",
       "      }\n",
       "    }, 25, root)\n",
       "  }\n",
       "})(window);</script>"
      ],
      "text/plain": [
       ":Curve   [time]   (daily_returns)"
      ]
     },
     "execution_count": 57,
     "metadata": {
      "application/vnd.holoviews_exec.v0+json": {
       "id": "3880"
      }
     },
     "output_type": "execute_result"
    }
   ],
   "source": [
    "# Create an interactive visaulization with hvplot to plot the cumulative returns for PYPL.\n",
    "# YOUR CODE HERE\n",
    "pypl_dataframe_cum_returns = (1 + pypl_dataframe_daily_returns).cumprod() - 1\n",
    "pypl_dataframe_cum_returns.hvplot.line()"
   ]
  },
  {
   "cell_type": "markdown",
   "metadata": {},
   "source": [
    "## Optimize the SQL Queries\n",
    "\n",
    "For this part of the assignment, you’ll continue to analyze a single asset (PYPL) from the ETF. You’ll use advanced SQL queries to optimize the efficiency of accessing data from the database.\n",
    "\n",
    "Complete the following steps:\n",
    "\n",
    "1. Access the closing prices for PYPL that are greater than 200 by completing the following steps:\n",
    "\n",
    "1. Access the closing prices for PYPL that are greater than 200 by completing the following steps:\n",
    "\n",
    "    - Write a SQL `SELECT` statement to select the dates where the PYPL closing price was higher than 200.0.\n",
    "\n",
    "    - Select the “time” and “close” columns for those dates where the closing price was higher than 200.0.\n",
    "\n",
    "    - Using the SQL statement, read the data from the database into a Pandas DataFrame, and then review the resulting DataFrame.\n",
    "\n",
    "2. Find the top 10 daily returns for PYPL by completing the following steps:\n",
    "\n",
    "    -  Write a SQL statement to find the top 10 PYPL daily returns. Make sure to do the following:\n",
    "\n",
    "        * Use `SELECT` to select only the “time” and “daily_returns” columns.\n",
    "\n",
    "        * Use `ORDER` to sort the results in descending order by the “daily_returns” column.\n",
    "\n",
    "        * Use `LIMIT` to limit the results to the top 10 daily return values.\n",
    "\n",
    "    - Using the SQL statement, read the data from the database into a Pandas DataFrame, and then review the resulting DataFrame.\n"
   ]
  },
  {
   "cell_type": "markdown",
   "metadata": {},
   "source": [
    "### Step 1: Access the closing prices for PYPL that are greater than 200 by completing the following steps:\n",
    "\n",
    "    - Write a SQL `SELECT` statement to select the dates where the PYPL closing price was higher than 200.0.\n",
    "\n",
    "    - Select the “time” and “close” columns for those dates where the closing price was higher than 200.0.\n",
    "\n",
    "    - Using the SQL statement, read the data from the database into a Pandas DataFrame, and then review the resulting DataFrame.\n"
   ]
  },
  {
   "cell_type": "code",
   "execution_count": 63,
   "metadata": {
    "scrolled": true
   },
   "outputs": [
    {
     "data": {
      "text/html": [
       "<div>\n",
       "<style scoped>\n",
       "    .dataframe tbody tr th:only-of-type {\n",
       "        vertical-align: middle;\n",
       "    }\n",
       "\n",
       "    .dataframe tbody tr th {\n",
       "        vertical-align: top;\n",
       "    }\n",
       "\n",
       "    .dataframe thead th {\n",
       "        text-align: right;\n",
       "    }\n",
       "</style>\n",
       "<table border=\"1\" class=\"dataframe\">\n",
       "  <thead>\n",
       "    <tr style=\"text-align: right;\">\n",
       "      <th></th>\n",
       "      <th>close</th>\n",
       "    </tr>\n",
       "    <tr>\n",
       "      <th>time</th>\n",
       "      <th></th>\n",
       "    </tr>\n",
       "  </thead>\n",
       "  <tbody>\n",
       "    <tr>\n",
       "      <th>2020-08-05 00:00:00.000000</th>\n",
       "      <td>202.92</td>\n",
       "    </tr>\n",
       "    <tr>\n",
       "      <th>2020-08-06 00:00:00.000000</th>\n",
       "      <td>204.09</td>\n",
       "    </tr>\n",
       "    <tr>\n",
       "      <th>2020-08-25 00:00:00.000000</th>\n",
       "      <td>201.71</td>\n",
       "    </tr>\n",
       "    <tr>\n",
       "      <th>2020-08-26 00:00:00.000000</th>\n",
       "      <td>203.53</td>\n",
       "    </tr>\n",
       "    <tr>\n",
       "      <th>2020-08-27 00:00:00.000000</th>\n",
       "      <td>204.34</td>\n",
       "    </tr>\n",
       "  </tbody>\n",
       "</table>\n",
       "</div>"
      ],
      "text/plain": [
       "                             close\n",
       "time                              \n",
       "2020-08-05 00:00:00.000000  202.92\n",
       "2020-08-06 00:00:00.000000  204.09\n",
       "2020-08-25 00:00:00.000000  201.71\n",
       "2020-08-26 00:00:00.000000  203.53\n",
       "2020-08-27 00:00:00.000000  204.34"
      ]
     },
     "execution_count": 63,
     "metadata": {},
     "output_type": "execute_result"
    }
   ],
   "source": [
    "# Write a SQL SELECT statement to select the time and close columns \n",
    "# where the PYPL closing price was higher than 200.0.\n",
    "query = '''SELECT time, close\n",
    "FROM PYPL\n",
    "WHERE close > 200.0\n",
    "'''\n",
    "\n",
    "# Using the query, read the data from the database into a Pandas DataFrame\n",
    "pypl_higher_than_200 = pd.read_sql_query(query, engine, index_col='time')\n",
    "\n",
    "\n",
    "# Review the resulting DataFrame\n",
    "# YOUR CODE HERE\n",
    "pypl_higher_than_200.head()"
   ]
  },
  {
   "cell_type": "markdown",
   "metadata": {},
   "source": [
    "### Step 2: Find the top 10 daily returns for PYPL by completing the following steps:\n",
    "\n",
    "    -  Write a SQL statement to find the top 10 PYPL daily returns. Make sure to do the following:\n",
    "\n",
    "        * Use `SELECT` to select only the “time” and “daily_returns” columns.\n",
    "\n",
    "        * Use `ORDER` to sort the results in descending order by the “daily_returns” column.\n",
    "\n",
    "        * Use `LIMIT` to limit the results to the top 10 daily return values.\n",
    "\n",
    "    - Using the SQL statement, read the data from the database into a Pandas DataFrame, and then review the resulting DataFrame.\n"
   ]
  },
  {
   "cell_type": "code",
   "execution_count": 70,
   "metadata": {},
   "outputs": [
    {
     "data": {
      "text/html": [
       "<div>\n",
       "<style scoped>\n",
       "    .dataframe tbody tr th:only-of-type {\n",
       "        vertical-align: middle;\n",
       "    }\n",
       "\n",
       "    .dataframe tbody tr th {\n",
       "        vertical-align: top;\n",
       "    }\n",
       "\n",
       "    .dataframe thead th {\n",
       "        text-align: right;\n",
       "    }\n",
       "</style>\n",
       "<table border=\"1\" class=\"dataframe\">\n",
       "  <thead>\n",
       "    <tr style=\"text-align: right;\">\n",
       "      <th></th>\n",
       "      <th>daily_returns</th>\n",
       "    </tr>\n",
       "    <tr>\n",
       "      <th>time</th>\n",
       "      <th></th>\n",
       "    </tr>\n",
       "  </thead>\n",
       "  <tbody>\n",
       "    <tr>\n",
       "      <th>2020-12-04 00:00:00.000000</th>\n",
       "      <td>0.011901</td>\n",
       "    </tr>\n",
       "    <tr>\n",
       "      <th>2020-12-03 00:00:00.000000</th>\n",
       "      <td>0.009499</td>\n",
       "    </tr>\n",
       "    <tr>\n",
       "      <th>2020-12-02 00:00:00.000000</th>\n",
       "      <td>-0.017827</td>\n",
       "    </tr>\n",
       "    <tr>\n",
       "      <th>2020-12-01 00:00:00.000000</th>\n",
       "      <td>0.010831</td>\n",
       "    </tr>\n",
       "    <tr>\n",
       "      <th>2020-11-30 00:00:00.000000</th>\n",
       "      <td>0.013629</td>\n",
       "    </tr>\n",
       "    <tr>\n",
       "      <th>2020-11-27 00:00:00.000000</th>\n",
       "      <td>-0.014274</td>\n",
       "    </tr>\n",
       "    <tr>\n",
       "      <th>2020-11-25 00:00:00.000000</th>\n",
       "      <td>0.040680</td>\n",
       "    </tr>\n",
       "    <tr>\n",
       "      <th>2020-11-24 00:00:00.000000</th>\n",
       "      <td>0.025794</td>\n",
       "    </tr>\n",
       "    <tr>\n",
       "      <th>2020-11-23 00:00:00.000000</th>\n",
       "      <td>0.042571</td>\n",
       "    </tr>\n",
       "    <tr>\n",
       "      <th>2020-11-20 00:00:00.000000</th>\n",
       "      <td>0.009116</td>\n",
       "    </tr>\n",
       "  </tbody>\n",
       "</table>\n",
       "</div>"
      ],
      "text/plain": [
       "                            daily_returns\n",
       "time                                     \n",
       "2020-12-04 00:00:00.000000       0.011901\n",
       "2020-12-03 00:00:00.000000       0.009499\n",
       "2020-12-02 00:00:00.000000      -0.017827\n",
       "2020-12-01 00:00:00.000000       0.010831\n",
       "2020-11-30 00:00:00.000000       0.013629\n",
       "2020-11-27 00:00:00.000000      -0.014274\n",
       "2020-11-25 00:00:00.000000       0.040680\n",
       "2020-11-24 00:00:00.000000       0.025794\n",
       "2020-11-23 00:00:00.000000       0.042571\n",
       "2020-11-20 00:00:00.000000       0.009116"
      ]
     },
     "execution_count": 70,
     "metadata": {},
     "output_type": "execute_result"
    }
   ],
   "source": [
    "# Write a SQL SELECT statement to select the time and daily_returns columns\n",
    "# Sort the results in descending order and return only the top 10 return values\n",
    "query = '''\n",
    "SELECT   time, daily_returns\n",
    "FROM     PYPL\n",
    "ORDER BY 1 DESC\n",
    "LIMIT    10\n",
    "'''\n",
    "\n",
    "# Using the query, read the data from the database into a Pandas DataFrame\n",
    "pypl_top_10_returns = pd.read_sql_query(query, engine, index_col='time')\n",
    "\n",
    "# Review the resulting DataFrame\n",
    "# YOUR CODE HERE\n",
    "pypl_top_10_returns"
   ]
  },
  {
   "cell_type": "markdown",
   "metadata": {},
   "source": [
    "## Analyze the Fintech ETF Portfolio\n",
    "\n",
    "For this part of the assignment, you’ll build the entire ETF portfolio and then evaluate its performance. To do so, you’ll build the ETF portfolio by using SQL joins to combine all the data for each asset.\n",
    "\n",
    "Complete the following steps:\n",
    "\n",
    "1. Write a SQL query to join each table in the portfolio into a single DataFrame. To do so, complete the following steps:\n",
    "\n",
    "    - Use a SQL inner join to join each table on the “time” column. Access the “time” column in the `GDOT` table via the `GDOT.time` syntax. Access the “time” columns from the other tables via similar syntax.\n",
    "\n",
    "    - Using the SQL query, read the data from the database into a Pandas DataFrame. Review the resulting DataFrame.\n",
    "\n",
    "2. Create a DataFrame that averages the “daily_returns” columns for all four assets. Review the resulting DataFrame.\n",
    "\n",
    "    > **Hint** Assuming that this ETF contains equally weighted returns, you can average the returns for each asset to get the average returns of the portfolio. You can then use the average returns of the portfolio to calculate the annualized returns and the cumulative returns. For the calculation to get the average daily returns for the portfolio, use the following code:\n",
    "    >\n",
    "    > ```python\n",
    "    > etf_portfolio_returns = etf_portfolio['daily_returns'].mean(axis=1)\n",
    "    > ```\n",
    "    >\n",
    "    > You can use the average daily returns of the portfolio the same way that you used the daily returns of a single asset.\n",
    "\n",
    "3. Use the average daily returns in the `etf_portfolio_returns` DataFrame to calculate the annualized returns for the portfolio. Display the annualized return value of the ETF portfolio.\n",
    "\n",
    "> **Hint**  To calculate the annualized returns, multiply the mean of the `etf_portfolio_returns` values by 252.\n",
    ">\n",
    "> To convert the decimal values to percentages, multiply the results by 100.\n",
    "\n",
    "4. Use the average daily returns in the `etf_portfolio_returns` DataFrame to calculate the cumulative returns of the ETF portfolio.\n",
    "\n",
    "5. Using hvPlot, create an interactive line plot that visualizes the cumulative return values of the ETF portfolio. Reflect the “time” column of the DataFrame on the x-axis. Make sure that you professionally style and format your visualization to enhance its readability.\n"
   ]
  },
  {
   "cell_type": "markdown",
   "metadata": {},
   "source": [
    "### Step 1: Write a SQL query to join each table in the portfolio into a single DataFrame. To do so, complete the following steps:\n",
    "\n",
    "    - Use a SQL inner join to join each table on the “time” column. Access the “time” column in the `GDOT` table via the `GDOT.time` syntax. Access the “time” columns from the other tables via similar syntax.\n",
    "\n",
    "    - Using the SQL query, read the data from the database into a Pandas DataFrame. Review the resulting DataFrame."
   ]
  },
  {
   "cell_type": "code",
   "execution_count": 73,
   "metadata": {},
   "outputs": [
    {
     "ename": "OperationalError",
     "evalue": "(sqlite3.OperationalError) near \"*\": syntax error\n[SQL: \nSELECT *\nFROM engine\nINNER JOIN *\n]\n(Background on this error at: https://sqlalche.me/e/14/e3q8)",
     "output_type": "error",
     "traceback": [
      "\u001b[0;31m---------------------------------------------------------------------------\u001b[0m",
      "\u001b[0;31mOperationalError\u001b[0m                          Traceback (most recent call last)",
      "\u001b[0;32m/opt/anaconda3/envs/dev/lib/python3.7/site-packages/sqlalchemy/engine/base.py\u001b[0m in \u001b[0;36m_execute_context\u001b[0;34m(self, dialect, constructor, statement, parameters, execution_options, *args, **kw)\u001b[0m\n\u001b[1;32m   1819\u001b[0m                     self.dialect.do_execute(\n\u001b[0;32m-> 1820\u001b[0;31m                         \u001b[0mcursor\u001b[0m\u001b[0;34m,\u001b[0m \u001b[0mstatement\u001b[0m\u001b[0;34m,\u001b[0m \u001b[0mparameters\u001b[0m\u001b[0;34m,\u001b[0m \u001b[0mcontext\u001b[0m\u001b[0;34m\u001b[0m\u001b[0;34m\u001b[0m\u001b[0m\n\u001b[0m\u001b[1;32m   1821\u001b[0m                     )\n",
      "\u001b[0;32m/opt/anaconda3/envs/dev/lib/python3.7/site-packages/sqlalchemy/engine/default.py\u001b[0m in \u001b[0;36mdo_execute\u001b[0;34m(self, cursor, statement, parameters, context)\u001b[0m\n\u001b[1;32m    731\u001b[0m     \u001b[0;32mdef\u001b[0m \u001b[0mdo_execute\u001b[0m\u001b[0;34m(\u001b[0m\u001b[0mself\u001b[0m\u001b[0;34m,\u001b[0m \u001b[0mcursor\u001b[0m\u001b[0;34m,\u001b[0m \u001b[0mstatement\u001b[0m\u001b[0;34m,\u001b[0m \u001b[0mparameters\u001b[0m\u001b[0;34m,\u001b[0m \u001b[0mcontext\u001b[0m\u001b[0;34m=\u001b[0m\u001b[0;32mNone\u001b[0m\u001b[0;34m)\u001b[0m\u001b[0;34m:\u001b[0m\u001b[0;34m\u001b[0m\u001b[0;34m\u001b[0m\u001b[0m\n\u001b[0;32m--> 732\u001b[0;31m         \u001b[0mcursor\u001b[0m\u001b[0;34m.\u001b[0m\u001b[0mexecute\u001b[0m\u001b[0;34m(\u001b[0m\u001b[0mstatement\u001b[0m\u001b[0;34m,\u001b[0m \u001b[0mparameters\u001b[0m\u001b[0;34m)\u001b[0m\u001b[0;34m\u001b[0m\u001b[0;34m\u001b[0m\u001b[0m\n\u001b[0m\u001b[1;32m    733\u001b[0m \u001b[0;34m\u001b[0m\u001b[0m\n",
      "\u001b[0;31mOperationalError\u001b[0m: near \"*\": syntax error",
      "\nThe above exception was the direct cause of the following exception:\n",
      "\u001b[0;31mOperationalError\u001b[0m                          Traceback (most recent call last)",
      "\u001b[0;32m/var/folders/pb/s87tvg0j5wnb0_qkh2hvhgwr0000gn/T/ipykernel_3927/2304975101.py\u001b[0m in \u001b[0;36m<module>\u001b[0;34m\u001b[0m\n\u001b[1;32m      4\u001b[0m \u001b[0mINNER\u001b[0m \u001b[0mJOIN\u001b[0m \u001b[0;34m*\u001b[0m\u001b[0;34m\u001b[0m\u001b[0;34m\u001b[0m\u001b[0m\n\u001b[1;32m      5\u001b[0m \"\"\"\n\u001b[0;32m----> 6\u001b[0;31m \u001b[0mresults\u001b[0m \u001b[0;34m=\u001b[0m \u001b[0mengine\u001b[0m\u001b[0;34m.\u001b[0m\u001b[0mexecute\u001b[0m\u001b[0;34m(\u001b[0m\u001b[0mquery\u001b[0m\u001b[0;34m)\u001b[0m\u001b[0;34m\u001b[0m\u001b[0;34m\u001b[0m\u001b[0m\n\u001b[0m\u001b[1;32m      7\u001b[0m \u001b[0mlist\u001b[0m\u001b[0;34m(\u001b[0m\u001b[0mresults\u001b[0m\u001b[0;34m)\u001b[0m\u001b[0;34m\u001b[0m\u001b[0;34m\u001b[0m\u001b[0m\n",
      "\u001b[0;32m<string>\u001b[0m in \u001b[0;36mexecute\u001b[0;34m(self, statement, *multiparams, **params)\u001b[0m\n",
      "\u001b[0;32m/opt/anaconda3/envs/dev/lib/python3.7/site-packages/sqlalchemy/util/deprecations.py\u001b[0m in \u001b[0;36mwarned\u001b[0;34m(fn, *args, **kwargs)\u001b[0m\n\u001b[1;32m    400\u001b[0m         \u001b[0;32mif\u001b[0m \u001b[0;32mnot\u001b[0m \u001b[0mskip_warning\u001b[0m\u001b[0;34m:\u001b[0m\u001b[0;34m\u001b[0m\u001b[0;34m\u001b[0m\u001b[0m\n\u001b[1;32m    401\u001b[0m             \u001b[0m_warn_with_version\u001b[0m\u001b[0;34m(\u001b[0m\u001b[0mmessage\u001b[0m\u001b[0;34m,\u001b[0m \u001b[0mversion\u001b[0m\u001b[0;34m,\u001b[0m \u001b[0mwtype\u001b[0m\u001b[0;34m,\u001b[0m \u001b[0mstacklevel\u001b[0m\u001b[0;34m=\u001b[0m\u001b[0;36m3\u001b[0m\u001b[0;34m)\u001b[0m\u001b[0;34m\u001b[0m\u001b[0;34m\u001b[0m\u001b[0m\n\u001b[0;32m--> 402\u001b[0;31m         \u001b[0;32mreturn\u001b[0m \u001b[0mfn\u001b[0m\u001b[0;34m(\u001b[0m\u001b[0;34m*\u001b[0m\u001b[0margs\u001b[0m\u001b[0;34m,\u001b[0m \u001b[0;34m**\u001b[0m\u001b[0mkwargs\u001b[0m\u001b[0;34m)\u001b[0m\u001b[0;34m\u001b[0m\u001b[0;34m\u001b[0m\u001b[0m\n\u001b[0m\u001b[1;32m    403\u001b[0m \u001b[0;34m\u001b[0m\u001b[0m\n\u001b[1;32m    404\u001b[0m     \u001b[0mdoc\u001b[0m \u001b[0;34m=\u001b[0m \u001b[0mfunc\u001b[0m\u001b[0;34m.\u001b[0m\u001b[0m__doc__\u001b[0m \u001b[0;32mis\u001b[0m \u001b[0;32mnot\u001b[0m \u001b[0;32mNone\u001b[0m \u001b[0;32mand\u001b[0m \u001b[0mfunc\u001b[0m\u001b[0;34m.\u001b[0m\u001b[0m__doc__\u001b[0m \u001b[0;32mor\u001b[0m \u001b[0;34m\"\"\u001b[0m\u001b[0;34m\u001b[0m\u001b[0;34m\u001b[0m\u001b[0m\n",
      "\u001b[0;32m/opt/anaconda3/envs/dev/lib/python3.7/site-packages/sqlalchemy/engine/base.py\u001b[0m in \u001b[0;36mexecute\u001b[0;34m(self, statement, *multiparams, **params)\u001b[0m\n\u001b[1;32m   3174\u001b[0m         \"\"\"\n\u001b[1;32m   3175\u001b[0m         \u001b[0mconnection\u001b[0m \u001b[0;34m=\u001b[0m \u001b[0mself\u001b[0m\u001b[0;34m.\u001b[0m\u001b[0mconnect\u001b[0m\u001b[0;34m(\u001b[0m\u001b[0mclose_with_result\u001b[0m\u001b[0;34m=\u001b[0m\u001b[0;32mTrue\u001b[0m\u001b[0;34m)\u001b[0m\u001b[0;34m\u001b[0m\u001b[0;34m\u001b[0m\u001b[0m\n\u001b[0;32m-> 3176\u001b[0;31m         \u001b[0;32mreturn\u001b[0m \u001b[0mconnection\u001b[0m\u001b[0;34m.\u001b[0m\u001b[0mexecute\u001b[0m\u001b[0;34m(\u001b[0m\u001b[0mstatement\u001b[0m\u001b[0;34m,\u001b[0m \u001b[0;34m*\u001b[0m\u001b[0mmultiparams\u001b[0m\u001b[0;34m,\u001b[0m \u001b[0;34m**\u001b[0m\u001b[0mparams\u001b[0m\u001b[0;34m)\u001b[0m\u001b[0;34m\u001b[0m\u001b[0;34m\u001b[0m\u001b[0m\n\u001b[0m\u001b[1;32m   3177\u001b[0m \u001b[0;34m\u001b[0m\u001b[0m\n\u001b[1;32m   3178\u001b[0m     @util.deprecated_20(\n",
      "\u001b[0;32m/opt/anaconda3/envs/dev/lib/python3.7/site-packages/sqlalchemy/engine/base.py\u001b[0m in \u001b[0;36mexecute\u001b[0;34m(self, statement, *multiparams, **params)\u001b[0m\n\u001b[1;32m   1294\u001b[0m                 \u001b[0mparams\u001b[0m\u001b[0;34m,\u001b[0m\u001b[0;34m\u001b[0m\u001b[0;34m\u001b[0m\u001b[0m\n\u001b[1;32m   1295\u001b[0m                 \u001b[0m_EMPTY_EXECUTION_OPTS\u001b[0m\u001b[0;34m,\u001b[0m\u001b[0;34m\u001b[0m\u001b[0;34m\u001b[0m\u001b[0m\n\u001b[0;32m-> 1296\u001b[0;31m                 \u001b[0mfuture\u001b[0m\u001b[0;34m=\u001b[0m\u001b[0;32mFalse\u001b[0m\u001b[0;34m,\u001b[0m\u001b[0;34m\u001b[0m\u001b[0;34m\u001b[0m\u001b[0m\n\u001b[0m\u001b[1;32m   1297\u001b[0m             )\n\u001b[1;32m   1298\u001b[0m \u001b[0;34m\u001b[0m\u001b[0m\n",
      "\u001b[0;32m/opt/anaconda3/envs/dev/lib/python3.7/site-packages/sqlalchemy/engine/base.py\u001b[0m in \u001b[0;36m_exec_driver_sql\u001b[0;34m(self, statement, multiparams, params, execution_options, future)\u001b[0m\n\u001b[1;32m   1600\u001b[0m             \u001b[0mexecution_options\u001b[0m\u001b[0;34m,\u001b[0m\u001b[0;34m\u001b[0m\u001b[0;34m\u001b[0m\u001b[0m\n\u001b[1;32m   1601\u001b[0m             \u001b[0mstatement\u001b[0m\u001b[0;34m,\u001b[0m\u001b[0;34m\u001b[0m\u001b[0;34m\u001b[0m\u001b[0m\n\u001b[0;32m-> 1602\u001b[0;31m             \u001b[0mdistilled_parameters\u001b[0m\u001b[0;34m,\u001b[0m\u001b[0;34m\u001b[0m\u001b[0;34m\u001b[0m\u001b[0m\n\u001b[0m\u001b[1;32m   1603\u001b[0m         )\n\u001b[1;32m   1604\u001b[0m \u001b[0;34m\u001b[0m\u001b[0m\n",
      "\u001b[0;32m/opt/anaconda3/envs/dev/lib/python3.7/site-packages/sqlalchemy/engine/base.py\u001b[0m in \u001b[0;36m_execute_context\u001b[0;34m(self, dialect, constructor, statement, parameters, execution_options, *args, **kw)\u001b[0m\n\u001b[1;32m   1861\u001b[0m         \u001b[0;32mexcept\u001b[0m \u001b[0mBaseException\u001b[0m \u001b[0;32mas\u001b[0m \u001b[0me\u001b[0m\u001b[0;34m:\u001b[0m\u001b[0;34m\u001b[0m\u001b[0;34m\u001b[0m\u001b[0m\n\u001b[1;32m   1862\u001b[0m             self._handle_dbapi_exception(\n\u001b[0;32m-> 1863\u001b[0;31m                 \u001b[0me\u001b[0m\u001b[0;34m,\u001b[0m \u001b[0mstatement\u001b[0m\u001b[0;34m,\u001b[0m \u001b[0mparameters\u001b[0m\u001b[0;34m,\u001b[0m \u001b[0mcursor\u001b[0m\u001b[0;34m,\u001b[0m \u001b[0mcontext\u001b[0m\u001b[0;34m\u001b[0m\u001b[0;34m\u001b[0m\u001b[0m\n\u001b[0m\u001b[1;32m   1864\u001b[0m             )\n\u001b[1;32m   1865\u001b[0m \u001b[0;34m\u001b[0m\u001b[0m\n",
      "\u001b[0;32m/opt/anaconda3/envs/dev/lib/python3.7/site-packages/sqlalchemy/engine/base.py\u001b[0m in \u001b[0;36m_handle_dbapi_exception\u001b[0;34m(self, e, statement, parameters, cursor, context)\u001b[0m\n\u001b[1;32m   2042\u001b[0m             \u001b[0;32melif\u001b[0m \u001b[0mshould_wrap\u001b[0m\u001b[0;34m:\u001b[0m\u001b[0;34m\u001b[0m\u001b[0;34m\u001b[0m\u001b[0m\n\u001b[1;32m   2043\u001b[0m                 util.raise_(\n\u001b[0;32m-> 2044\u001b[0;31m                     \u001b[0msqlalchemy_exception\u001b[0m\u001b[0;34m,\u001b[0m \u001b[0mwith_traceback\u001b[0m\u001b[0;34m=\u001b[0m\u001b[0mexc_info\u001b[0m\u001b[0;34m[\u001b[0m\u001b[0;36m2\u001b[0m\u001b[0;34m]\u001b[0m\u001b[0;34m,\u001b[0m \u001b[0mfrom_\u001b[0m\u001b[0;34m=\u001b[0m\u001b[0me\u001b[0m\u001b[0;34m\u001b[0m\u001b[0;34m\u001b[0m\u001b[0m\n\u001b[0m\u001b[1;32m   2045\u001b[0m                 )\n\u001b[1;32m   2046\u001b[0m             \u001b[0;32melse\u001b[0m\u001b[0;34m:\u001b[0m\u001b[0;34m\u001b[0m\u001b[0;34m\u001b[0m\u001b[0m\n",
      "\u001b[0;32m/opt/anaconda3/envs/dev/lib/python3.7/site-packages/sqlalchemy/util/compat.py\u001b[0m in \u001b[0;36mraise_\u001b[0;34m(***failed resolving arguments***)\u001b[0m\n\u001b[1;32m    206\u001b[0m \u001b[0;34m\u001b[0m\u001b[0m\n\u001b[1;32m    207\u001b[0m         \u001b[0;32mtry\u001b[0m\u001b[0;34m:\u001b[0m\u001b[0;34m\u001b[0m\u001b[0;34m\u001b[0m\u001b[0m\n\u001b[0;32m--> 208\u001b[0;31m             \u001b[0;32mraise\u001b[0m \u001b[0mexception\u001b[0m\u001b[0;34m\u001b[0m\u001b[0;34m\u001b[0m\u001b[0m\n\u001b[0m\u001b[1;32m    209\u001b[0m         \u001b[0;32mfinally\u001b[0m\u001b[0;34m:\u001b[0m\u001b[0;34m\u001b[0m\u001b[0;34m\u001b[0m\u001b[0m\n\u001b[1;32m    210\u001b[0m             \u001b[0;31m# credit to\u001b[0m\u001b[0;34m\u001b[0m\u001b[0;34m\u001b[0m\u001b[0;34m\u001b[0m\u001b[0m\n",
      "\u001b[0;32m/opt/anaconda3/envs/dev/lib/python3.7/site-packages/sqlalchemy/engine/base.py\u001b[0m in \u001b[0;36m_execute_context\u001b[0;34m(self, dialect, constructor, statement, parameters, execution_options, *args, **kw)\u001b[0m\n\u001b[1;32m   1818\u001b[0m                 \u001b[0;32mif\u001b[0m \u001b[0;32mnot\u001b[0m \u001b[0mevt_handled\u001b[0m\u001b[0;34m:\u001b[0m\u001b[0;34m\u001b[0m\u001b[0;34m\u001b[0m\u001b[0m\n\u001b[1;32m   1819\u001b[0m                     self.dialect.do_execute(\n\u001b[0;32m-> 1820\u001b[0;31m                         \u001b[0mcursor\u001b[0m\u001b[0;34m,\u001b[0m \u001b[0mstatement\u001b[0m\u001b[0;34m,\u001b[0m \u001b[0mparameters\u001b[0m\u001b[0;34m,\u001b[0m \u001b[0mcontext\u001b[0m\u001b[0;34m\u001b[0m\u001b[0;34m\u001b[0m\u001b[0m\n\u001b[0m\u001b[1;32m   1821\u001b[0m                     )\n\u001b[1;32m   1822\u001b[0m \u001b[0;34m\u001b[0m\u001b[0m\n",
      "\u001b[0;32m/opt/anaconda3/envs/dev/lib/python3.7/site-packages/sqlalchemy/engine/default.py\u001b[0m in \u001b[0;36mdo_execute\u001b[0;34m(self, cursor, statement, parameters, context)\u001b[0m\n\u001b[1;32m    730\u001b[0m \u001b[0;34m\u001b[0m\u001b[0m\n\u001b[1;32m    731\u001b[0m     \u001b[0;32mdef\u001b[0m \u001b[0mdo_execute\u001b[0m\u001b[0;34m(\u001b[0m\u001b[0mself\u001b[0m\u001b[0;34m,\u001b[0m \u001b[0mcursor\u001b[0m\u001b[0;34m,\u001b[0m \u001b[0mstatement\u001b[0m\u001b[0;34m,\u001b[0m \u001b[0mparameters\u001b[0m\u001b[0;34m,\u001b[0m \u001b[0mcontext\u001b[0m\u001b[0;34m=\u001b[0m\u001b[0;32mNone\u001b[0m\u001b[0;34m)\u001b[0m\u001b[0;34m:\u001b[0m\u001b[0;34m\u001b[0m\u001b[0;34m\u001b[0m\u001b[0m\n\u001b[0;32m--> 732\u001b[0;31m         \u001b[0mcursor\u001b[0m\u001b[0;34m.\u001b[0m\u001b[0mexecute\u001b[0m\u001b[0;34m(\u001b[0m\u001b[0mstatement\u001b[0m\u001b[0;34m,\u001b[0m \u001b[0mparameters\u001b[0m\u001b[0;34m)\u001b[0m\u001b[0;34m\u001b[0m\u001b[0;34m\u001b[0m\u001b[0m\n\u001b[0m\u001b[1;32m    733\u001b[0m \u001b[0;34m\u001b[0m\u001b[0m\n\u001b[1;32m    734\u001b[0m     \u001b[0;32mdef\u001b[0m \u001b[0mdo_execute_no_params\u001b[0m\u001b[0;34m(\u001b[0m\u001b[0mself\u001b[0m\u001b[0;34m,\u001b[0m \u001b[0mcursor\u001b[0m\u001b[0;34m,\u001b[0m \u001b[0mstatement\u001b[0m\u001b[0;34m,\u001b[0m \u001b[0mcontext\u001b[0m\u001b[0;34m=\u001b[0m\u001b[0;32mNone\u001b[0m\u001b[0;34m)\u001b[0m\u001b[0;34m:\u001b[0m\u001b[0;34m\u001b[0m\u001b[0;34m\u001b[0m\u001b[0m\n",
      "\u001b[0;31mOperationalError\u001b[0m: (sqlite3.OperationalError) near \"*\": syntax error\n[SQL: \nSELECT *\nFROM engine\nINNER JOIN *\n]\n(Background on this error at: https://sqlalche.me/e/14/e3q8)"
     ]
    }
   ],
   "source": [
    "query = \"\"\"\n",
    "SELECT *\n",
    "FROM engine\n",
    "INNER JOIN time\n",
    "ON engine.\n",
    "\"\"\"\n",
    "results = engine.execute(query)\n",
    "list(results)"
   ]
  },
  {
   "cell_type": "code",
   "execution_count": null,
   "metadata": {
    "scrolled": true
   },
   "outputs": [],
   "source": [
    "# Wreate a SQL query to join each table in the portfolio into a single DataFrame \n",
    "# Use the time column from each table as the basis for the join\n",
    "query = \"\"\"\n",
    "SELECT *\n",
    "FROM engine\n",
    "INNER JOIN time\n",
    "\"\"\"\n",
    "\n",
    "# Using the query, read the data from the database into a Pandas DataFrame\n",
    "etf_portfolio = # YOUR CODE HERE\n",
    "\n",
    "# Review the resulting DataFrame\n",
    "# YOUR CODE HERE\n"
   ]
  },
  {
   "cell_type": "markdown",
   "metadata": {},
   "source": [
    "### Step 2: Create a DataFrame that averages the “daily_returns” columns for all four assets. Review the resulting DataFrame."
   ]
  },
  {
   "cell_type": "code",
   "execution_count": null,
   "metadata": {
    "scrolled": true
   },
   "outputs": [],
   "source": [
    "# Create a DataFrame that displays the mean value of the “daily_returns” columns for all four assets.\n",
    "etf_portfolio_returns = # YOUR CODE HERE\n",
    "\n",
    "# Review the resulting DataFrame\n",
    "# YOUR CODE HERE\n"
   ]
  },
  {
   "cell_type": "markdown",
   "metadata": {},
   "source": [
    "### Step 3: Use the average daily returns in the etf_portfolio_returns DataFrame to calculate the annualized returns for the portfolio. Display the annualized return value of the ETF portfolio."
   ]
  },
  {
   "cell_type": "code",
   "execution_count": null,
   "metadata": {},
   "outputs": [],
   "source": [
    "# Use the average daily returns provided by the etf_portfolio_returns DataFrame \n",
    "# to calculate the annualized return for the portfolio. \n",
    "annualized_etf_portfolio_returns = # YOUR CODE HERE\n",
    "\n",
    "# Display the annualized return value of the ETF portfolio.\n",
    "# YOUR CODE HERE\n"
   ]
  },
  {
   "cell_type": "markdown",
   "metadata": {},
   "source": [
    "### Step 4: Use the average daily returns in the `etf_portfolio_returns` DataFrame to calculate the cumulative returns of the ETF portfolio."
   ]
  },
  {
   "cell_type": "code",
   "execution_count": null,
   "metadata": {},
   "outputs": [],
   "source": [
    "# Use the average daily returns provided by the etf_portfolio_returns DataFrame \n",
    "# to calculate the cumulative returns\n",
    "etf_cumulative_returns = # YOUR CODE HERE\n",
    "\n",
    "# Display the final cumulative return value\n",
    "# YOUR CODE HERE\n"
   ]
  },
  {
   "cell_type": "markdown",
   "metadata": {},
   "source": [
    "### Step 5: Using hvPlot, create an interactive line plot that visualizes the cumulative return values of the ETF portfolio. Reflect the “time” column of the DataFrame on the x-axis. Make sure that you professionally style and format your visualization to enhance its readability."
   ]
  },
  {
   "cell_type": "code",
   "execution_count": null,
   "metadata": {},
   "outputs": [],
   "source": [
    "# Using hvplot, create an interactive line plot that visualizes the ETF portfolios cumulative return values.\n",
    "# YOUR CODE HERE\n"
   ]
  },
  {
   "cell_type": "code",
   "execution_count": null,
   "metadata": {},
   "outputs": [],
   "source": []
  }
 ],
 "metadata": {
  "kernelspec": {
   "display_name": "dev",
   "language": "python",
   "name": "dev"
  },
  "language_info": {
   "codemirror_mode": {
    "name": "ipython",
    "version": 3
   },
   "file_extension": ".py",
   "mimetype": "text/x-python",
   "name": "python",
   "nbconvert_exporter": "python",
   "pygments_lexer": "ipython3",
   "version": "3.7.13"
  }
 },
 "nbformat": 4,
 "nbformat_minor": 4
}
